{
  "cells": [
    {
      "cell_type": "markdown",
      "metadata": {
        "id": "OBufdXCn5xiQ"
      },
      "source": [
        "# Environment setup"
      ]
    },
    {
      "cell_type": "code",
      "execution_count": 1,
      "metadata": {
        "colab": {
          "base_uri": "https://localhost:8080/"
        },
        "id": "fahZhE672UPm",
        "outputId": "e492f6e2-70af-429a-977c-fe74be43caa2"
      },
      "outputs": [
        {
          "name": "stdout",
          "output_type": "stream",
          "text": [
            "Mounted at /content/drive\n",
            "/content/drive/MyDrive/Colab Notebooks/ECE219/Project 4\n"
          ]
        }
      ],
      "source": [
        "from google.colab import drive\n",
        "drive.mount('/content/drive')\n",
        "%cd drive/MyDrive/Colab\\ Notebooks/ECE219/Project\\ 4"
      ]
    },
    {
      "cell_type": "markdown",
      "metadata": {
        "id": "IRoBXPEF50mI"
      },
      "source": [
        "# Utils"
      ]
    },
    {
      "cell_type": "code",
      "execution_count": 2,
      "metadata": {
        "id": "LPj2BYtS51mb"
      },
      "outputs": [],
      "source": [
        "import pandas as pd\n",
        "import numpy as np\n",
        "import matplotlib.pyplot as plt\n",
        "import json\n",
        "import os\n",
        "import datetime\n",
        "import matplotlib.pyplot as plt"
      ]
    },
    {
      "cell_type": "code",
      "execution_count": 3,
      "metadata": {
        "colab": {
          "base_uri": "https://localhost:8080/"
        },
        "id": "7dYNFKyViKhV",
        "outputId": "aef5e7ea-ca6d-4bfa-88ba-567a7ebeff65"
      },
      "outputs": [
        {
          "data": {
            "text/plain": [
              "['Collecting scikit-learn==1.4',\n",
              " '  Downloading scikit_learn-1.4.0-1-cp310-cp310-manylinux_2_17_x86_64.manylinux2014_x86_64.whl (12.1 MB)',\n",
              " '\\x1b[?25l     \\x1b[90m━━━━━━━━━━━━━━━━━━━━━━━━━━━━━━━━━━━━━━━━\\x1b[0m \\x1b[32m0.0/12.1 MB\\x1b[0m \\x1b[31m?\\x1b[0m eta \\x1b[36m-:--:--\\x1b[0m',\n",
              " '\\x1b[2K     \\x1b[90m━━━━━━━━━━━━━━━━━━━━━━━━━━━━━━━━━━━━━━━━\\x1b[0m \\x1b[32m0.0/12.1 MB\\x1b[0m \\x1b[31m1.0 MB/s\\x1b[0m eta \\x1b[36m0:00:12\\x1b[0m',\n",
              " '\\x1b[2K     \\x1b[90m━━━━━━━━━━━━━━━━━━━━━━━━━━━━━━━━━━━━━━━━\\x1b[0m \\x1b[32m0.1/12.1 MB\\x1b[0m \\x1b[31m2.0 MB/s\\x1b[0m eta \\x1b[36m0:00:07\\x1b[0m',\n",
              " '\\x1b[2K     \\x1b[91m━\\x1b[0m\\x1b[90m╺\\x1b[0m\\x1b[90m━━━━━━━━━━━━━━━━━━━━━━━━━━━━━━━━━━━━━━\\x1b[0m \\x1b[32m0.4/12.1 MB\\x1b[0m \\x1b[31m3.5 MB/s\\x1b[0m eta \\x1b[36m0:00:04\\x1b[0m',\n",
              " '\\x1b[2K     \\x1b[91m━\\x1b[0m\\x1b[91m╸\\x1b[0m\\x1b[90m━━━━━━━━━━━━━━━━━━━━━━━━━━━━━━━━━━━━━━\\x1b[0m \\x1b[32m0.5/12.1 MB\\x1b[0m \\x1b[31m3.9 MB/s\\x1b[0m eta \\x1b[36m0:00:03\\x1b[0m',\n",
              " '\\x1b[2K     \\x1b[91m━━━━\\x1b[0m\\x1b[91m╸\\x1b[0m\\x1b[90m━━━━━━━━━━━━━━━━━━━━━━━━━━━━━━━━━━━\\x1b[0m \\x1b[32m1.4/12.1 MB\\x1b[0m \\x1b[31m7.5 MB/s\\x1b[0m eta \\x1b[36m0:00:02\\x1b[0m',\n",
              " '\\x1b[2K     \\x1b[91m━━━━━\\x1b[0m\\x1b[91m╸\\x1b[0m\\x1b[90m━━━━━━━━━━━━━━━━━━━━━━━━━━━━━━━━━━\\x1b[0m \\x1b[32m1.8/12.1 MB\\x1b[0m \\x1b[31m8.1 MB/s\\x1b[0m eta \\x1b[36m0:00:02\\x1b[0m',\n",
              " '\\x1b[2K     \\x1b[91m━━━━━━━\\x1b[0m\\x1b[90m╺\\x1b[0m\\x1b[90m━━━━━━━━━━━━━━━━━━━━━━━━━━━━━━━━\\x1b[0m \\x1b[32m2.2/12.1 MB\\x1b[0m \\x1b[31m8.6 MB/s\\x1b[0m eta \\x1b[36m0:00:02\\x1b[0m',\n",
              " '\\x1b[2K     \\x1b[91m━━━━━━━━\\x1b[0m\\x1b[90m╺\\x1b[0m\\x1b[90m━━━━━━━━━━━━━━━━━━━━━━━━━━━━━━━\\x1b[0m \\x1b[32m2.5/12.1 MB\\x1b[0m \\x1b[31m8.7 MB/s\\x1b[0m eta \\x1b[36m0:00:02\\x1b[0m',\n",
              " '\\x1b[2K     \\x1b[91m━━━━━━━━━\\x1b[0m\\x1b[91m╸\\x1b[0m\\x1b[90m━━━━━━━━━━━━━━━━━━━━━━━━━━━━━━\\x1b[0m \\x1b[32m3.0/12.1 MB\\x1b[0m \\x1b[31m9.0 MB/s\\x1b[0m eta \\x1b[36m0:00:02\\x1b[0m',\n",
              " '\\x1b[2K     \\x1b[91m━━━━━━━━━━━\\x1b[0m\\x1b[90m╺\\x1b[0m\\x1b[90m━━━━━━━━━━━━━━━━━━━━━━━━━━━━\\x1b[0m \\x1b[32m3.4/12.1 MB\\x1b[0m \\x1b[31m9.2 MB/s\\x1b[0m eta \\x1b[36m0:00:01\\x1b[0m',\n",
              " '\\x1b[2K     \\x1b[91m━━━━━━━━━━━━\\x1b[0m\\x1b[90m╺\\x1b[0m\\x1b[90m━━━━━━━━━━━━━━━━━━━━━━━━━━━\\x1b[0m \\x1b[32m3.8/12.1 MB\\x1b[0m \\x1b[31m9.4 MB/s\\x1b[0m eta \\x1b[36m0:00:01\\x1b[0m',\n",
              " '\\x1b[2K     \\x1b[91m━━━━━━━━━━━━━\\x1b[0m\\x1b[91m╸\\x1b[0m\\x1b[90m━━━━━━━━━━━━━━━━━━━━━━━━━━\\x1b[0m \\x1b[32m4.2/12.1 MB\\x1b[0m \\x1b[31m9.6 MB/s\\x1b[0m eta \\x1b[36m0:00:01\\x1b[0m',\n",
              " '\\x1b[2K     \\x1b[91m━━━━━━━━━━━━━━━\\x1b[0m\\x1b[90m╺\\x1b[0m\\x1b[90m━━━━━━━━━━━━━━━━━━━━━━━━\\x1b[0m \\x1b[32m4.5/12.1 MB\\x1b[0m \\x1b[31m9.6 MB/s\\x1b[0m eta \\x1b[36m0:00:01\\x1b[0m',\n",
              " '\\x1b[2K     \\x1b[91m━━━━━━━━━━━━━━━━\\x1b[0m\\x1b[90m╺\\x1b[0m\\x1b[90m━━━━━━━━━━━━━━━━━━━━━━━\\x1b[0m \\x1b[32m5.0/12.1 MB\\x1b[0m \\x1b[31m9.8 MB/s\\x1b[0m eta \\x1b[36m0:00:01\\x1b[0m',\n",
              " '\\x1b[2K     \\x1b[91m━━━━━━━━━━━━━━━━━\\x1b[0m\\x1b[91m╸\\x1b[0m\\x1b[90m━━━━━━━━━━━━━━━━━━━━━━\\x1b[0m \\x1b[32m5.4/12.1 MB\\x1b[0m \\x1b[31m9.9 MB/s\\x1b[0m eta \\x1b[36m0:00:01\\x1b[0m',\n",
              " '\\x1b[2K     \\x1b[91m━━━━━━━━━━━━━━━━━━━\\x1b[0m\\x1b[90m╺\\x1b[0m\\x1b[90m━━━━━━━━━━━━━━━━━━━━\\x1b[0m \\x1b[32m5.8/12.1 MB\\x1b[0m \\x1b[31m10.0 MB/s\\x1b[0m eta \\x1b[36m0:00:01\\x1b[0m',\n",
              " '\\x1b[2K     \\x1b[91m━━━━━━━━━━━━━━━━━━━━\\x1b[0m\\x1b[91m╸\\x1b[0m\\x1b[90m━━━━━━━━━━━━━━━━━━━\\x1b[0m \\x1b[32m6.3/12.1 MB\\x1b[0m \\x1b[31m10.1 MB/s\\x1b[0m eta \\x1b[36m0:00:01\\x1b[0m',\n",
              " '\\x1b[2K     \\x1b[91m━━━━━━━━━━━━━━━━━━━━━━\\x1b[0m\\x1b[90m╺\\x1b[0m\\x1b[90m━━━━━━━━━━━━━━━━━\\x1b[0m \\x1b[32m6.7/12.1 MB\\x1b[0m \\x1b[31m10.2 MB/s\\x1b[0m eta \\x1b[36m0:00:01\\x1b[0m',\n",
              " '\\x1b[2K     \\x1b[91m━━━━━━━━━━━━━━━━━━━━━━━\\x1b[0m\\x1b[91m╸\\x1b[0m\\x1b[90m━━━━━━━━━━━━━━━━\\x1b[0m \\x1b[32m7.2/12.1 MB\\x1b[0m \\x1b[31m10.3 MB/s\\x1b[0m eta \\x1b[36m0:00:01\\x1b[0m',\n",
              " '\\x1b[2K     \\x1b[91m━━━━━━━━━━━━━━━━━━━━━━━━━\\x1b[0m\\x1b[90m╺\\x1b[0m\\x1b[90m━━━━━━━━━━━━━━\\x1b[0m \\x1b[32m7.6/12.1 MB\\x1b[0m \\x1b[31m10.4 MB/s\\x1b[0m eta \\x1b[36m0:00:01\\x1b[0m',\n",
              " '\\x1b[2K     \\x1b[91m━━━━━━━━━━━━━━━━━━━━━━━━━━\\x1b[0m\\x1b[91m╸\\x1b[0m\\x1b[90m━━━━━━━━━━━━━\\x1b[0m \\x1b[32m8.0/12.1 MB\\x1b[0m \\x1b[31m10.5 MB/s\\x1b[0m eta \\x1b[36m0:00:01\\x1b[0m',\n",
              " '\\x1b[2K     \\x1b[91m━━━━━━━━━━━━━━━━━━━━━━━━━━━━\\x1b[0m\\x1b[90m╺\\x1b[0m\\x1b[90m━━━━━━━━━━━\\x1b[0m \\x1b[32m8.5/12.1 MB\\x1b[0m \\x1b[31m10.6 MB/s\\x1b[0m eta \\x1b[36m0:00:01\\x1b[0m',\n",
              " '\\x1b[2K     \\x1b[91m━━━━━━━━━━━━━━━━━━━━━━━━━━━━━\\x1b[0m\\x1b[91m╸\\x1b[0m\\x1b[90m━━━━━━━━━━\\x1b[0m \\x1b[32m8.9/12.1 MB\\x1b[0m \\x1b[31m10.7 MB/s\\x1b[0m eta \\x1b[36m0:00:01\\x1b[0m',\n",
              " '\\x1b[2K     \\x1b[91m━━━━━━━━━━━━━━━━━━━━━━━━━━━━━━\\x1b[0m\\x1b[91m╸\\x1b[0m\\x1b[90m━━━━━━━━━\\x1b[0m \\x1b[32m9.4/12.1 MB\\x1b[0m \\x1b[31m10.7 MB/s\\x1b[0m eta \\x1b[36m0:00:01\\x1b[0m',\n",
              " '\\x1b[2K     \\x1b[91m━━━━━━━━━━━━━━━━━━━━━━━━━━━━━━━━\\x1b[0m\\x1b[90m╺\\x1b[0m\\x1b[90m━━━━━━━\\x1b[0m \\x1b[32m9.8/12.1 MB\\x1b[0m \\x1b[31m10.8 MB/s\\x1b[0m eta \\x1b[36m0:00:01\\x1b[0m',\n",
              " '\\x1b[2K     \\x1b[91m━━━━━━━━━━━━━━━━━━━━━━━━━━━━━━━━━\\x1b[0m\\x1b[91m╸\\x1b[0m\\x1b[90m━━━━━━\\x1b[0m \\x1b[32m10.3/12.1 MB\\x1b[0m \\x1b[31m11.3 MB/s\\x1b[0m eta \\x1b[36m0:00:01\\x1b[0m',\n",
              " '\\x1b[2K     \\x1b[91m━━━━━━━━━━━━━━━━━━━━━━━━━━━━━━━━━━━\\x1b[0m\\x1b[91m╸\\x1b[0m\\x1b[90m━━━━\\x1b[0m \\x1b[32m10.8/12.1 MB\\x1b[0m \\x1b[31m12.3 MB/s\\x1b[0m eta \\x1b[36m0:00:01\\x1b[0m',\n",
              " '\\x1b[2K     \\x1b[91m━━━━━━━━━━━━━━━━━━━━━━━━━━━━━━━━━━━━━\\x1b[0m\\x1b[90m╺\\x1b[0m\\x1b[90m━━\\x1b[0m \\x1b[32m11.2/12.1 MB\\x1b[0m \\x1b[31m11.8 MB/s\\x1b[0m eta \\x1b[36m0:00:01\\x1b[0m',\n",
              " '\\x1b[2K     \\x1b[91m━━━━━━━━━━━━━━━━━━━━━━━━━━━━━━━━━━━━━━\\x1b[0m\\x1b[91m╸\\x1b[0m\\x1b[90m━\\x1b[0m \\x1b[32m11.7/12.1 MB\\x1b[0m \\x1b[31m11.8 MB/s\\x1b[0m eta \\x1b[36m0:00:01\\x1b[0m',\n",
              " '\\x1b[2K     \\x1b[91m━━━━━━━━━━━━━━━━━━━━━━━━━━━━━━━━━━━━━━━\\x1b[0m\\x1b[91m╸\\x1b[0m \\x1b[32m12.1/12.1 MB\\x1b[0m \\x1b[31m11.9 MB/s\\x1b[0m eta \\x1b[36m0:00:01\\x1b[0m',\n",
              " '\\x1b[2K     \\x1b[91m━━━━━━━━━━━━━━━━━━━━━━━━━━━━━━━━━━━━━━━\\x1b[0m\\x1b[91m╸\\x1b[0m \\x1b[32m12.1/12.1 MB\\x1b[0m \\x1b[31m11.9 MB/s\\x1b[0m eta \\x1b[36m0:00:01\\x1b[0m',\n",
              " '\\x1b[2K     \\x1b[91m━━━━━━━━━━━━━━━━━━━━━━━━━━━━━━━━━━━━━━━\\x1b[0m\\x1b[91m╸\\x1b[0m \\x1b[32m12.1/12.1 MB\\x1b[0m \\x1b[31m11.9 MB/s\\x1b[0m eta \\x1b[36m0:00:01\\x1b[0m',\n",
              " '\\x1b[2K     \\x1b[91m━━━━━━━━━━━━━━━━━━━━━━━━━━━━━━━━━━━━━━━\\x1b[0m\\x1b[91m╸\\x1b[0m \\x1b[32m12.1/12.1 MB\\x1b[0m \\x1b[31m11.9 MB/s\\x1b[0m eta \\x1b[36m0:00:01\\x1b[0m',\n",
              " '\\x1b[2K     \\x1b[90m━━━━━━━━━━━━━━━━━━━━━━━━━━━━━━━━━━━━━━━━\\x1b[0m \\x1b[32m12.1/12.1 MB\\x1b[0m \\x1b[31m10.1 MB/s\\x1b[0m eta \\x1b[36m0:00:00\\x1b[0m',\n",
              " '\\x1b[?25hRequirement already satisfied: numpy<2.0,>=1.19.5 in /usr/local/lib/python3.10/dist-packages (from scikit-learn==1.4) (1.25.2)',\n",
              " 'Requirement already satisfied: scipy>=1.6.0 in /usr/local/lib/python3.10/dist-packages (from scikit-learn==1.4) (1.11.4)',\n",
              " 'Requirement already satisfied: joblib>=1.2.0 in /usr/local/lib/python3.10/dist-packages (from scikit-learn==1.4) (1.3.2)',\n",
              " 'Requirement already satisfied: threadpoolctl>=2.0.0 in /usr/local/lib/python3.10/dist-packages (from scikit-learn==1.4) (3.3.0)',\n",
              " 'Installing collected packages: scikit-learn',\n",
              " '  Attempting uninstall: scikit-learn',\n",
              " '    Found existing installation: scikit-learn 1.2.2',\n",
              " '    Uninstalling scikit-learn-1.2.2:',\n",
              " '      Successfully uninstalled scikit-learn-1.2.2',\n",
              " 'Successfully installed scikit-learn-1.4.0']"
            ]
          },
          "execution_count": 3,
          "metadata": {},
          "output_type": "execute_result"
        }
      ],
      "source": [
        "!!pip install scikit-learn==1.4"
      ]
    },
    {
      "cell_type": "code",
      "execution_count": 95,
      "metadata": {
        "id": "sNfPjiG6k-OM"
      },
      "outputs": [],
      "source": [
        "from sklearn.model_selection import train_test_split\n",
        "\n",
        "from sklearn.svm import LinearSVC, SVC\n",
        "from sklearn.linear_model import LogisticRegression\n",
        "from sklearn.linear_model import LinearRegression, Lasso, Ridge\n",
        "from sklearn.naive_bayes import GaussianNB\n",
        "\n",
        "from sklearn.metrics import roc_curve, confusion_matrix, accuracy_score, recall_score, precision_score, f1_score\n",
        "from sklearn.metrics import root_mean_squared_error, mean_squared_error, mean_absolute_percentage_error, mean_absolute_error\n",
        "from sklearn.metrics import ConfusionMatrixDisplay"
      ]
    },
    {
      "cell_type": "code",
      "execution_count": 5,
      "metadata": {
        "colab": {
          "base_uri": "https://localhost:8080/"
        },
        "id": "KQMzBcsxiOEV",
        "outputId": "4da125b2-3d6b-4600-8ab0-b0e0fbde1b3d"
      },
      "outputs": [
        {
          "name": "stdout",
          "output_type": "stream",
          "text": [
            "Requirement already satisfied: transformers in /usr/local/lib/python3.10/dist-packages (4.38.2)\n",
            "Requirement already satisfied: filelock in /usr/local/lib/python3.10/dist-packages (from transformers) (3.13.1)\n",
            "Requirement already satisfied: huggingface-hub<1.0,>=0.19.3 in /usr/local/lib/python3.10/dist-packages (from transformers) (0.20.3)\n",
            "Requirement already satisfied: numpy>=1.17 in /usr/local/lib/python3.10/dist-packages (from transformers) (1.25.2)\n",
            "Requirement already satisfied: packaging>=20.0 in /usr/local/lib/python3.10/dist-packages (from transformers) (24.0)\n",
            "Requirement already satisfied: pyyaml>=5.1 in /usr/local/lib/python3.10/dist-packages (from transformers) (6.0.1)\n",
            "Requirement already satisfied: regex!=2019.12.17 in /usr/local/lib/python3.10/dist-packages (from transformers) (2023.12.25)\n",
            "Requirement already satisfied: requests in /usr/local/lib/python3.10/dist-packages (from transformers) (2.31.0)\n",
            "Requirement already satisfied: tokenizers<0.19,>=0.14 in /usr/local/lib/python3.10/dist-packages (from transformers) (0.15.2)\n",
            "Requirement already satisfied: safetensors>=0.4.1 in /usr/local/lib/python3.10/dist-packages (from transformers) (0.4.2)\n",
            "Requirement already satisfied: tqdm>=4.27 in /usr/local/lib/python3.10/dist-packages (from transformers) (4.66.2)\n",
            "Requirement already satisfied: fsspec>=2023.5.0 in /usr/local/lib/python3.10/dist-packages (from huggingface-hub<1.0,>=0.19.3->transformers) (2023.6.0)\n",
            "Requirement already satisfied: typing-extensions>=3.7.4.3 in /usr/local/lib/python3.10/dist-packages (from huggingface-hub<1.0,>=0.19.3->transformers) (4.10.0)\n",
            "Requirement already satisfied: charset-normalizer<4,>=2 in /usr/local/lib/python3.10/dist-packages (from requests->transformers) (3.3.2)\n",
            "Requirement already satisfied: idna<4,>=2.5 in /usr/local/lib/python3.10/dist-packages (from requests->transformers) (3.6)\n",
            "Requirement already satisfied: urllib3<3,>=1.21.1 in /usr/local/lib/python3.10/dist-packages (from requests->transformers) (2.0.7)\n",
            "Requirement already satisfied: certifi>=2017.4.17 in /usr/local/lib/python3.10/dist-packages (from requests->transformers) (2024.2.2)\n",
            "Requirement already satisfied: lightgbm in /usr/local/lib/python3.10/dist-packages (4.1.0)\n",
            "Requirement already satisfied: numpy in /usr/local/lib/python3.10/dist-packages (from lightgbm) (1.25.2)\n",
            "Requirement already satisfied: scipy in /usr/local/lib/python3.10/dist-packages (from lightgbm) (1.11.4)\n"
          ]
        }
      ],
      "source": [
        "!pip install transformers\n",
        "!pip install lightgbm"
      ]
    },
    {
      "cell_type": "code",
      "execution_count": 6,
      "metadata": {
        "colab": {
          "base_uri": "https://localhost:8080/"
        },
        "id": "ry1JDf7Duwn3",
        "outputId": "8d75f5c5-9c65-4856-991a-316f473d6968"
      },
      "outputs": [
        {
          "name": "stdout",
          "output_type": "stream",
          "text": [
            "Collecting torchinfo\n",
            "  Downloading torchinfo-1.8.0-py3-none-any.whl (23 kB)\n",
            "Installing collected packages: torchinfo\n",
            "Successfully installed torchinfo-1.8.0\n"
          ]
        }
      ],
      "source": [
        "!pip install torchinfo\n",
        "from torchinfo import summary"
      ]
    },
    {
      "cell_type": "code",
      "execution_count": 7,
      "metadata": {
        "id": "AfH48iZ5iQ1A"
      },
      "outputs": [],
      "source": [
        "from transformers import pipeline"
      ]
    },
    {
      "cell_type": "code",
      "execution_count": 8,
      "metadata": {
        "id": "C8CCe_tvoVRX"
      },
      "outputs": [],
      "source": [
        "from tqdm.auto import tqdm"
      ]
    },
    {
      "cell_type": "code",
      "execution_count": 9,
      "metadata": {
        "id": "tHaTFUe6HxRG"
      },
      "outputs": [],
      "source": [
        "import torch\n",
        "import torch.nn as nn\n",
        "from torch.utils.data import TensorDataset, DataLoader\n",
        "\n",
        "from torch.optim import Adam\n",
        "\n",
        "import torch.nn.functional as F"
      ]
    },
    {
      "cell_type": "code",
      "execution_count": 10,
      "metadata": {
        "id": "AvviO8auWE3Z"
      },
      "outputs": [],
      "source": [
        "import lightgbm as lgb"
      ]
    },
    {
      "cell_type": "code",
      "execution_count": 11,
      "metadata": {
        "id": "5jezR11CELT4"
      },
      "outputs": [],
      "source": [
        "import pytz\n",
        "\n",
        "def timezone_convert(unix_time, location='America/Los_Angeles'):\n",
        "    pst_tz = pytz.timezone(location)\n",
        "    return datetime.datetime.fromtimestamp(unix_time, pst_tz)"
      ]
    },
    {
      "cell_type": "code",
      "execution_count": 12,
      "metadata": {
        "id": "-yXRbgTm6WE1"
      },
      "outputs": [],
      "source": [
        "def data_analysis(dir_path, tweet_filename, verbose=True):\n",
        "    \"\"\"\n",
        "    Return the following statistics in the corresponding file:\n",
        "    - Average number of tweets per hour\n",
        "    - Average number of followers of users posting the tweets per tweet\n",
        "    - Average number of retweets per tweet\n",
        "    \"\"\"\n",
        "    num_tweets, num_tweets_per_hour = 0, {}                         # distinguish between the same hour across different days\n",
        "    num_followers, num_retweets = 0, 0\n",
        "\n",
        "    file_path = os.path.join(dir_path, tweet_filename)\n",
        "    with open(file_path, 'r') as f:\n",
        "        for line in f:\n",
        "            # load the whole tweet string\n",
        "            curr_tweet = json.loads(line)\n",
        "            # handle the number of tweets per hour\n",
        "            num_tweets += 1\n",
        "            curr_time = timezone_convert(curr_tweet['citation_date'])\n",
        "            curr_day_hour = (curr_time.date(), curr_time.hour)              # tuple of (day, hour)\n",
        "            if curr_day_hour not in num_tweets_per_hour:\n",
        "                num_tweets_per_hour[curr_day_hour] = 0\n",
        "            num_tweets_per_hour[curr_day_hour] += 1\n",
        "            # load the followers of the user posting this tweet\n",
        "            num_followers += curr_tweet['author']['followers']\n",
        "            # load the retweets\n",
        "            num_retweets += curr_tweet['metrics']['citations']['total']\n",
        "    avg_tweets_per_hour = num_tweets / len(num_tweets_per_hour)\n",
        "    avg_followers = num_followers / num_tweets\n",
        "    avg_retweets = num_retweets / num_tweets\n",
        "    if verbose:\n",
        "        hashtag = tweet_filename.split(\"_\")[-1].split(\".\")[0]\n",
        "        print(f\"The average number of tweets per hour for {hashtag} is {avg_tweets_per_hour} spanning {len(num_tweets_per_hour)} hours.\")\n",
        "        print(f\"The average number of followers of users posting the tweets per tweet for {hashtag} is {avg_followers}.\")\n",
        "        print(f\"The average number of retweets per tweet for {hashtag} is {avg_retweets}\")\n",
        "    return avg_tweets_per_hour, avg_followers, avg_retweets, num_tweets_per_hour\n",
        "\n",
        "\n",
        "def plot_per_day(num_tweets_per_hour, hashtag):\n",
        "    # plot the number of tweets per day for clear visualization\n",
        "    num_tweets_per_day = {}\n",
        "    for time_pair in num_tweets_per_hour:\n",
        "        day, hour = time_pair\n",
        "        if day not in num_tweets_per_day:\n",
        "            num_tweets_per_day[day] = 0\n",
        "        num_tweets_per_day[day] += num_tweets_per_hour[time_pair]\n",
        "\n",
        "    days = sorted(list(num_tweets_per_day.keys()))\n",
        "    counts = [num_tweets_per_day[day] for day in days]\n",
        "    plt.bar(days, counts)\n",
        "    plt.xlabel('Date')\n",
        "    plt.ylabel('Tweet count')\n",
        "    plt.title(f'Number of tweets in days for {hashtag}')\n",
        "    plt.xticks(rotation=45)         # Rotate days for better readibility\n",
        "    plt.tight_layout()\n",
        "    plt.show()"
      ]
    },
    {
      "cell_type": "markdown",
      "metadata": {
        "id": "0RB49WO24C8r"
      },
      "source": [
        "# Data analysis"
      ]
    },
    {
      "cell_type": "code",
      "execution_count": 13,
      "metadata": {
        "id": "B1ZWK3vJJHTK"
      },
      "outputs": [],
      "source": [
        "data_path = \"./data/tweet_data\""
      ]
    },
    {
      "cell_type": "code",
      "execution_count": null,
      "metadata": {
        "colab": {
          "base_uri": "https://localhost:8080/"
        },
        "id": "i3Nv9XV4XWVJ",
        "outputId": "3a926f92-1a86-47ba-b231-ad4615180d18"
      },
      "outputs": [
        {
          "name": "stdout",
          "output_type": "stream",
          "text": [
            "The average number of tweets per hour for #nfl is 399.69468267581476 spanning 583 hours.\n",
            "The average number of followers of users posting the tweets per tweet for #nfl is 4662.37544523693.\n",
            "The average number of retweets per tweet for #nfl is 1.5344602655543254\n",
            "----------------------------------------------------------------------------------------------------\n",
            "The average number of tweets per hour for #superbowl is 2067.824531516184 spanning 587 hours.\n",
            "The average number of followers of users posting the tweets per tweet for #superbowl is 8814.96799424623.\n",
            "The average number of retweets per tweet for #superbowl is 2.3911895819207736\n",
            "----------------------------------------------------------------------------------------------------\n",
            "The average number of tweets per hour for #sb49 is 1384.8212290502793 spanning 537 hours.\n",
            "The average number of followers of users posting the tweets per tweet for #sb49 is 10374.160292019487.\n",
            "The average number of retweets per tweet for #sb49 is 2.52713444111402\n",
            "----------------------------------------------------------------------------------------------------\n",
            "The average number of tweets per hour for #patriots is 750.6320272572402 spanning 587 hours.\n",
            "The average number of followers of users posting the tweets per tweet for #patriots is 3280.4635616550277.\n",
            "The average number of retweets per tweet for #patriots is 1.7852871288476946\n",
            "----------------------------------------------------------------------------------------------------\n",
            "The average number of tweets per hour for #gohawks is 296.70526315789476 spanning 570 hours.\n",
            "The average number of followers of users posting the tweets per tweet for #gohawks is 2217.9237355281984.\n",
            "The average number of retweets per tweet for #gohawks is 2.0132093991319877\n",
            "----------------------------------------------------------------------------------------------------\n",
            "The average number of tweets per hour for #gopatriots is 53.31292517006803 spanning 441 hours.\n",
            "The average number of followers of users posting the tweets per tweet for #gopatriots is 1427.2526051635405.\n",
            "The average number of retweets per tweet for #gopatriots is 1.4081919101697078\n",
            "----------------------------------------------------------------------------------------------------\n"
          ]
        }
      ],
      "source": [
        "tag_filenames = os.listdir(data_path)           # all the text files under data_path\n",
        "\n",
        "# report the statistics\n",
        "for tag_filename in tag_filenames:\n",
        "    data_analysis(data_path, tag_filename)\n",
        "    print('-' * 100)"
      ]
    },
    {
      "cell_type": "code",
      "execution_count": null,
      "metadata": {
        "colab": {
          "base_uri": "https://localhost:8080/",
          "height": 486
        },
        "id": "hICc77aHYYQc",
        "outputId": "8becd88a-0a44-4d29-e2fc-3dc7b09cb5a5"
      },
      "outputs": [
        {
          "data": {
            "image/png": "[encoded data removed]",
            "text/plain": [
              "<Figure size 640x480 with 1 Axes>"
            ]
          },
          "metadata": {},
          "output_type": "display_data"
        }
      ],
      "source": [
        "num_tweets_per_hour_superbowl = data_analysis(data_path, 'tweets_#superbowl.txt', verbose=False)[-1]\n",
        "plot_per_day(num_tweets_per_hour_superbowl, \"#superbowl\")"
      ]
    },
    {
      "cell_type": "code",
      "execution_count": null,
      "metadata": {
        "colab": {
          "base_uri": "https://localhost:8080/",
          "height": 486
        },
        "id": "2-jjnvZCHQz9",
        "outputId": "da7afd8e-101f-4e27-d193-e063b4352321"
      },
      "outputs": [
        {
          "data": {
            "image/png": "[encoded data removed]",
            "text/plain": [
              "<Figure size 640x480 with 1 Axes>"
            ]
          },
          "metadata": {},
          "output_type": "display_data"
        }
      ],
      "source": [
        "num_tweets_per_hour_nfl = data_analysis(data_path, 'tweets_#nfl.txt', verbose=False)[-1]\n",
        "plot_per_day(num_tweets_per_hour_nfl, \"#nfl\")"
      ]
    },
    {
      "cell_type": "markdown",
      "metadata": {},
      "source": [
        "# Custom Task\n",
        "\n",
        "In the below part, I performed three predicton tasks given the corresponding raw tweet text:\n",
        "- classify the fan class of the user posting the tweet\n",
        "- predict the number of retweets of a tweet\n",
        "- predict the number of likes of a tweet\n",
        "\n",
        "The first task is organized under `Classification`, the second and third are both included under `Regression`. \n",
        "\n",
        "The sections `Data load`, `Data clean`, `Feature engineering` were used to obtain different features for the raw tweet text."
      ]
    },
    {
      "cell_type": "markdown",
      "metadata": {
        "id": "JV04-cQDNoKj"
      },
      "source": [
        "# Data load "
      ]
    },
    {
      "cell_type": "markdown",
      "metadata": {
        "id": "jgsx9-7p-06o"
      },
      "source": [
        "For the purpose of customed tasks, we extract the data from the following files:\n",
        "- `tweets_#gohawks.txt`\n",
        "- `tweets_#gopatriots.txt`\n",
        "\n",
        "Given the fact that the tweets with `#gohawks` were many more than those with `#gopatriots`, we sample from `tweets_#gohawks.txt` to maintain class balanced."
      ]
    },
    {
      "cell_type": "code",
      "execution_count": 127,
      "metadata": {
        "id": "Fkx_nQqXA2L8"
      },
      "outputs": [],
      "source": [
        "def load_tweets(dir_path, tweet_filename):\n",
        "    \"\"\"\n",
        "    Returns the tweets in the given path where each tweet string is a JSON object.\n",
        "    We need the columns \"text\", \"fan\", \"retweets\", \"likes\"\n",
        "    \"\"\"\n",
        "    tweet_info = []\n",
        "    hashtag = tweet_filename.split(\"_\")[-1].split(\".\")[0][1:]\n",
        "\n",
        "    file_path = os.path.join(dir_path, tweet_filename)\n",
        "    with open(file_path, 'r') as f:\n",
        "        for line in f:\n",
        "            # load the whole tweet string and collect the needed columns\n",
        "            curr_tweet = json.loads(line)\n",
        "            curr_dict = {}\n",
        "            curr_dict[\"text\"] = curr_tweet[\"tweet\"][\"text\"]\n",
        "            curr_dict[\"fan\"] = hashtag\n",
        "            curr_dict[\"retweets\"] = curr_tweet['metrics']['citations']['total']\n",
        "            curr_dict[\"likes\"] = curr_tweet[\"tweet\"][\"favorite_count\"]\n",
        "            tweet_info.append(curr_dict)\n",
        "    return pd.DataFrame(tweet_info)"
      ]
    },
    {
      "cell_type": "code",
      "execution_count": 128,
      "metadata": {
        "colab": {
          "base_uri": "https://localhost:8080/"
        },
        "id": "9AsNCaM4FHrW",
        "outputId": "4cc2ff0a-d6c9-45e8-b99d-38f8b3f7d537"
      },
      "outputs": [
        {
          "name": "stdout",
          "output_type": "stream",
          "text": [
            "The shape of full data is (5000, 4)\n"
          ]
        }
      ],
      "source": [
        "sample_size = 5000\n",
        "\n",
        "patriots = load_tweets(data_path, \"tweets_#gopatriots.txt\")\n",
        "hawks = load_tweets(data_path, \"tweets_#gohawks.txt\").sample(n=len(patriots), random_state=42)\n",
        "full_data = pd.concat([patriots, hawks], axis=0).sample(n=sample_size)            # sub-sample here\n",
        "print(f\"The shape of full data is {full_data.shape}\")"
      ]
    },
    {
      "cell_type": "code",
      "execution_count": null,
      "metadata": {
        "colab": {
          "base_uri": "https://localhost:8080/",
          "height": 206
        },
        "id": "QE0kBla7Uv8o",
        "outputId": "2778ed72-a69b-4d50-c05b-2fbfd37c5269"
      },
      "outputs": [
        {
          "data": {
            "application/vnd.google.colaboratory.intrinsic+json": {
              "summary": "{\n  \"name\": \"patriots\",\n  \"rows\": 23511,\n  \"fields\": [\n    {\n      \"column\": \"text\",\n      \"properties\": {\n        \"dtype\": \"string\",\n        \"num_unique_values\": 22191,\n        \"samples\": [\n          \"@KeithFoulke @Patriots me toooo!!!! Gonna be a wet one but an awesome game!! #AFCChampionship #gopatriots #PatriotsNation\",\n          \"Que bueno esta Tom Brady! Jajajajaja \\\"@Edsouffront77: #GoPatriots #GoPats #GoPats goooooooo #Brady\\\"\",\n          \"@libbycrews so..what else is new? #GoPatriots\"\n        ],\n        \"semantic_type\": \"\",\n        \"description\": \"\"\n      }\n    },\n    {\n      \"column\": \"fan\",\n      \"properties\": {\n        \"dtype\": \"category\",\n        \"num_unique_values\": 1,\n        \"samples\": [\n          \"gopatriots\"\n        ],\n        \"semantic_type\": \"\",\n        \"description\": \"\"\n      }\n    },\n    {\n      \"column\": \"retweets\",\n      \"properties\": {\n        \"dtype\": \"number\",\n        \"std\": 5,\n        \"min\": 1,\n        \"max\": 379,\n        \"num_unique_values\": 63,\n        \"samples\": [\n          59\n        ],\n        \"semantic_type\": \"\",\n        \"description\": \"\"\n      }\n    },\n    {\n      \"column\": \"likes\",\n      \"properties\": {\n        \"dtype\": \"number\",\n        \"std\": 0,\n        \"min\": 0,\n        \"max\": 60,\n        \"num_unique_values\": 12,\n        \"samples\": [\n          15\n        ],\n        \"semantic_type\": \"\",\n        \"description\": \"\"\n      }\n    }\n  ]\n}",
              "type": "dataframe",
              "variable_name": "patriots"
            },
            "text/html": [
              "\n",
              "  <div id=\"df-f1a845f8-3186-419e-80cf-3b9f3396d3d8\" class=\"colab-df-container\">\n",
              "    <div>\n",
              "<style scoped>\n",
              "    .dataframe tbody tr th:only-of-type {\n",
              "        vertical-align: middle;\n",
              "    }\n",
              "\n",
              "    .dataframe tbody tr th {\n",
              "        vertical-align: top;\n",
              "    }\n",
              "\n",
              "    .dataframe thead th {\n",
              "        text-align: right;\n",
              "    }\n",
              "</style>\n",
              "<table border=\"1\" class=\"dataframe\">\n",
              "  <thead>\n",
              "    <tr style=\"text-align: right;\">\n",
              "      <th></th>\n",
              "      <th>text</th>\n",
              "      <th>fan</th>\n",
              "      <th>retweets</th>\n",
              "      <th>likes</th>\n",
              "    </tr>\n",
              "  </thead>\n",
              "  <tbody>\n",
              "    <tr>\n",
              "      <th>0</th>\n",
              "      <td>LeGarrette Blount does the Ray Lewis Dance #Th...</td>\n",
              "      <td>gopatriots</td>\n",
              "      <td>6</td>\n",
              "      <td>0</td>\n",
              "    </tr>\n",
              "    <tr>\n",
              "      <th>1</th>\n",
              "      <td>Y así será mi futuro hijo 😍🙌❤🏈💙 #GoPatriots #M...</td>\n",
              "      <td>gopatriots</td>\n",
              "      <td>4</td>\n",
              "      <td>0</td>\n",
              "    </tr>\n",
              "    <tr>\n",
              "      <th>2</th>\n",
              "      <td>With both my father and husband yelling at the...</td>\n",
              "      <td>gopatriots</td>\n",
              "      <td>3</td>\n",
              "      <td>0</td>\n",
              "    </tr>\n",
              "    <tr>\n",
              "      <th>3</th>\n",
              "      <td>The girls soccer team is ranked the No. 3 team...</td>\n",
              "      <td>gopatriots</td>\n",
              "      <td>3</td>\n",
              "      <td>1</td>\n",
              "    </tr>\n",
              "    <tr>\n",
              "      <th>4</th>\n",
              "      <td>@patriots Patriots Champions! RT if you agree ...</td>\n",
              "      <td>gopatriots</td>\n",
              "      <td>2</td>\n",
              "      <td>0</td>\n",
              "    </tr>\n",
              "  </tbody>\n",
              "</table>\n",
              "</div>\n",
              "    <div class=\"colab-df-buttons\">\n",
              "\n",
              "  <div class=\"colab-df-container\">\n",
              "    <button class=\"colab-df-convert\" onclick=\"convertToInteractive('df-f1a845f8-3186-419e-80cf-3b9f3396d3d8')\"\n",
              "            title=\"Convert this dataframe to an interactive table.\"\n",
              "            style=\"display:none;\">\n",
              "\n",
              "  <svg xmlns=\"http://www.w3.org/2000/svg\" height=\"24px\" viewBox=\"0 -960 960 960\">\n",
              "    <path d=\"M120-120v-720h720v720H120Zm60-500h600v-160H180v160Zm220 220h160v-160H400v160Zm0 220h160v-160H400v160ZM180-400h160v-160H180v160Zm440 0h160v-160H620v160ZM180-180h160v-160H180v160Zm440 0h160v-160H620v160Z\"/>\n",
              "  </svg>\n",
              "    </button>\n",
              "\n",
              "  <style>\n",
              "    .colab-df-container {\n",
              "      display:flex;\n",
              "      gap: 12px;\n",
              "    }\n",
              "\n",
              "    .colab-df-convert {\n",
              "      background-color: #E8F0FE;\n",
              "      border: none;\n",
              "      border-radius: 50%;\n",
              "      cursor: pointer;\n",
              "      display: none;\n",
              "      fill: #1967D2;\n",
              "      height: 32px;\n",
              "      padding: 0 0 0 0;\n",
              "      width: 32px;\n",
              "    }\n",
              "\n",
              "    .colab-df-convert:hover {\n",
              "      background-color: #E2EBFA;\n",
              "      box-shadow: 0px 1px 2px rgba(60, 64, 67, 0.3), 0px 1px 3px 1px rgba(60, 64, 67, 0.15);\n",
              "      fill: #174EA6;\n",
              "    }\n",
              "\n",
              "    .colab-df-buttons div {\n",
              "      margin-bottom: 4px;\n",
              "    }\n",
              "\n",
              "    [theme=dark] .colab-df-convert {\n",
              "      background-color: #3B4455;\n",
              "      fill: #D2E3FC;\n",
              "    }\n",
              "\n",
              "    [theme=dark] .colab-df-convert:hover {\n",
              "      background-color: #434B5C;\n",
              "      box-shadow: 0px 1px 3px 1px rgba(0, 0, 0, 0.15);\n",
              "      filter: drop-shadow(0px 1px 2px rgba(0, 0, 0, 0.3));\n",
              "      fill: #FFFFFF;\n",
              "    }\n",
              "  </style>\n",
              "\n",
              "    <script>\n",
              "      const buttonEl =\n",
              "        document.querySelector('#df-f1a845f8-3186-419e-80cf-3b9f3396d3d8 button.colab-df-convert');\n",
              "      buttonEl.style.display =\n",
              "        google.colab.kernel.accessAllowed ? 'block' : 'none';\n",
              "\n",
              "      async function convertToInteractive(key) {\n",
              "        const element = document.querySelector('#df-f1a845f8-3186-419e-80cf-3b9f3396d3d8');\n",
              "        const dataTable =\n",
              "          await google.colab.kernel.invokeFunction('convertToInteractive',\n",
              "                                                    [key], {});\n",
              "        if (!dataTable) return;\n",
              "\n",
              "        const docLinkHtml = 'Like what you see? Visit the ' +\n",
              "          '<a target=\"_blank\" href=https://colab.research.google.com/notebooks/data_table.ipynb>data table notebook</a>'\n",
              "          + ' to learn more about interactive tables.';\n",
              "        element.innerHTML = '';\n",
              "        dataTable['output_type'] = 'display_data';\n",
              "        await google.colab.output.renderOutput(dataTable, element);\n",
              "        const docLink = document.createElement('div');\n",
              "        docLink.innerHTML = docLinkHtml;\n",
              "        element.appendChild(docLink);\n",
              "      }\n",
              "    </script>\n",
              "  </div>\n",
              "\n",
              "\n",
              "<div id=\"df-30be94b6-a557-409f-94e2-3e8831304d2c\">\n",
              "  <button class=\"colab-df-quickchart\" onclick=\"quickchart('df-30be94b6-a557-409f-94e2-3e8831304d2c')\"\n",
              "            title=\"Suggest charts\"\n",
              "            style=\"display:none;\">\n",
              "\n",
              "<svg xmlns=\"http://www.w3.org/2000/svg\" height=\"24px\"viewBox=\"0 0 24 24\"\n",
              "     width=\"24px\">\n",
              "    <g>\n",
              "        <path d=\"M19 3H5c-1.1 0-2 .9-2 2v14c0 1.1.9 2 2 2h14c1.1 0 2-.9 2-2V5c0-1.1-.9-2-2-2zM9 17H7v-7h2v7zm4 0h-2V7h2v10zm4 0h-2v-4h2v4z\"/>\n",
              "    </g>\n",
              "</svg>\n",
              "  </button>\n",
              "\n",
              "<style>\n",
              "  .colab-df-quickchart {\n",
              "      --bg-color: #E8F0FE;\n",
              "      --fill-color: #1967D2;\n",
              "      --hover-bg-color: #E2EBFA;\n",
              "      --hover-fill-color: #174EA6;\n",
              "      --disabled-fill-color: #AAA;\n",
              "      --disabled-bg-color: #DDD;\n",
              "  }\n",
              "\n",
              "  [theme=dark] .colab-df-quickchart {\n",
              "      --bg-color: #3B4455;\n",
              "      --fill-color: #D2E3FC;\n",
              "      --hover-bg-color: #434B5C;\n",
              "      --hover-fill-color: #FFFFFF;\n",
              "      --disabled-bg-color: #3B4455;\n",
              "      --disabled-fill-color: #666;\n",
              "  }\n",
              "\n",
              "  .colab-df-quickchart {\n",
              "    background-color: var(--bg-color);\n",
              "    border: none;\n",
              "    border-radius: 50%;\n",
              "    cursor: pointer;\n",
              "    display: none;\n",
              "    fill: var(--fill-color);\n",
              "    height: 32px;\n",
              "    padding: 0;\n",
              "    width: 32px;\n",
              "  }\n",
              "\n",
              "  .colab-df-quickchart:hover {\n",
              "    background-color: var(--hover-bg-color);\n",
              "    box-shadow: 0 1px 2px rgba(60, 64, 67, 0.3), 0 1px 3px 1px rgba(60, 64, 67, 0.15);\n",
              "    fill: var(--button-hover-fill-color);\n",
              "  }\n",
              "\n",
              "  .colab-df-quickchart-complete:disabled,\n",
              "  .colab-df-quickchart-complete:disabled:hover {\n",
              "    background-color: var(--disabled-bg-color);\n",
              "    fill: var(--disabled-fill-color);\n",
              "    box-shadow: none;\n",
              "  }\n",
              "\n",
              "  .colab-df-spinner {\n",
              "    border: 2px solid var(--fill-color);\n",
              "    border-color: transparent;\n",
              "    border-bottom-color: var(--fill-color);\n",
              "    animation:\n",
              "      spin 1s steps(1) infinite;\n",
              "  }\n",
              "\n",
              "  @keyframes spin {\n",
              "    0% {\n",
              "      border-color: transparent;\n",
              "      border-bottom-color: var(--fill-color);\n",
              "      border-left-color: var(--fill-color);\n",
              "    }\n",
              "    20% {\n",
              "      border-color: transparent;\n",
              "      border-left-color: var(--fill-color);\n",
              "      border-top-color: var(--fill-color);\n",
              "    }\n",
              "    30% {\n",
              "      border-color: transparent;\n",
              "      border-left-color: var(--fill-color);\n",
              "      border-top-color: var(--fill-color);\n",
              "      border-right-color: var(--fill-color);\n",
              "    }\n",
              "    40% {\n",
              "      border-color: transparent;\n",
              "      border-right-color: var(--fill-color);\n",
              "      border-top-color: var(--fill-color);\n",
              "    }\n",
              "    60% {\n",
              "      border-color: transparent;\n",
              "      border-right-color: var(--fill-color);\n",
              "    }\n",
              "    80% {\n",
              "      border-color: transparent;\n",
              "      border-right-color: var(--fill-color);\n",
              "      border-bottom-color: var(--fill-color);\n",
              "    }\n",
              "    90% {\n",
              "      border-color: transparent;\n",
              "      border-bottom-color: var(--fill-color);\n",
              "    }\n",
              "  }\n",
              "</style>\n",
              "\n",
              "  <script>\n",
              "    async function quickchart(key) {\n",
              "      const quickchartButtonEl =\n",
              "        document.querySelector('#' + key + ' button');\n",
              "      quickchartButtonEl.disabled = true;  // To prevent multiple clicks.\n",
              "      quickchartButtonEl.classList.add('colab-df-spinner');\n",
              "      try {\n",
              "        const charts = await google.colab.kernel.invokeFunction(\n",
              "            'suggestCharts', [key], {});\n",
              "      } catch (error) {\n",
              "        console.error('Error during call to suggestCharts:', error);\n",
              "      }\n",
              "      quickchartButtonEl.classList.remove('colab-df-spinner');\n",
              "      quickchartButtonEl.classList.add('colab-df-quickchart-complete');\n",
              "    }\n",
              "    (() => {\n",
              "      let quickchartButtonEl =\n",
              "        document.querySelector('#df-30be94b6-a557-409f-94e2-3e8831304d2c button');\n",
              "      quickchartButtonEl.style.display =\n",
              "        google.colab.kernel.accessAllowed ? 'block' : 'none';\n",
              "    })();\n",
              "  </script>\n",
              "</div>\n",
              "    </div>\n",
              "  </div>\n"
            ],
            "text/plain": [
              "                                                text         fan  retweets  \\\n",
              "0  LeGarrette Blount does the Ray Lewis Dance #Th...  gopatriots         6   \n",
              "1  Y así será mi futuro hijo 😍🙌❤🏈💙 #GoPatriots #M...  gopatriots         4   \n",
              "2  With both my father and husband yelling at the...  gopatriots         3   \n",
              "3  The girls soccer team is ranked the No. 3 team...  gopatriots         3   \n",
              "4  @patriots Patriots Champions! RT if you agree ...  gopatriots         2   \n",
              "\n",
              "   likes  \n",
              "0      0  \n",
              "1      0  \n",
              "2      0  \n",
              "3      1  \n",
              "4      0  "
            ]
          },
          "execution_count": 17,
          "metadata": {},
          "output_type": "execute_result"
        }
      ],
      "source": [
        "patriots.head()"
      ]
    },
    {
      "cell_type": "code",
      "execution_count": null,
      "metadata": {
        "colab": {
          "base_uri": "https://localhost:8080/",
          "height": 206
        },
        "id": "jRUHpt1YGEfR",
        "outputId": "bca4ca8e-ece4-4fe5-a0f3-a89c9677bac0"
      },
      "outputs": [
        {
          "data": {
            "application/vnd.google.colaboratory.intrinsic+json": {
              "summary": "{\n  \"name\": \"hawks\",\n  \"rows\": 23511,\n  \"fields\": [\n    {\n      \"column\": \"text\",\n      \"properties\": {\n        \"dtype\": \"string\",\n        \"num_unique_values\": 22916,\n        \"samples\": [\n          \"Beautiful comeback \\n@Seahawks #GoHawks http://t.co/gfJt8m2as0\",\n          \"Touchdown Packers. Rodgers finds a wide open Cobb in the back of the endzone. Packers up 13-0. #GoHawks #12\",\n          \"Touchdown! !!! @MoneyLynch \\ud83c\\udfc8 \\ud83c\\udfc8 \\ud83c\\udfc8 #Seahawks #SeahawksvsPackers #GoHawks #NFLPlayoffs\"\n        ],\n        \"semantic_type\": \"\",\n        \"description\": \"\"\n      }\n    },\n    {\n      \"column\": \"fan\",\n      \"properties\": {\n        \"dtype\": \"category\",\n        \"num_unique_values\": 1,\n        \"samples\": [\n          \"gohawks\"\n        ],\n        \"semantic_type\": \"\",\n        \"description\": \"\"\n      }\n    },\n    {\n      \"column\": \"retweets\",\n      \"properties\": {\n        \"dtype\": \"number\",\n        \"std\": 9,\n        \"min\": 1,\n        \"max\": 618,\n        \"num_unique_values\": 76,\n        \"samples\": [\n          17\n        ],\n        \"semantic_type\": \"\",\n        \"description\": \"\"\n      }\n    },\n    {\n      \"column\": \"likes\",\n      \"properties\": {\n        \"dtype\": \"number\",\n        \"std\": 5,\n        \"min\": 0,\n        \"max\": 592,\n        \"num_unique_values\": 25,\n        \"samples\": [\n          5\n        ],\n        \"semantic_type\": \"\",\n        \"description\": \"\"\n      }\n    }\n  ]\n}",
              "type": "dataframe",
              "variable_name": "hawks"
            },
            "text/html": [
              "\n",
              "  <div id=\"df-36dd6d02-298b-4a57-b17e-e29b673f9cc0\" class=\"colab-df-container\">\n",
              "    <div>\n",
              "<style scoped>\n",
              "    .dataframe tbody tr th:only-of-type {\n",
              "        vertical-align: middle;\n",
              "    }\n",
              "\n",
              "    .dataframe tbody tr th {\n",
              "        vertical-align: top;\n",
              "    }\n",
              "\n",
              "    .dataframe thead th {\n",
              "        text-align: right;\n",
              "    }\n",
              "</style>\n",
              "<table border=\"1\" class=\"dataframe\">\n",
              "  <thead>\n",
              "    <tr style=\"text-align: right;\">\n",
              "      <th></th>\n",
              "      <th>text</th>\n",
              "      <th>fan</th>\n",
              "      <th>retweets</th>\n",
              "      <th>likes</th>\n",
              "    </tr>\n",
              "  </thead>\n",
              "  <tbody>\n",
              "    <tr>\n",
              "      <th>134889</th>\n",
              "      <td>INTERCEPTION! Hope #Lane is ok! #GoHawks</td>\n",
              "      <td>gohawks</td>\n",
              "      <td>1</td>\n",
              "      <td>0</td>\n",
              "    </tr>\n",
              "    <tr>\n",
              "      <th>153226</th>\n",
              "      <td>Relationship goals 😍 #GoHawks http://t.co/FLdU...</td>\n",
              "      <td>gohawks</td>\n",
              "      <td>3</td>\n",
              "      <td>0</td>\n",
              "    </tr>\n",
              "    <tr>\n",
              "      <th>129121</th>\n",
              "      <td>#BeastMode #GoHawks</td>\n",
              "      <td>gohawks</td>\n",
              "      <td>3</td>\n",
              "      <td>0</td>\n",
              "    </tr>\n",
              "    <tr>\n",
              "      <th>111062</th>\n",
              "      <td>Nervous and excited for the game. Go Hawks!!! ...</td>\n",
              "      <td>gohawks</td>\n",
              "      <td>1</td>\n",
              "      <td>0</td>\n",
              "    </tr>\n",
              "    <tr>\n",
              "      <th>12732</th>\n",
              "      <td>Even Tyson knows whath up! Lol #GoHawks http:/...</td>\n",
              "      <td>gohawks</td>\n",
              "      <td>1</td>\n",
              "      <td>0</td>\n",
              "    </tr>\n",
              "  </tbody>\n",
              "</table>\n",
              "</div>\n",
              "    <div class=\"colab-df-buttons\">\n",
              "\n",
              "  <div class=\"colab-df-container\">\n",
              "    <button class=\"colab-df-convert\" onclick=\"convertToInteractive('df-36dd6d02-298b-4a57-b17e-e29b673f9cc0')\"\n",
              "            title=\"Convert this dataframe to an interactive table.\"\n",
              "            style=\"display:none;\">\n",
              "\n",
              "  <svg xmlns=\"http://www.w3.org/2000/svg\" height=\"24px\" viewBox=\"0 -960 960 960\">\n",
              "    <path d=\"M120-120v-720h720v720H120Zm60-500h600v-160H180v160Zm220 220h160v-160H400v160Zm0 220h160v-160H400v160ZM180-400h160v-160H180v160Zm440 0h160v-160H620v160ZM180-180h160v-160H180v160Zm440 0h160v-160H620v160Z\"/>\n",
              "  </svg>\n",
              "    </button>\n",
              "\n",
              "  <style>\n",
              "    .colab-df-container {\n",
              "      display:flex;\n",
              "      gap: 12px;\n",
              "    }\n",
              "\n",
              "    .colab-df-convert {\n",
              "      background-color: #E8F0FE;\n",
              "      border: none;\n",
              "      border-radius: 50%;\n",
              "      cursor: pointer;\n",
              "      display: none;\n",
              "      fill: #1967D2;\n",
              "      height: 32px;\n",
              "      padding: 0 0 0 0;\n",
              "      width: 32px;\n",
              "    }\n",
              "\n",
              "    .colab-df-convert:hover {\n",
              "      background-color: #E2EBFA;\n",
              "      box-shadow: 0px 1px 2px rgba(60, 64, 67, 0.3), 0px 1px 3px 1px rgba(60, 64, 67, 0.15);\n",
              "      fill: #174EA6;\n",
              "    }\n",
              "\n",
              "    .colab-df-buttons div {\n",
              "      margin-bottom: 4px;\n",
              "    }\n",
              "\n",
              "    [theme=dark] .colab-df-convert {\n",
              "      background-color: #3B4455;\n",
              "      fill: #D2E3FC;\n",
              "    }\n",
              "\n",
              "    [theme=dark] .colab-df-convert:hover {\n",
              "      background-color: #434B5C;\n",
              "      box-shadow: 0px 1px 3px 1px rgba(0, 0, 0, 0.15);\n",
              "      filter: drop-shadow(0px 1px 2px rgba(0, 0, 0, 0.3));\n",
              "      fill: #FFFFFF;\n",
              "    }\n",
              "  </style>\n",
              "\n",
              "    <script>\n",
              "      const buttonEl =\n",
              "        document.querySelector('#df-36dd6d02-298b-4a57-b17e-e29b673f9cc0 button.colab-df-convert');\n",
              "      buttonEl.style.display =\n",
              "        google.colab.kernel.accessAllowed ? 'block' : 'none';\n",
              "\n",
              "      async function convertToInteractive(key) {\n",
              "        const element = document.querySelector('#df-36dd6d02-298b-4a57-b17e-e29b673f9cc0');\n",
              "        const dataTable =\n",
              "          await google.colab.kernel.invokeFunction('convertToInteractive',\n",
              "                                                    [key], {});\n",
              "        if (!dataTable) return;\n",
              "\n",
              "        const docLinkHtml = 'Like what you see? Visit the ' +\n",
              "          '<a target=\"_blank\" href=https://colab.research.google.com/notebooks/data_table.ipynb>data table notebook</a>'\n",
              "          + ' to learn more about interactive tables.';\n",
              "        element.innerHTML = '';\n",
              "        dataTable['output_type'] = 'display_data';\n",
              "        await google.colab.output.renderOutput(dataTable, element);\n",
              "        const docLink = document.createElement('div');\n",
              "        docLink.innerHTML = docLinkHtml;\n",
              "        element.appendChild(docLink);\n",
              "      }\n",
              "    </script>\n",
              "  </div>\n",
              "\n",
              "\n",
              "<div id=\"df-1b0b30f3-0c23-45ea-8a5f-726bf49a2161\">\n",
              "  <button class=\"colab-df-quickchart\" onclick=\"quickchart('df-1b0b30f3-0c23-45ea-8a5f-726bf49a2161')\"\n",
              "            title=\"Suggest charts\"\n",
              "            style=\"display:none;\">\n",
              "\n",
              "<svg xmlns=\"http://www.w3.org/2000/svg\" height=\"24px\"viewBox=\"0 0 24 24\"\n",
              "     width=\"24px\">\n",
              "    <g>\n",
              "        <path d=\"M19 3H5c-1.1 0-2 .9-2 2v14c0 1.1.9 2 2 2h14c1.1 0 2-.9 2-2V5c0-1.1-.9-2-2-2zM9 17H7v-7h2v7zm4 0h-2V7h2v10zm4 0h-2v-4h2v4z\"/>\n",
              "    </g>\n",
              "</svg>\n",
              "  </button>\n",
              "\n",
              "<style>\n",
              "  .colab-df-quickchart {\n",
              "      --bg-color: #E8F0FE;\n",
              "      --fill-color: #1967D2;\n",
              "      --hover-bg-color: #E2EBFA;\n",
              "      --hover-fill-color: #174EA6;\n",
              "      --disabled-fill-color: #AAA;\n",
              "      --disabled-bg-color: #DDD;\n",
              "  }\n",
              "\n",
              "  [theme=dark] .colab-df-quickchart {\n",
              "      --bg-color: #3B4455;\n",
              "      --fill-color: #D2E3FC;\n",
              "      --hover-bg-color: #434B5C;\n",
              "      --hover-fill-color: #FFFFFF;\n",
              "      --disabled-bg-color: #3B4455;\n",
              "      --disabled-fill-color: #666;\n",
              "  }\n",
              "\n",
              "  .colab-df-quickchart {\n",
              "    background-color: var(--bg-color);\n",
              "    border: none;\n",
              "    border-radius: 50%;\n",
              "    cursor: pointer;\n",
              "    display: none;\n",
              "    fill: var(--fill-color);\n",
              "    height: 32px;\n",
              "    padding: 0;\n",
              "    width: 32px;\n",
              "  }\n",
              "\n",
              "  .colab-df-quickchart:hover {\n",
              "    background-color: var(--hover-bg-color);\n",
              "    box-shadow: 0 1px 2px rgba(60, 64, 67, 0.3), 0 1px 3px 1px rgba(60, 64, 67, 0.15);\n",
              "    fill: var(--button-hover-fill-color);\n",
              "  }\n",
              "\n",
              "  .colab-df-quickchart-complete:disabled,\n",
              "  .colab-df-quickchart-complete:disabled:hover {\n",
              "    background-color: var(--disabled-bg-color);\n",
              "    fill: var(--disabled-fill-color);\n",
              "    box-shadow: none;\n",
              "  }\n",
              "\n",
              "  .colab-df-spinner {\n",
              "    border: 2px solid var(--fill-color);\n",
              "    border-color: transparent;\n",
              "    border-bottom-color: var(--fill-color);\n",
              "    animation:\n",
              "      spin 1s steps(1) infinite;\n",
              "  }\n",
              "\n",
              "  @keyframes spin {\n",
              "    0% {\n",
              "      border-color: transparent;\n",
              "      border-bottom-color: var(--fill-color);\n",
              "      border-left-color: var(--fill-color);\n",
              "    }\n",
              "    20% {\n",
              "      border-color: transparent;\n",
              "      border-left-color: var(--fill-color);\n",
              "      border-top-color: var(--fill-color);\n",
              "    }\n",
              "    30% {\n",
              "      border-color: transparent;\n",
              "      border-left-color: var(--fill-color);\n",
              "      border-top-color: var(--fill-color);\n",
              "      border-right-color: var(--fill-color);\n",
              "    }\n",
              "    40% {\n",
              "      border-color: transparent;\n",
              "      border-right-color: var(--fill-color);\n",
              "      border-top-color: var(--fill-color);\n",
              "    }\n",
              "    60% {\n",
              "      border-color: transparent;\n",
              "      border-right-color: var(--fill-color);\n",
              "    }\n",
              "    80% {\n",
              "      border-color: transparent;\n",
              "      border-right-color: var(--fill-color);\n",
              "      border-bottom-color: var(--fill-color);\n",
              "    }\n",
              "    90% {\n",
              "      border-color: transparent;\n",
              "      border-bottom-color: var(--fill-color);\n",
              "    }\n",
              "  }\n",
              "</style>\n",
              "\n",
              "  <script>\n",
              "    async function quickchart(key) {\n",
              "      const quickchartButtonEl =\n",
              "        document.querySelector('#' + key + ' button');\n",
              "      quickchartButtonEl.disabled = true;  // To prevent multiple clicks.\n",
              "      quickchartButtonEl.classList.add('colab-df-spinner');\n",
              "      try {\n",
              "        const charts = await google.colab.kernel.invokeFunction(\n",
              "            'suggestCharts', [key], {});\n",
              "      } catch (error) {\n",
              "        console.error('Error during call to suggestCharts:', error);\n",
              "      }\n",
              "      quickchartButtonEl.classList.remove('colab-df-spinner');\n",
              "      quickchartButtonEl.classList.add('colab-df-quickchart-complete');\n",
              "    }\n",
              "    (() => {\n",
              "      let quickchartButtonEl =\n",
              "        document.querySelector('#df-1b0b30f3-0c23-45ea-8a5f-726bf49a2161 button');\n",
              "      quickchartButtonEl.style.display =\n",
              "        google.colab.kernel.accessAllowed ? 'block' : 'none';\n",
              "    })();\n",
              "  </script>\n",
              "</div>\n",
              "    </div>\n",
              "  </div>\n"
            ],
            "text/plain": [
              "                                                     text      fan  retweets  \\\n",
              "134889           INTERCEPTION! Hope #Lane is ok! #GoHawks  gohawks         1   \n",
              "153226  Relationship goals 😍 #GoHawks http://t.co/FLdU...  gohawks         3   \n",
              "129121                                #BeastMode #GoHawks  gohawks         3   \n",
              "111062  Nervous and excited for the game. Go Hawks!!! ...  gohawks         1   \n",
              "12732   Even Tyson knows whath up! Lol #GoHawks http:/...  gohawks         1   \n",
              "\n",
              "        likes  \n",
              "134889      0  \n",
              "153226      0  \n",
              "129121      0  \n",
              "111062      0  \n",
              "12732       0  "
            ]
          },
          "execution_count": 18,
          "metadata": {},
          "output_type": "execute_result"
        }
      ],
      "source": [
        "hawks.head()"
      ]
    },
    {
      "cell_type": "code",
      "execution_count": null,
      "metadata": {
        "colab": {
          "base_uri": "https://localhost:8080/"
        },
        "id": "64HkzvxpHOdG",
        "outputId": "477521f6-42c0-445a-fbfc-c61a885bc60e"
      },
      "outputs": [
        {
          "data": {
            "text/plain": [
              "count    23511.000000\n",
              "mean         0.019608\n",
              "std          0.466667\n",
              "min          0.000000\n",
              "25%          0.000000\n",
              "50%          0.000000\n",
              "75%          0.000000\n",
              "max         60.000000\n",
              "Name: likes, dtype: float64"
            ]
          },
          "execution_count": 19,
          "metadata": {},
          "output_type": "execute_result"
        }
      ],
      "source": [
        "patriots['likes'].describe()"
      ]
    },
    {
      "cell_type": "code",
      "execution_count": null,
      "metadata": {
        "colab": {
          "base_uri": "https://localhost:8080/",
          "height": 472
        },
        "id": "ZcXOR3nWG4mQ",
        "outputId": "516b8e2e-b1e2-4c51-808b-6191c5c8cfc0"
      },
      "outputs": [
        {
          "data": {
            "image/png": "[encoded data removed]",
            "text/plain": [
              "<Figure size 640x480 with 1 Axes>"
            ]
          },
          "metadata": {},
          "output_type": "display_data"
        }
      ],
      "source": [
        "plt.hist(patriots['retweets'])\n",
        "plt.title('Distribution of Likes')\n",
        "plt.xlabel('Likes')\n",
        "plt.ylabel('Frequency')\n",
        "plt.show()"
      ]
    },
    {
      "cell_type": "markdown",
      "metadata": {
        "id": "B7ggWcenJ5xs"
      },
      "source": [
        "# Data clean"
      ]
    },
    {
      "cell_type": "markdown",
      "metadata": {
        "id": "sz-E280yJ_eF"
      },
      "source": [
        "The original tweet texts are very messy, and also contain the hashtags that we might want to predict. We need a full clean for the text so that they can be further used as features.\n",
        "\n",
        "1. Remove any hashtag and mention from the raw text, as those have too high correlation with the target.\n",
        "2. Remove any html element like urls which cannot be well embedded and meaningless.\n",
        "\n",
        "Experiments showed that the lemmatization is too strong for tweet text, so I did not apply it for further training."
      ]
    },
    {
      "cell_type": "markdown",
      "metadata": {
        "id": "JTwR0edOVfiR"
      },
      "source": [
        "We also want to remove the empty rows that have empty text or only spaces, which may influence the model learning."
      ]
    },
    {
      "cell_type": "code",
      "execution_count": null,
      "metadata": {
        "id": "Q8vxLx7PKVt7"
      },
      "outputs": [],
      "source": [
        "def count_alnum(s):\n",
        "    return sum(c.isalnum() for c in s)\n",
        "\n",
        "import re\n",
        "def clean(text):\n",
        "    text = re.sub(r'https?:\\/\\/\\S+', '', text)              # remove the urls\n",
        "    text = re.sub(r'#\\w+', '', text)                        # remove the hashtags\n",
        "    text = re.sub(r'@\\w+', '', text)                        # remove the mentions\n",
        "    texter = re.sub(r\"<br />\", \" \", text)\n",
        "    texter = re.sub(r\"&quot;\", \"\\\"\",texter)\n",
        "    texter = re.sub('&#39;', \"\\\"\", texter)\n",
        "    texter = re.sub('\\n', \" \", texter)\n",
        "    texter = re.sub(' u ',\" you \", texter)\n",
        "    texter = re.sub('`',\"\", texter)\n",
        "    texter = re.sub(' +', ' ', texter)\n",
        "    texter = re.sub(r\"(!)\\1+\", r\"!\", texter)\n",
        "    texter = re.sub(r\"(\\?)\\1+\", r\"?\", texter)\n",
        "    texter = re.sub('&amp;', 'and', texter)\n",
        "    texter = re.sub('\\r', ' ',texter)\n",
        "    clean = re.compile('<.*?>')\n",
        "    texter = texter.encode('ascii', 'ignore').decode('ascii')\n",
        "    texter = re.sub(clean, '', texter)\n",
        "    if texter == \"\":\n",
        "        texter = \"\"\n",
        "    return texter\n",
        "\n",
        "\n",
        "def exclude_empty_row(dataframe, target_column):\n",
        "    \"\"\"\n",
        "    Remove the rows that have empty text, which may influence the model learning.\n",
        "    \"\"\"\n",
        "    return dataframe[dataframe[target_column].str.strip().ne('')]"
      ]
    },
    {
      "cell_type": "code",
      "execution_count": null,
      "metadata": {
        "id": "--td23eAyQq4"
      },
      "outputs": [],
      "source": [
        "full_data[\"text\"] = full_data[\"text\"].apply(clean)\n",
        "full_data_clean = exclude_empty_row(full_data, \"text\")"
      ]
    },
    {
      "cell_type": "code",
      "execution_count": null,
      "metadata": {
        "colab": {
          "base_uri": "https://localhost:8080/",
          "height": 206
        },
        "id": "3wuPTDutyaqF",
        "outputId": "304a519d-a0ec-4ef9-cf35-aedc245e3200"
      },
      "outputs": [
        {
          "data": {
            "application/vnd.google.colaboratory.intrinsic+json": {
              "summary": "{\n  \"name\": \"full_data_clean\",\n  \"rows\": 4408,\n  \"fields\": [\n    {\n      \"column\": \"text\",\n      \"properties\": {\n        \"dtype\": \"string\",\n        \"num_unique_values\": 4262,\n        \"samples\": [\n          \"Vamosssss! \",\n          \"o entiendo nada de futbol americano, pero uy Tom Brady \",\n          \"Toptweet : Toptweet... \"\n        ],\n        \"semantic_type\": \"\",\n        \"description\": \"\"\n      }\n    },\n    {\n      \"column\": \"fan\",\n      \"properties\": {\n        \"dtype\": \"category\",\n        \"num_unique_values\": 2,\n        \"samples\": [\n          \"gohawks\",\n          \"gopatriots\"\n        ],\n        \"semantic_type\": \"\",\n        \"description\": \"\"\n      }\n    },\n    {\n      \"column\": \"retweets\",\n      \"properties\": {\n        \"dtype\": \"number\",\n        \"std\": 11,\n        \"min\": 1,\n        \"max\": 549,\n        \"num_unique_values\": 30,\n        \"samples\": [\n          165,\n          76\n        ],\n        \"semantic_type\": \"\",\n        \"description\": \"\"\n      }\n    },\n    {\n      \"column\": \"likes\",\n      \"properties\": {\n        \"dtype\": \"number\",\n        \"std\": 4,\n        \"min\": 0,\n        \"max\": 284,\n        \"num_unique_values\": 10,\n        \"samples\": [\n          13,\n          2\n        ],\n        \"semantic_type\": \"\",\n        \"description\": \"\"\n      }\n    }\n  ]\n}",
              "type": "dataframe",
              "variable_name": "full_data_clean"
            },
            "text/html": [
              "\n",
              "  <div id=\"df-ecedf387-7879-4ab9-8583-881dee37f8f3\" class=\"colab-df-container\">\n",
              "    <div>\n",
              "<style scoped>\n",
              "    .dataframe tbody tr th:only-of-type {\n",
              "        vertical-align: middle;\n",
              "    }\n",
              "\n",
              "    .dataframe tbody tr th {\n",
              "        vertical-align: top;\n",
              "    }\n",
              "\n",
              "    .dataframe thead th {\n",
              "        text-align: right;\n",
              "    }\n",
              "</style>\n",
              "<table border=\"1\" class=\"dataframe\">\n",
              "  <thead>\n",
              "    <tr style=\"text-align: right;\">\n",
              "      <th></th>\n",
              "      <th>text</th>\n",
              "      <th>fan</th>\n",
              "      <th>retweets</th>\n",
              "      <th>likes</th>\n",
              "    </tr>\n",
              "  </thead>\n",
              "  <tbody>\n",
              "    <tr>\n",
              "      <th>16903</th>\n",
              "      <td>Qu les pasa a los Patriotas?</td>\n",
              "      <td>gopatriots</td>\n",
              "      <td>1</td>\n",
              "      <td>0</td>\n",
              "    </tr>\n",
              "    <tr>\n",
              "      <th>11788</th>\n",
              "      <td>\\o/</td>\n",
              "      <td>gopatriots</td>\n",
              "      <td>1</td>\n",
              "      <td>0</td>\n",
              "    </tr>\n",
              "    <tr>\n",
              "      <th>30200</th>\n",
              "      <td>We must be on a date dash or something  @</td>\n",
              "      <td>gohawks</td>\n",
              "      <td>1</td>\n",
              "      <td>0</td>\n",
              "    </tr>\n",
              "    <tr>\n",
              "      <th>11502</th>\n",
              "      <td>Edelman is the man!</td>\n",
              "      <td>gopatriots</td>\n",
              "      <td>1</td>\n",
              "      <td>0</td>\n",
              "    </tr>\n",
              "    <tr>\n",
              "      <th>16081</th>\n",
              "      <td>Best halftime show ever!</td>\n",
              "      <td>gopatriots</td>\n",
              "      <td>1</td>\n",
              "      <td>0</td>\n",
              "    </tr>\n",
              "  </tbody>\n",
              "</table>\n",
              "</div>\n",
              "    <div class=\"colab-df-buttons\">\n",
              "\n",
              "  <div class=\"colab-df-container\">\n",
              "    <button class=\"colab-df-convert\" onclick=\"convertToInteractive('df-ecedf387-7879-4ab9-8583-881dee37f8f3')\"\n",
              "            title=\"Convert this dataframe to an interactive table.\"\n",
              "            style=\"display:none;\">\n",
              "\n",
              "  <svg xmlns=\"http://www.w3.org/2000/svg\" height=\"24px\" viewBox=\"0 -960 960 960\">\n",
              "    <path d=\"M120-120v-720h720v720H120Zm60-500h600v-160H180v160Zm220 220h160v-160H400v160Zm0 220h160v-160H400v160ZM180-400h160v-160H180v160Zm440 0h160v-160H620v160ZM180-180h160v-160H180v160Zm440 0h160v-160H620v160Z\"/>\n",
              "  </svg>\n",
              "    </button>\n",
              "\n",
              "  <style>\n",
              "    .colab-df-container {\n",
              "      display:flex;\n",
              "      gap: 12px;\n",
              "    }\n",
              "\n",
              "    .colab-df-convert {\n",
              "      background-color: #E8F0FE;\n",
              "      border: none;\n",
              "      border-radius: 50%;\n",
              "      cursor: pointer;\n",
              "      display: none;\n",
              "      fill: #1967D2;\n",
              "      height: 32px;\n",
              "      padding: 0 0 0 0;\n",
              "      width: 32px;\n",
              "    }\n",
              "\n",
              "    .colab-df-convert:hover {\n",
              "      background-color: #E2EBFA;\n",
              "      box-shadow: 0px 1px 2px rgba(60, 64, 67, 0.3), 0px 1px 3px 1px rgba(60, 64, 67, 0.15);\n",
              "      fill: #174EA6;\n",
              "    }\n",
              "\n",
              "    .colab-df-buttons div {\n",
              "      margin-bottom: 4px;\n",
              "    }\n",
              "\n",
              "    [theme=dark] .colab-df-convert {\n",
              "      background-color: #3B4455;\n",
              "      fill: #D2E3FC;\n",
              "    }\n",
              "\n",
              "    [theme=dark] .colab-df-convert:hover {\n",
              "      background-color: #434B5C;\n",
              "      box-shadow: 0px 1px 3px 1px rgba(0, 0, 0, 0.15);\n",
              "      filter: drop-shadow(0px 1px 2px rgba(0, 0, 0, 0.3));\n",
              "      fill: #FFFFFF;\n",
              "    }\n",
              "  </style>\n",
              "\n",
              "    <script>\n",
              "      const buttonEl =\n",
              "        document.querySelector('#df-ecedf387-7879-4ab9-8583-881dee37f8f3 button.colab-df-convert');\n",
              "      buttonEl.style.display =\n",
              "        google.colab.kernel.accessAllowed ? 'block' : 'none';\n",
              "\n",
              "      async function convertToInteractive(key) {\n",
              "        const element = document.querySelector('#df-ecedf387-7879-4ab9-8583-881dee37f8f3');\n",
              "        const dataTable =\n",
              "          await google.colab.kernel.invokeFunction('convertToInteractive',\n",
              "                                                    [key], {});\n",
              "        if (!dataTable) return;\n",
              "\n",
              "        const docLinkHtml = 'Like what you see? Visit the ' +\n",
              "          '<a target=\"_blank\" href=https://colab.research.google.com/notebooks/data_table.ipynb>data table notebook</a>'\n",
              "          + ' to learn more about interactive tables.';\n",
              "        element.innerHTML = '';\n",
              "        dataTable['output_type'] = 'display_data';\n",
              "        await google.colab.output.renderOutput(dataTable, element);\n",
              "        const docLink = document.createElement('div');\n",
              "        docLink.innerHTML = docLinkHtml;\n",
              "        element.appendChild(docLink);\n",
              "      }\n",
              "    </script>\n",
              "  </div>\n",
              "\n",
              "\n",
              "<div id=\"df-8c6b7c56-5403-4d6a-833e-4a8cbad4a5f0\">\n",
              "  <button class=\"colab-df-quickchart\" onclick=\"quickchart('df-8c6b7c56-5403-4d6a-833e-4a8cbad4a5f0')\"\n",
              "            title=\"Suggest charts\"\n",
              "            style=\"display:none;\">\n",
              "\n",
              "<svg xmlns=\"http://www.w3.org/2000/svg\" height=\"24px\"viewBox=\"0 0 24 24\"\n",
              "     width=\"24px\">\n",
              "    <g>\n",
              "        <path d=\"M19 3H5c-1.1 0-2 .9-2 2v14c0 1.1.9 2 2 2h14c1.1 0 2-.9 2-2V5c0-1.1-.9-2-2-2zM9 17H7v-7h2v7zm4 0h-2V7h2v10zm4 0h-2v-4h2v4z\"/>\n",
              "    </g>\n",
              "</svg>\n",
              "  </button>\n",
              "\n",
              "<style>\n",
              "  .colab-df-quickchart {\n",
              "      --bg-color: #E8F0FE;\n",
              "      --fill-color: #1967D2;\n",
              "      --hover-bg-color: #E2EBFA;\n",
              "      --hover-fill-color: #174EA6;\n",
              "      --disabled-fill-color: #AAA;\n",
              "      --disabled-bg-color: #DDD;\n",
              "  }\n",
              "\n",
              "  [theme=dark] .colab-df-quickchart {\n",
              "      --bg-color: #3B4455;\n",
              "      --fill-color: #D2E3FC;\n",
              "      --hover-bg-color: #434B5C;\n",
              "      --hover-fill-color: #FFFFFF;\n",
              "      --disabled-bg-color: #3B4455;\n",
              "      --disabled-fill-color: #666;\n",
              "  }\n",
              "\n",
              "  .colab-df-quickchart {\n",
              "    background-color: var(--bg-color);\n",
              "    border: none;\n",
              "    border-radius: 50%;\n",
              "    cursor: pointer;\n",
              "    display: none;\n",
              "    fill: var(--fill-color);\n",
              "    height: 32px;\n",
              "    padding: 0;\n",
              "    width: 32px;\n",
              "  }\n",
              "\n",
              "  .colab-df-quickchart:hover {\n",
              "    background-color: var(--hover-bg-color);\n",
              "    box-shadow: 0 1px 2px rgba(60, 64, 67, 0.3), 0 1px 3px 1px rgba(60, 64, 67, 0.15);\n",
              "    fill: var(--button-hover-fill-color);\n",
              "  }\n",
              "\n",
              "  .colab-df-quickchart-complete:disabled,\n",
              "  .colab-df-quickchart-complete:disabled:hover {\n",
              "    background-color: var(--disabled-bg-color);\n",
              "    fill: var(--disabled-fill-color);\n",
              "    box-shadow: none;\n",
              "  }\n",
              "\n",
              "  .colab-df-spinner {\n",
              "    border: 2px solid var(--fill-color);\n",
              "    border-color: transparent;\n",
              "    border-bottom-color: var(--fill-color);\n",
              "    animation:\n",
              "      spin 1s steps(1) infinite;\n",
              "  }\n",
              "\n",
              "  @keyframes spin {\n",
              "    0% {\n",
              "      border-color: transparent;\n",
              "      border-bottom-color: var(--fill-color);\n",
              "      border-left-color: var(--fill-color);\n",
              "    }\n",
              "    20% {\n",
              "      border-color: transparent;\n",
              "      border-left-color: var(--fill-color);\n",
              "      border-top-color: var(--fill-color);\n",
              "    }\n",
              "    30% {\n",
              "      border-color: transparent;\n",
              "      border-left-color: var(--fill-color);\n",
              "      border-top-color: var(--fill-color);\n",
              "      border-right-color: var(--fill-color);\n",
              "    }\n",
              "    40% {\n",
              "      border-color: transparent;\n",
              "      border-right-color: var(--fill-color);\n",
              "      border-top-color: var(--fill-color);\n",
              "    }\n",
              "    60% {\n",
              "      border-color: transparent;\n",
              "      border-right-color: var(--fill-color);\n",
              "    }\n",
              "    80% {\n",
              "      border-color: transparent;\n",
              "      border-right-color: var(--fill-color);\n",
              "      border-bottom-color: var(--fill-color);\n",
              "    }\n",
              "    90% {\n",
              "      border-color: transparent;\n",
              "      border-bottom-color: var(--fill-color);\n",
              "    }\n",
              "  }\n",
              "</style>\n",
              "\n",
              "  <script>\n",
              "    async function quickchart(key) {\n",
              "      const quickchartButtonEl =\n",
              "        document.querySelector('#' + key + ' button');\n",
              "      quickchartButtonEl.disabled = true;  // To prevent multiple clicks.\n",
              "      quickchartButtonEl.classList.add('colab-df-spinner');\n",
              "      try {\n",
              "        const charts = await google.colab.kernel.invokeFunction(\n",
              "            'suggestCharts', [key], {});\n",
              "      } catch (error) {\n",
              "        console.error('Error during call to suggestCharts:', error);\n",
              "      }\n",
              "      quickchartButtonEl.classList.remove('colab-df-spinner');\n",
              "      quickchartButtonEl.classList.add('colab-df-quickchart-complete');\n",
              "    }\n",
              "    (() => {\n",
              "      let quickchartButtonEl =\n",
              "        document.querySelector('#df-8c6b7c56-5403-4d6a-833e-4a8cbad4a5f0 button');\n",
              "      quickchartButtonEl.style.display =\n",
              "        google.colab.kernel.accessAllowed ? 'block' : 'none';\n",
              "    })();\n",
              "  </script>\n",
              "</div>\n",
              "    </div>\n",
              "  </div>\n"
            ],
            "text/plain": [
              "                                              text         fan  retweets  \\\n",
              "16903                Qu les pasa a los Patriotas?   gopatriots         1   \n",
              "11788                                          \\o/  gopatriots         1   \n",
              "30200  We must be on a date dash or something  @       gohawks         1   \n",
              "11502                          Edelman is the man!  gopatriots         1   \n",
              "16081                    Best halftime show ever!   gopatriots         1   \n",
              "\n",
              "       likes  \n",
              "16903      0  \n",
              "11788      0  \n",
              "30200      0  \n",
              "11502      0  \n",
              "16081      0  "
            ]
          },
          "execution_count": 24,
          "metadata": {},
          "output_type": "execute_result"
        }
      ],
      "source": [
        "full_data_clean.head()"
      ]
    },
    {
      "cell_type": "code",
      "execution_count": null,
      "metadata": {
        "id": "MRzxGdWbNuB4"
      },
      "outputs": [],
      "source": [
        "patriots[\"text\"] = patriots[\"text\"].apply(clean)\n",
        "patriots_clean = exclude_empty_row(patriots, \"text\")\n",
        "\n",
        "hawks[\"text\"] = hawks[\"text\"].apply(clean)\n",
        "hawks_clean = exclude_empty_row(hawks, \"text\")"
      ]
    },
    {
      "cell_type": "code",
      "execution_count": null,
      "metadata": {
        "colab": {
          "base_uri": "https://localhost:8080/",
          "height": 363
        },
        "id": "J2J4FW7oN8Rf",
        "outputId": "ba42ac11-214e-4ffc-de1c-ebc9d125c429"
      },
      "outputs": [
        {
          "data": {
            "application/vnd.google.colaboratory.intrinsic+json": {
              "summary": "{\n  \"name\": \"patriots_clean\",\n  \"rows\": 20081,\n  \"fields\": [\n    {\n      \"column\": \"text\",\n      \"properties\": {\n        \"dtype\": \"string\",\n        \"num_unique_values\": 18802,\n        \"samples\": [\n          \"No sore losers here \",\n          \"That's just about game, set, match\",\n          \" Espectacular Final!\"\n        ],\n        \"semantic_type\": \"\",\n        \"description\": \"\"\n      }\n    },\n    {\n      \"column\": \"fan\",\n      \"properties\": {\n        \"dtype\": \"category\",\n        \"num_unique_values\": 1,\n        \"samples\": [\n          \"gopatriots\"\n        ],\n        \"semantic_type\": \"\",\n        \"description\": \"\"\n      }\n    },\n    {\n      \"column\": \"retweets\",\n      \"properties\": {\n        \"dtype\": \"number\",\n        \"std\": 5,\n        \"min\": 1,\n        \"max\": 379,\n        \"num_unique_values\": 62,\n        \"samples\": [\n          23\n        ],\n        \"semantic_type\": \"\",\n        \"description\": \"\"\n      }\n    },\n    {\n      \"column\": \"likes\",\n      \"properties\": {\n        \"dtype\": \"number\",\n        \"std\": 0,\n        \"min\": 0,\n        \"max\": 60,\n        \"num_unique_values\": 12,\n        \"samples\": [\n          15\n        ],\n        \"semantic_type\": \"\",\n        \"description\": \"\"\n      }\n    }\n  ]\n}",
              "type": "dataframe",
              "variable_name": "patriots_clean"
            },
            "text/html": [
              "\n",
              "  <div id=\"df-2ebce395-190f-438d-9849-d089356fd373\" class=\"colab-df-container\">\n",
              "    <div>\n",
              "<style scoped>\n",
              "    .dataframe tbody tr th:only-of-type {\n",
              "        vertical-align: middle;\n",
              "    }\n",
              "\n",
              "    .dataframe tbody tr th {\n",
              "        vertical-align: top;\n",
              "    }\n",
              "\n",
              "    .dataframe thead th {\n",
              "        text-align: right;\n",
              "    }\n",
              "</style>\n",
              "<table border=\"1\" class=\"dataframe\">\n",
              "  <thead>\n",
              "    <tr style=\"text-align: right;\">\n",
              "      <th></th>\n",
              "      <th>text</th>\n",
              "      <th>fan</th>\n",
              "      <th>retweets</th>\n",
              "      <th>likes</th>\n",
              "    </tr>\n",
              "  </thead>\n",
              "  <tbody>\n",
              "    <tr>\n",
              "      <th>0</th>\n",
              "      <td>LeGarrette Blount does the Ray Lewis Dance Hop...</td>\n",
              "      <td>gopatriots</td>\n",
              "      <td>6</td>\n",
              "      <td>0</td>\n",
              "    </tr>\n",
              "    <tr>\n",
              "      <th>1</th>\n",
              "      <td>Y as ser mi futuro hijo</td>\n",
              "      <td>gopatriots</td>\n",
              "      <td>4</td>\n",
              "      <td>0</td>\n",
              "    </tr>\n",
              "    <tr>\n",
              "      <th>2</th>\n",
              "      <td>With both my father and husband yelling at the...</td>\n",
              "      <td>gopatriots</td>\n",
              "      <td>3</td>\n",
              "      <td>0</td>\n",
              "    </tr>\n",
              "    <tr>\n",
              "      <th>3</th>\n",
              "      <td>The girls soccer team is ranked the No. 3 team...</td>\n",
              "      <td>gopatriots</td>\n",
              "      <td>3</td>\n",
              "      <td>1</td>\n",
              "    </tr>\n",
              "    <tr>\n",
              "      <th>4</th>\n",
              "      <td>Patriots Champions! RT if you agree ;)</td>\n",
              "      <td>gopatriots</td>\n",
              "      <td>2</td>\n",
              "      <td>0</td>\n",
              "    </tr>\n",
              "    <tr>\n",
              "      <th>5</th>\n",
              "      <td>12-0! The girls varsity soccer team dominates ...</td>\n",
              "      <td>gopatriots</td>\n",
              "      <td>6</td>\n",
              "      <td>2</td>\n",
              "    </tr>\n",
              "    <tr>\n",
              "      <th>6</th>\n",
              "      <td>thanks for the follow!</td>\n",
              "      <td>gopatriots</td>\n",
              "      <td>2</td>\n",
              "      <td>0</td>\n",
              "    </tr>\n",
              "    <tr>\n",
              "      <th>7</th>\n",
              "      <td>: which team do you follow? who do you want to...</td>\n",
              "      <td>gopatriots</td>\n",
              "      <td>4</td>\n",
              "      <td>0</td>\n",
              "    </tr>\n",
              "    <tr>\n",
              "      <th>8</th>\n",
              "      <td>Reminder - Old HomeBase Bell Schedule today/to...</td>\n",
              "      <td>gopatriots</td>\n",
              "      <td>3</td>\n",
              "      <td>0</td>\n",
              "    </tr>\n",
              "    <tr>\n",
              "      <th>10</th>\n",
              "      <td>Can't wait to watch the Super Bowl of this sea...</td>\n",
              "      <td>gopatriots</td>\n",
              "      <td>1</td>\n",
              "      <td>0</td>\n",
              "    </tr>\n",
              "  </tbody>\n",
              "</table>\n",
              "</div>\n",
              "    <div class=\"colab-df-buttons\">\n",
              "\n",
              "  <div class=\"colab-df-container\">\n",
              "    <button class=\"colab-df-convert\" onclick=\"convertToInteractive('df-2ebce395-190f-438d-9849-d089356fd373')\"\n",
              "            title=\"Convert this dataframe to an interactive table.\"\n",
              "            style=\"display:none;\">\n",
              "\n",
              "  <svg xmlns=\"http://www.w3.org/2000/svg\" height=\"24px\" viewBox=\"0 -960 960 960\">\n",
              "    <path d=\"M120-120v-720h720v720H120Zm60-500h600v-160H180v160Zm220 220h160v-160H400v160Zm0 220h160v-160H400v160ZM180-400h160v-160H180v160Zm440 0h160v-160H620v160ZM180-180h160v-160H180v160Zm440 0h160v-160H620v160Z\"/>\n",
              "  </svg>\n",
              "    </button>\n",
              "\n",
              "  <style>\n",
              "    .colab-df-container {\n",
              "      display:flex;\n",
              "      gap: 12px;\n",
              "    }\n",
              "\n",
              "    .colab-df-convert {\n",
              "      background-color: #E8F0FE;\n",
              "      border: none;\n",
              "      border-radius: 50%;\n",
              "      cursor: pointer;\n",
              "      display: none;\n",
              "      fill: #1967D2;\n",
              "      height: 32px;\n",
              "      padding: 0 0 0 0;\n",
              "      width: 32px;\n",
              "    }\n",
              "\n",
              "    .colab-df-convert:hover {\n",
              "      background-color: #E2EBFA;\n",
              "      box-shadow: 0px 1px 2px rgba(60, 64, 67, 0.3), 0px 1px 3px 1px rgba(60, 64, 67, 0.15);\n",
              "      fill: #174EA6;\n",
              "    }\n",
              "\n",
              "    .colab-df-buttons div {\n",
              "      margin-bottom: 4px;\n",
              "    }\n",
              "\n",
              "    [theme=dark] .colab-df-convert {\n",
              "      background-color: #3B4455;\n",
              "      fill: #D2E3FC;\n",
              "    }\n",
              "\n",
              "    [theme=dark] .colab-df-convert:hover {\n",
              "      background-color: #434B5C;\n",
              "      box-shadow: 0px 1px 3px 1px rgba(0, 0, 0, 0.15);\n",
              "      filter: drop-shadow(0px 1px 2px rgba(0, 0, 0, 0.3));\n",
              "      fill: #FFFFFF;\n",
              "    }\n",
              "  </style>\n",
              "\n",
              "    <script>\n",
              "      const buttonEl =\n",
              "        document.querySelector('#df-2ebce395-190f-438d-9849-d089356fd373 button.colab-df-convert');\n",
              "      buttonEl.style.display =\n",
              "        google.colab.kernel.accessAllowed ? 'block' : 'none';\n",
              "\n",
              "      async function convertToInteractive(key) {\n",
              "        const element = document.querySelector('#df-2ebce395-190f-438d-9849-d089356fd373');\n",
              "        const dataTable =\n",
              "          await google.colab.kernel.invokeFunction('convertToInteractive',\n",
              "                                                    [key], {});\n",
              "        if (!dataTable) return;\n",
              "\n",
              "        const docLinkHtml = 'Like what you see? Visit the ' +\n",
              "          '<a target=\"_blank\" href=https://colab.research.google.com/notebooks/data_table.ipynb>data table notebook</a>'\n",
              "          + ' to learn more about interactive tables.';\n",
              "        element.innerHTML = '';\n",
              "        dataTable['output_type'] = 'display_data';\n",
              "        await google.colab.output.renderOutput(dataTable, element);\n",
              "        const docLink = document.createElement('div');\n",
              "        docLink.innerHTML = docLinkHtml;\n",
              "        element.appendChild(docLink);\n",
              "      }\n",
              "    </script>\n",
              "  </div>\n",
              "\n",
              "\n",
              "<div id=\"df-05840d66-6d18-4c9c-b517-c58ad56961d8\">\n",
              "  <button class=\"colab-df-quickchart\" onclick=\"quickchart('df-05840d66-6d18-4c9c-b517-c58ad56961d8')\"\n",
              "            title=\"Suggest charts\"\n",
              "            style=\"display:none;\">\n",
              "\n",
              "<svg xmlns=\"http://www.w3.org/2000/svg\" height=\"24px\"viewBox=\"0 0 24 24\"\n",
              "     width=\"24px\">\n",
              "    <g>\n",
              "        <path d=\"M19 3H5c-1.1 0-2 .9-2 2v14c0 1.1.9 2 2 2h14c1.1 0 2-.9 2-2V5c0-1.1-.9-2-2-2zM9 17H7v-7h2v7zm4 0h-2V7h2v10zm4 0h-2v-4h2v4z\"/>\n",
              "    </g>\n",
              "</svg>\n",
              "  </button>\n",
              "\n",
              "<style>\n",
              "  .colab-df-quickchart {\n",
              "      --bg-color: #E8F0FE;\n",
              "      --fill-color: #1967D2;\n",
              "      --hover-bg-color: #E2EBFA;\n",
              "      --hover-fill-color: #174EA6;\n",
              "      --disabled-fill-color: #AAA;\n",
              "      --disabled-bg-color: #DDD;\n",
              "  }\n",
              "\n",
              "  [theme=dark] .colab-df-quickchart {\n",
              "      --bg-color: #3B4455;\n",
              "      --fill-color: #D2E3FC;\n",
              "      --hover-bg-color: #434B5C;\n",
              "      --hover-fill-color: #FFFFFF;\n",
              "      --disabled-bg-color: #3B4455;\n",
              "      --disabled-fill-color: #666;\n",
              "  }\n",
              "\n",
              "  .colab-df-quickchart {\n",
              "    background-color: var(--bg-color);\n",
              "    border: none;\n",
              "    border-radius: 50%;\n",
              "    cursor: pointer;\n",
              "    display: none;\n",
              "    fill: var(--fill-color);\n",
              "    height: 32px;\n",
              "    padding: 0;\n",
              "    width: 32px;\n",
              "  }\n",
              "\n",
              "  .colab-df-quickchart:hover {\n",
              "    background-color: var(--hover-bg-color);\n",
              "    box-shadow: 0 1px 2px rgba(60, 64, 67, 0.3), 0 1px 3px 1px rgba(60, 64, 67, 0.15);\n",
              "    fill: var(--button-hover-fill-color);\n",
              "  }\n",
              "\n",
              "  .colab-df-quickchart-complete:disabled,\n",
              "  .colab-df-quickchart-complete:disabled:hover {\n",
              "    background-color: var(--disabled-bg-color);\n",
              "    fill: var(--disabled-fill-color);\n",
              "    box-shadow: none;\n",
              "  }\n",
              "\n",
              "  .colab-df-spinner {\n",
              "    border: 2px solid var(--fill-color);\n",
              "    border-color: transparent;\n",
              "    border-bottom-color: var(--fill-color);\n",
              "    animation:\n",
              "      spin 1s steps(1) infinite;\n",
              "  }\n",
              "\n",
              "  @keyframes spin {\n",
              "    0% {\n",
              "      border-color: transparent;\n",
              "      border-bottom-color: var(--fill-color);\n",
              "      border-left-color: var(--fill-color);\n",
              "    }\n",
              "    20% {\n",
              "      border-color: transparent;\n",
              "      border-left-color: var(--fill-color);\n",
              "      border-top-color: var(--fill-color);\n",
              "    }\n",
              "    30% {\n",
              "      border-color: transparent;\n",
              "      border-left-color: var(--fill-color);\n",
              "      border-top-color: var(--fill-color);\n",
              "      border-right-color: var(--fill-color);\n",
              "    }\n",
              "    40% {\n",
              "      border-color: transparent;\n",
              "      border-right-color: var(--fill-color);\n",
              "      border-top-color: var(--fill-color);\n",
              "    }\n",
              "    60% {\n",
              "      border-color: transparent;\n",
              "      border-right-color: var(--fill-color);\n",
              "    }\n",
              "    80% {\n",
              "      border-color: transparent;\n",
              "      border-right-color: var(--fill-color);\n",
              "      border-bottom-color: var(--fill-color);\n",
              "    }\n",
              "    90% {\n",
              "      border-color: transparent;\n",
              "      border-bottom-color: var(--fill-color);\n",
              "    }\n",
              "  }\n",
              "</style>\n",
              "\n",
              "  <script>\n",
              "    async function quickchart(key) {\n",
              "      const quickchartButtonEl =\n",
              "        document.querySelector('#' + key + ' button');\n",
              "      quickchartButtonEl.disabled = true;  // To prevent multiple clicks.\n",
              "      quickchartButtonEl.classList.add('colab-df-spinner');\n",
              "      try {\n",
              "        const charts = await google.colab.kernel.invokeFunction(\n",
              "            'suggestCharts', [key], {});\n",
              "      } catch (error) {\n",
              "        console.error('Error during call to suggestCharts:', error);\n",
              "      }\n",
              "      quickchartButtonEl.classList.remove('colab-df-spinner');\n",
              "      quickchartButtonEl.classList.add('colab-df-quickchart-complete');\n",
              "    }\n",
              "    (() => {\n",
              "      let quickchartButtonEl =\n",
              "        document.querySelector('#df-05840d66-6d18-4c9c-b517-c58ad56961d8 button');\n",
              "      quickchartButtonEl.style.display =\n",
              "        google.colab.kernel.accessAllowed ? 'block' : 'none';\n",
              "    })();\n",
              "  </script>\n",
              "</div>\n",
              "    </div>\n",
              "  </div>\n"
            ],
            "text/plain": [
              "                                                 text         fan  retweets  \\\n",
              "0   LeGarrette Blount does the Ray Lewis Dance Hop...  gopatriots         6   \n",
              "1                           Y as ser mi futuro hijo    gopatriots         4   \n",
              "2   With both my father and husband yelling at the...  gopatriots         3   \n",
              "3   The girls soccer team is ranked the No. 3 team...  gopatriots         3   \n",
              "4             Patriots Champions! RT if you agree ;)   gopatriots         2   \n",
              "5   12-0! The girls varsity soccer team dominates ...  gopatriots         6   \n",
              "6                             thanks for the follow!   gopatriots         2   \n",
              "7   : which team do you follow? who do you want to...  gopatriots         4   \n",
              "8   Reminder - Old HomeBase Bell Schedule today/to...  gopatriots         3   \n",
              "10  Can't wait to watch the Super Bowl of this sea...  gopatriots         1   \n",
              "\n",
              "    likes  \n",
              "0       0  \n",
              "1       0  \n",
              "2       0  \n",
              "3       1  \n",
              "4       0  \n",
              "5       2  \n",
              "6       0  \n",
              "7       0  \n",
              "8       0  \n",
              "10      0  "
            ]
          },
          "execution_count": 26,
          "metadata": {},
          "output_type": "execute_result"
        }
      ],
      "source": [
        "patriots_clean.head(10)"
      ]
    },
    {
      "cell_type": "code",
      "execution_count": null,
      "metadata": {
        "colab": {
          "base_uri": "https://localhost:8080/",
          "height": 363
        },
        "id": "3qxYwx9SURys",
        "outputId": "c93ceaa5-e5d2-4426-a313-4c0e63ad5655"
      },
      "outputs": [
        {
          "data": {
            "application/vnd.google.colaboratory.intrinsic+json": {
              "summary": "{\n  \"name\": \"hawks_clean\",\n  \"rows\": 21330,\n  \"fields\": [\n    {\n      \"column\": \"text\",\n      \"properties\": {\n        \"dtype\": \"string\",\n        \"num_unique_values\": 20333,\n        \"samples\": [\n          \"We're gonna crush them. \",\n          \"This is why I love this team! Humility will take you so far! I'm a proud Seahawks fan tonight! \",\n          \"Too bad we have to watch the same Subway commercial over n over, check out Super Bowl 2015 Teasers \"\n        ],\n        \"semantic_type\": \"\",\n        \"description\": \"\"\n      }\n    },\n    {\n      \"column\": \"fan\",\n      \"properties\": {\n        \"dtype\": \"category\",\n        \"num_unique_values\": 1,\n        \"samples\": [\n          \"gohawks\"\n        ],\n        \"semantic_type\": \"\",\n        \"description\": \"\"\n      }\n    },\n    {\n      \"column\": \"retweets\",\n      \"properties\": {\n        \"dtype\": \"number\",\n        \"std\": 10,\n        \"min\": 1,\n        \"max\": 618,\n        \"num_unique_values\": 75,\n        \"samples\": [\n          17\n        ],\n        \"semantic_type\": \"\",\n        \"description\": \"\"\n      }\n    },\n    {\n      \"column\": \"likes\",\n      \"properties\": {\n        \"dtype\": \"number\",\n        \"std\": 5,\n        \"min\": 0,\n        \"max\": 592,\n        \"num_unique_values\": 25,\n        \"samples\": [\n          2\n        ],\n        \"semantic_type\": \"\",\n        \"description\": \"\"\n      }\n    }\n  ]\n}",
              "type": "dataframe",
              "variable_name": "hawks_clean"
            },
            "text/html": [
              "\n",
              "  <div id=\"df-02096874-24d1-4613-9e30-3e3783f1baf0\" class=\"colab-df-container\">\n",
              "    <div>\n",
              "<style scoped>\n",
              "    .dataframe tbody tr th:only-of-type {\n",
              "        vertical-align: middle;\n",
              "    }\n",
              "\n",
              "    .dataframe tbody tr th {\n",
              "        vertical-align: top;\n",
              "    }\n",
              "\n",
              "    .dataframe thead th {\n",
              "        text-align: right;\n",
              "    }\n",
              "</style>\n",
              "<table border=\"1\" class=\"dataframe\">\n",
              "  <thead>\n",
              "    <tr style=\"text-align: right;\">\n",
              "      <th></th>\n",
              "      <th>text</th>\n",
              "      <th>fan</th>\n",
              "      <th>retweets</th>\n",
              "      <th>likes</th>\n",
              "    </tr>\n",
              "  </thead>\n",
              "  <tbody>\n",
              "    <tr>\n",
              "      <th>134889</th>\n",
              "      <td>INTERCEPTION! Hope is ok!</td>\n",
              "      <td>gohawks</td>\n",
              "      <td>1</td>\n",
              "      <td>0</td>\n",
              "    </tr>\n",
              "    <tr>\n",
              "      <th>153226</th>\n",
              "      <td>Relationship goals</td>\n",
              "      <td>gohawks</td>\n",
              "      <td>3</td>\n",
              "      <td>0</td>\n",
              "    </tr>\n",
              "    <tr>\n",
              "      <th>111062</th>\n",
              "      <td>Nervous and excited for the game. Go Hawks!</td>\n",
              "      <td>gohawks</td>\n",
              "      <td>1</td>\n",
              "      <td>0</td>\n",
              "    </tr>\n",
              "    <tr>\n",
              "      <th>12732</th>\n",
              "      <td>Even Tyson knows whath up! Lol</td>\n",
              "      <td>gohawks</td>\n",
              "      <td>1</td>\n",
              "      <td>0</td>\n",
              "    </tr>\n",
              "    <tr>\n",
              "      <th>137674</th>\n",
              "      <td>This feels a lot like the Green Bay game.</td>\n",
              "      <td>gohawks</td>\n",
              "      <td>1</td>\n",
              "      <td>0</td>\n",
              "    </tr>\n",
              "    <tr>\n",
              "      <th>153828</th>\n",
              "      <td>Os receiver dos Patriots foram treinados pelo ...</td>\n",
              "      <td>gohawks</td>\n",
              "      <td>1</td>\n",
              "      <td>0</td>\n",
              "    </tr>\n",
              "    <tr>\n",
              "      <th>159944</th>\n",
              "      <td>: aww cute family</td>\n",
              "      <td>gohawks</td>\n",
              "      <td>1</td>\n",
              "      <td>0</td>\n",
              "    </tr>\n",
              "    <tr>\n",
              "      <th>76091</th>\n",
              "      <td>Check out our new Hawks shirts! Go Hawks!</td>\n",
              "      <td>gohawks</td>\n",
              "      <td>1</td>\n",
              "      <td>0</td>\n",
              "    </tr>\n",
              "    <tr>\n",
              "      <th>135962</th>\n",
              "      <td>You see Brady after that hit and interception!...</td>\n",
              "      <td>gohawks</td>\n",
              "      <td>1</td>\n",
              "      <td>0</td>\n",
              "    </tr>\n",
              "    <tr>\n",
              "      <th>27434</th>\n",
              "      <td>Let's go Seahawks!</td>\n",
              "      <td>gohawks</td>\n",
              "      <td>1</td>\n",
              "      <td>0</td>\n",
              "    </tr>\n",
              "  </tbody>\n",
              "</table>\n",
              "</div>\n",
              "    <div class=\"colab-df-buttons\">\n",
              "\n",
              "  <div class=\"colab-df-container\">\n",
              "    <button class=\"colab-df-convert\" onclick=\"convertToInteractive('df-02096874-24d1-4613-9e30-3e3783f1baf0')\"\n",
              "            title=\"Convert this dataframe to an interactive table.\"\n",
              "            style=\"display:none;\">\n",
              "\n",
              "  <svg xmlns=\"http://www.w3.org/2000/svg\" height=\"24px\" viewBox=\"0 -960 960 960\">\n",
              "    <path d=\"M120-120v-720h720v720H120Zm60-500h600v-160H180v160Zm220 220h160v-160H400v160Zm0 220h160v-160H400v160ZM180-400h160v-160H180v160Zm440 0h160v-160H620v160ZM180-180h160v-160H180v160Zm440 0h160v-160H620v160Z\"/>\n",
              "  </svg>\n",
              "    </button>\n",
              "\n",
              "  <style>\n",
              "    .colab-df-container {\n",
              "      display:flex;\n",
              "      gap: 12px;\n",
              "    }\n",
              "\n",
              "    .colab-df-convert {\n",
              "      background-color: #E8F0FE;\n",
              "      border: none;\n",
              "      border-radius: 50%;\n",
              "      cursor: pointer;\n",
              "      display: none;\n",
              "      fill: #1967D2;\n",
              "      height: 32px;\n",
              "      padding: 0 0 0 0;\n",
              "      width: 32px;\n",
              "    }\n",
              "\n",
              "    .colab-df-convert:hover {\n",
              "      background-color: #E2EBFA;\n",
              "      box-shadow: 0px 1px 2px rgba(60, 64, 67, 0.3), 0px 1px 3px 1px rgba(60, 64, 67, 0.15);\n",
              "      fill: #174EA6;\n",
              "    }\n",
              "\n",
              "    .colab-df-buttons div {\n",
              "      margin-bottom: 4px;\n",
              "    }\n",
              "\n",
              "    [theme=dark] .colab-df-convert {\n",
              "      background-color: #3B4455;\n",
              "      fill: #D2E3FC;\n",
              "    }\n",
              "\n",
              "    [theme=dark] .colab-df-convert:hover {\n",
              "      background-color: #434B5C;\n",
              "      box-shadow: 0px 1px 3px 1px rgba(0, 0, 0, 0.15);\n",
              "      filter: drop-shadow(0px 1px 2px rgba(0, 0, 0, 0.3));\n",
              "      fill: #FFFFFF;\n",
              "    }\n",
              "  </style>\n",
              "\n",
              "    <script>\n",
              "      const buttonEl =\n",
              "        document.querySelector('#df-02096874-24d1-4613-9e30-3e3783f1baf0 button.colab-df-convert');\n",
              "      buttonEl.style.display =\n",
              "        google.colab.kernel.accessAllowed ? 'block' : 'none';\n",
              "\n",
              "      async function convertToInteractive(key) {\n",
              "        const element = document.querySelector('#df-02096874-24d1-4613-9e30-3e3783f1baf0');\n",
              "        const dataTable =\n",
              "          await google.colab.kernel.invokeFunction('convertToInteractive',\n",
              "                                                    [key], {});\n",
              "        if (!dataTable) return;\n",
              "\n",
              "        const docLinkHtml = 'Like what you see? Visit the ' +\n",
              "          '<a target=\"_blank\" href=https://colab.research.google.com/notebooks/data_table.ipynb>data table notebook</a>'\n",
              "          + ' to learn more about interactive tables.';\n",
              "        element.innerHTML = '';\n",
              "        dataTable['output_type'] = 'display_data';\n",
              "        await google.colab.output.renderOutput(dataTable, element);\n",
              "        const docLink = document.createElement('div');\n",
              "        docLink.innerHTML = docLinkHtml;\n",
              "        element.appendChild(docLink);\n",
              "      }\n",
              "    </script>\n",
              "  </div>\n",
              "\n",
              "\n",
              "<div id=\"df-0c2b81f7-fd79-4d83-9e05-26ee40f953b6\">\n",
              "  <button class=\"colab-df-quickchart\" onclick=\"quickchart('df-0c2b81f7-fd79-4d83-9e05-26ee40f953b6')\"\n",
              "            title=\"Suggest charts\"\n",
              "            style=\"display:none;\">\n",
              "\n",
              "<svg xmlns=\"http://www.w3.org/2000/svg\" height=\"24px\"viewBox=\"0 0 24 24\"\n",
              "     width=\"24px\">\n",
              "    <g>\n",
              "        <path d=\"M19 3H5c-1.1 0-2 .9-2 2v14c0 1.1.9 2 2 2h14c1.1 0 2-.9 2-2V5c0-1.1-.9-2-2-2zM9 17H7v-7h2v7zm4 0h-2V7h2v10zm4 0h-2v-4h2v4z\"/>\n",
              "    </g>\n",
              "</svg>\n",
              "  </button>\n",
              "\n",
              "<style>\n",
              "  .colab-df-quickchart {\n",
              "      --bg-color: #E8F0FE;\n",
              "      --fill-color: #1967D2;\n",
              "      --hover-bg-color: #E2EBFA;\n",
              "      --hover-fill-color: #174EA6;\n",
              "      --disabled-fill-color: #AAA;\n",
              "      --disabled-bg-color: #DDD;\n",
              "  }\n",
              "\n",
              "  [theme=dark] .colab-df-quickchart {\n",
              "      --bg-color: #3B4455;\n",
              "      --fill-color: #D2E3FC;\n",
              "      --hover-bg-color: #434B5C;\n",
              "      --hover-fill-color: #FFFFFF;\n",
              "      --disabled-bg-color: #3B4455;\n",
              "      --disabled-fill-color: #666;\n",
              "  }\n",
              "\n",
              "  .colab-df-quickchart {\n",
              "    background-color: var(--bg-color);\n",
              "    border: none;\n",
              "    border-radius: 50%;\n",
              "    cursor: pointer;\n",
              "    display: none;\n",
              "    fill: var(--fill-color);\n",
              "    height: 32px;\n",
              "    padding: 0;\n",
              "    width: 32px;\n",
              "  }\n",
              "\n",
              "  .colab-df-quickchart:hover {\n",
              "    background-color: var(--hover-bg-color);\n",
              "    box-shadow: 0 1px 2px rgba(60, 64, 67, 0.3), 0 1px 3px 1px rgba(60, 64, 67, 0.15);\n",
              "    fill: var(--button-hover-fill-color);\n",
              "  }\n",
              "\n",
              "  .colab-df-quickchart-complete:disabled,\n",
              "  .colab-df-quickchart-complete:disabled:hover {\n",
              "    background-color: var(--disabled-bg-color);\n",
              "    fill: var(--disabled-fill-color);\n",
              "    box-shadow: none;\n",
              "  }\n",
              "\n",
              "  .colab-df-spinner {\n",
              "    border: 2px solid var(--fill-color);\n",
              "    border-color: transparent;\n",
              "    border-bottom-color: var(--fill-color);\n",
              "    animation:\n",
              "      spin 1s steps(1) infinite;\n",
              "  }\n",
              "\n",
              "  @keyframes spin {\n",
              "    0% {\n",
              "      border-color: transparent;\n",
              "      border-bottom-color: var(--fill-color);\n",
              "      border-left-color: var(--fill-color);\n",
              "    }\n",
              "    20% {\n",
              "      border-color: transparent;\n",
              "      border-left-color: var(--fill-color);\n",
              "      border-top-color: var(--fill-color);\n",
              "    }\n",
              "    30% {\n",
              "      border-color: transparent;\n",
              "      border-left-color: var(--fill-color);\n",
              "      border-top-color: var(--fill-color);\n",
              "      border-right-color: var(--fill-color);\n",
              "    }\n",
              "    40% {\n",
              "      border-color: transparent;\n",
              "      border-right-color: var(--fill-color);\n",
              "      border-top-color: var(--fill-color);\n",
              "    }\n",
              "    60% {\n",
              "      border-color: transparent;\n",
              "      border-right-color: var(--fill-color);\n",
              "    }\n",
              "    80% {\n",
              "      border-color: transparent;\n",
              "      border-right-color: var(--fill-color);\n",
              "      border-bottom-color: var(--fill-color);\n",
              "    }\n",
              "    90% {\n",
              "      border-color: transparent;\n",
              "      border-bottom-color: var(--fill-color);\n",
              "    }\n",
              "  }\n",
              "</style>\n",
              "\n",
              "  <script>\n",
              "    async function quickchart(key) {\n",
              "      const quickchartButtonEl =\n",
              "        document.querySelector('#' + key + ' button');\n",
              "      quickchartButtonEl.disabled = true;  // To prevent multiple clicks.\n",
              "      quickchartButtonEl.classList.add('colab-df-spinner');\n",
              "      try {\n",
              "        const charts = await google.colab.kernel.invokeFunction(\n",
              "            'suggestCharts', [key], {});\n",
              "      } catch (error) {\n",
              "        console.error('Error during call to suggestCharts:', error);\n",
              "      }\n",
              "      quickchartButtonEl.classList.remove('colab-df-spinner');\n",
              "      quickchartButtonEl.classList.add('colab-df-quickchart-complete');\n",
              "    }\n",
              "    (() => {\n",
              "      let quickchartButtonEl =\n",
              "        document.querySelector('#df-0c2b81f7-fd79-4d83-9e05-26ee40f953b6 button');\n",
              "      quickchartButtonEl.style.display =\n",
              "        google.colab.kernel.accessAllowed ? 'block' : 'none';\n",
              "    })();\n",
              "  </script>\n",
              "</div>\n",
              "    </div>\n",
              "  </div>\n"
            ],
            "text/plain": [
              "                                                     text      fan  retweets  \\\n",
              "134889                         INTERCEPTION! Hope is ok!   gohawks         1   \n",
              "153226                               Relationship goals    gohawks         3   \n",
              "111062       Nervous and excited for the game. Go Hawks!   gohawks         1   \n",
              "12732                     Even Tyson knows whath up! Lol   gohawks         1   \n",
              "137674         This feels a lot like the Green Bay game.   gohawks         1   \n",
              "153828  Os receiver dos Patriots foram treinados pelo ...  gohawks         1   \n",
              "159944                                  : aww cute family  gohawks         1   \n",
              "76091          Check out our new Hawks shirts! Go Hawks!   gohawks         1   \n",
              "135962  You see Brady after that hit and interception!...  gohawks         1   \n",
              "27434                                 Let's go Seahawks!   gohawks         1   \n",
              "\n",
              "        likes  \n",
              "134889      0  \n",
              "153226      0  \n",
              "111062      0  \n",
              "12732       0  \n",
              "137674      0  \n",
              "153828      0  \n",
              "159944      0  \n",
              "76091       0  \n",
              "135962      0  \n",
              "27434       0  "
            ]
          },
          "execution_count": 27,
          "metadata": {},
          "output_type": "execute_result"
        }
      ],
      "source": [
        "hawks_clean.head(10)"
      ]
    },
    {
      "cell_type": "markdown",
      "metadata": {
        "id": "N6iXWuZmWYJL"
      },
      "source": [
        "# Feature engineering\n",
        "\n",
        "We have two methods for feature engineering: GLoVE and BERT. Considering the numtiliugual nature of tweet texts, we need to do necessary translation.\n",
        "\n",
        "For GLoVE, as the embeddings were trained on the English corpus, the best solution is to use a translator(e.g., Romance-to-English translator) before feeding the features into the GLoVE encoder. I tried the following code below:\n",
        "```\n",
        "romance_translator = pipeline(\"translation\", model=\"Helsinki-NLP/opus-mt-ROMANCE-en\")\n",
        "\n",
        "def translate(translator, text):\n",
        "    # return a sequence of translated text\n",
        "    translations = translator(text, max_length=512)\n",
        "    results = []\n",
        "    for i in tqdm(range(len(translations))):\n",
        "        translation = translations[i]\n",
        "        results.append(translation['translation_text'])\n",
        "    return results\n",
        "```\n",
        "However, the dataset is too large for a reasonable translation. Alternatively, I (automatically) exclude those non-English texts as they may not be included inside the GLoVE pre-trained embeddings.\n",
        "\n",
        "For BERT, there is a pre-trained multi-lingual BERT `mBERT` available in huggingface, which can be used for encoding the text."
      ]
    },
    {
      "cell_type": "markdown",
      "metadata": {
        "id": "QajDxw8sV48C"
      },
      "source": [
        "## GLoVE embeddings"
      ]
    },
    {
      "cell_type": "markdown",
      "metadata": {
        "id": "6eT3uuBEynMS"
      },
      "source": [
        "### Lemmatization\n",
        "\n",
        "GLoVE is a relatively week encoder for text. To accomodate to its conditions, I need to select the tweets written in English and make lemmatization converion on the text.\n",
        "\n",
        "The cleaned text after lemmatization is in `full_data_lemma`."
      ]
    },
    {
      "cell_type": "code",
      "execution_count": null,
      "metadata": {
        "colab": {
          "base_uri": "https://localhost:8080/"
        },
        "id": "jjFKKcmqzNpa",
        "outputId": "8b2782e2-e9c8-434c-8f15-226f7027f6ef"
      },
      "outputs": [
        {
          "name": "stderr",
          "output_type": "stream",
          "text": [
            "[nltk_data] Downloading package punkt to /root/nltk_data...\n",
            "[nltk_data]   Unzipping tokenizers/punkt.zip.\n",
            "[nltk_data] Downloading package averaged_perceptron_tagger to\n",
            "[nltk_data]     /root/nltk_data...\n",
            "[nltk_data]   Unzipping taggers/averaged_perceptron_tagger.zip.\n",
            "[nltk_data] Downloading package wordnet to /root/nltk_data...\n",
            "[nltk_data] Downloading package stopwords to /root/nltk_data...\n",
            "[nltk_data]   Unzipping corpora/stopwords.zip.\n"
          ]
        }
      ],
      "source": [
        "import nltk\n",
        "from nltk import sent_tokenize, word_tokenize, pos_tag\n",
        "from nltk.corpus import wordnet, stopwords\n",
        "from nltk.stem import WordNetLemmatizer\n",
        "\n",
        "from sklearn.feature_extraction import text\n",
        "\n",
        "from string import punctuation\n",
        "\n",
        "nltk.download('punkt')\n",
        "nltk.download('averaged_perceptron_tagger')\n",
        "nltk.download('wordnet')\n",
        "nltk.download('stopwords')\n",
        "\n",
        "stop_words_skt = text.ENGLISH_STOP_WORDS\n",
        "stop_words_en = stopwords.words('english')\n",
        "combined_stopwords = set.union(set(stop_words_en),set(punctuation),set(stop_words_skt))\n",
        "# print(\"#(stop_words_skt): {}\".format(len(stop_words_skt)))\n",
        "# print(\"#(stop_words_en): {}\".format(len(stop_words_en)))\n",
        "# print(\"#(punctuation): {}\".format(len(punctuation)))\n",
        "# print(\"#(combined_stopwords): {}\".format(len(combined_stopwords)))\n",
        "\n",
        "lemmatizer = WordNetLemmatizer()"
      ]
    },
    {
      "cell_type": "code",
      "execution_count": null,
      "metadata": {
        "id": "RYeH7BduzKt3"
      },
      "outputs": [],
      "source": [
        "def get_wordnet_pos(tag):\n",
        "    if tag.startswith('J'):\n",
        "        return wordnet.ADJ\n",
        "    elif tag.startswith('V'):\n",
        "        return wordnet.VERB\n",
        "    elif tag.startswith('N'):\n",
        "        return wordnet.NOUN\n",
        "    elif tag.startswith('R'):\n",
        "        return wordnet.ADV\n",
        "    else:\n",
        "        return wordnet.NOUN             # this will be used on unrecognized tags\n",
        "\n",
        "\n",
        "def lemma_convert(text):\n",
        "    sentences = sent_tokenize(text)                 # break a text into sentences\n",
        "    results = []\n",
        "    for sentence in sentences:\n",
        "        curr_result = []\n",
        "        sen_tokens = word_tokenize(sentence)        # break a sentence into tokens\n",
        "        word_tag_tokens = pos_tag(sen_tokens)       # find pos_tag for each word token\n",
        "        # lemmatize each word token using its pos_tag and concatenate back to a lemmatized sentence\n",
        "        for word, tag in word_tag_tokens:\n",
        "            lemma_word = lemmatizer.lemmatize(word=word.lower(), pos=get_wordnet_pos(tag))\n",
        "            if lemma_word not in combined_stopwords and not lemma_word.isdigit():           # filter out digits and stopwords\n",
        "                curr_result.append(lemma_word)\n",
        "        results.append(' '.join(curr_result))\n",
        "    return ' '.join(results)"
      ]
    },
    {
      "cell_type": "code",
      "execution_count": null,
      "metadata": {
        "id": "zFNnlOwEzLKg"
      },
      "outputs": [],
      "source": [
        "full_data_lemma = full_data_clean.copy()\n",
        "full_data_lemma[\"text\"] = full_data_lemma[\"text\"].apply(lemma_convert)"
      ]
    },
    {
      "cell_type": "code",
      "execution_count": null,
      "metadata": {
        "colab": {
          "base_uri": "https://localhost:8080/",
          "height": 206
        },
        "id": "zoguDu4C3PQ1",
        "outputId": "e5358325-c1c8-4790-e5a2-e5bfe48aff35"
      },
      "outputs": [
        {
          "data": {
            "application/vnd.google.colaboratory.intrinsic+json": {
              "summary": "{\n  \"name\": \"full_data_lemma\",\n  \"rows\": 4410,\n  \"fields\": [\n    {\n      \"column\": \"text\",\n      \"properties\": {\n        \"dtype\": \"string\",\n        \"num_unique_values\": 3992,\n        \"samples\": [\n          \"seahawks touchdown\",\n          \"che partita .... e adesso tocca noi\",\n          \"forecast indicate windy shower game hope n't affect guys performance\"\n        ],\n        \"semantic_type\": \"\",\n        \"description\": \"\"\n      }\n    },\n    {\n      \"column\": \"fan\",\n      \"properties\": {\n        \"dtype\": \"category\",\n        \"num_unique_values\": 2,\n        \"samples\": [\n          \"gopatriots\",\n          \"gohawks\"\n        ],\n        \"semantic_type\": \"\",\n        \"description\": \"\"\n      }\n    },\n    {\n      \"column\": \"retweets\",\n      \"properties\": {\n        \"dtype\": \"number\",\n        \"std\": 6,\n        \"min\": 1,\n        \"max\": 339,\n        \"num_unique_values\": 29,\n        \"samples\": [\n          27,\n          7\n        ],\n        \"semantic_type\": \"\",\n        \"description\": \"\"\n      }\n    },\n    {\n      \"column\": \"likes\",\n      \"properties\": {\n        \"dtype\": \"number\",\n        \"std\": 0,\n        \"min\": 0,\n        \"max\": 52,\n        \"num_unique_values\": 8,\n        \"samples\": [\n          3,\n          4\n        ],\n        \"semantic_type\": \"\",\n        \"description\": \"\"\n      }\n    }\n  ]\n}",
              "type": "dataframe",
              "variable_name": "full_data_lemma"
            },
            "text/html": [
              "\n",
              "  <div id=\"df-7c79d823-0692-4060-83e6-b0c3d6a33f2a\" class=\"colab-df-container\">\n",
              "    <div>\n",
              "<style scoped>\n",
              "    .dataframe tbody tr th:only-of-type {\n",
              "        vertical-align: middle;\n",
              "    }\n",
              "\n",
              "    .dataframe tbody tr th {\n",
              "        vertical-align: top;\n",
              "    }\n",
              "\n",
              "    .dataframe thead th {\n",
              "        text-align: right;\n",
              "    }\n",
              "</style>\n",
              "<table border=\"1\" class=\"dataframe\">\n",
              "  <thead>\n",
              "    <tr style=\"text-align: right;\">\n",
              "      <th></th>\n",
              "      <th>text</th>\n",
              "      <th>fan</th>\n",
              "      <th>retweets</th>\n",
              "      <th>likes</th>\n",
              "    </tr>\n",
              "  </thead>\n",
              "  <tbody>\n",
              "    <tr>\n",
              "      <th>148411</th>\n",
              "      <td>17-14</td>\n",
              "      <td>gohawks</td>\n",
              "      <td>1</td>\n",
              "      <td>0</td>\n",
              "    </tr>\n",
              "    <tr>\n",
              "      <th>93977</th>\n",
              "      <td>today 's super bowl drink special 2.12 mvp</td>\n",
              "      <td>gohawks</td>\n",
              "      <td>1</td>\n",
              "      <td>0</td>\n",
              "    </tr>\n",
              "    <tr>\n",
              "      <th>6529</th>\n",
              "      <td>let 's ...</td>\n",
              "      <td>gopatriots</td>\n",
              "      <td>1</td>\n",
              "      <td>0</td>\n",
              "    </tr>\n",
              "    <tr>\n",
              "      <th>15580</th>\n",
              "      <td>`` trend uk:01:00 gmt ''   american football  ...</td>\n",
              "      <td>gopatriots</td>\n",
              "      <td>1</td>\n",
              "      <td>0</td>\n",
              "    </tr>\n",
              "    <tr>\n",
              "      <th>8778</th>\n",
              "      <td>ya estoy lista para el sper bowl</td>\n",
              "      <td>gopatriots</td>\n",
              "      <td>1</td>\n",
              "      <td>0</td>\n",
              "    </tr>\n",
              "  </tbody>\n",
              "</table>\n",
              "</div>\n",
              "    <div class=\"colab-df-buttons\">\n",
              "\n",
              "  <div class=\"colab-df-container\">\n",
              "    <button class=\"colab-df-convert\" onclick=\"convertToInteractive('df-7c79d823-0692-4060-83e6-b0c3d6a33f2a')\"\n",
              "            title=\"Convert this dataframe to an interactive table.\"\n",
              "            style=\"display:none;\">\n",
              "\n",
              "  <svg xmlns=\"http://www.w3.org/2000/svg\" height=\"24px\" viewBox=\"0 -960 960 960\">\n",
              "    <path d=\"M120-120v-720h720v720H120Zm60-500h600v-160H180v160Zm220 220h160v-160H400v160Zm0 220h160v-160H400v160ZM180-400h160v-160H180v160Zm440 0h160v-160H620v160ZM180-180h160v-160H180v160Zm440 0h160v-160H620v160Z\"/>\n",
              "  </svg>\n",
              "    </button>\n",
              "\n",
              "  <style>\n",
              "    .colab-df-container {\n",
              "      display:flex;\n",
              "      gap: 12px;\n",
              "    }\n",
              "\n",
              "    .colab-df-convert {\n",
              "      background-color: #E8F0FE;\n",
              "      border: none;\n",
              "      border-radius: 50%;\n",
              "      cursor: pointer;\n",
              "      display: none;\n",
              "      fill: #1967D2;\n",
              "      height: 32px;\n",
              "      padding: 0 0 0 0;\n",
              "      width: 32px;\n",
              "    }\n",
              "\n",
              "    .colab-df-convert:hover {\n",
              "      background-color: #E2EBFA;\n",
              "      box-shadow: 0px 1px 2px rgba(60, 64, 67, 0.3), 0px 1px 3px 1px rgba(60, 64, 67, 0.15);\n",
              "      fill: #174EA6;\n",
              "    }\n",
              "\n",
              "    .colab-df-buttons div {\n",
              "      margin-bottom: 4px;\n",
              "    }\n",
              "\n",
              "    [theme=dark] .colab-df-convert {\n",
              "      background-color: #3B4455;\n",
              "      fill: #D2E3FC;\n",
              "    }\n",
              "\n",
              "    [theme=dark] .colab-df-convert:hover {\n",
              "      background-color: #434B5C;\n",
              "      box-shadow: 0px 1px 3px 1px rgba(0, 0, 0, 0.15);\n",
              "      filter: drop-shadow(0px 1px 2px rgba(0, 0, 0, 0.3));\n",
              "      fill: #FFFFFF;\n",
              "    }\n",
              "  </style>\n",
              "\n",
              "    <script>\n",
              "      const buttonEl =\n",
              "        document.querySelector('#df-7c79d823-0692-4060-83e6-b0c3d6a33f2a button.colab-df-convert');\n",
              "      buttonEl.style.display =\n",
              "        google.colab.kernel.accessAllowed ? 'block' : 'none';\n",
              "\n",
              "      async function convertToInteractive(key) {\n",
              "        const element = document.querySelector('#df-7c79d823-0692-4060-83e6-b0c3d6a33f2a');\n",
              "        const dataTable =\n",
              "          await google.colab.kernel.invokeFunction('convertToInteractive',\n",
              "                                                    [key], {});\n",
              "        if (!dataTable) return;\n",
              "\n",
              "        const docLinkHtml = 'Like what you see? Visit the ' +\n",
              "          '<a target=\"_blank\" href=https://colab.research.google.com/notebooks/data_table.ipynb>data table notebook</a>'\n",
              "          + ' to learn more about interactive tables.';\n",
              "        element.innerHTML = '';\n",
              "        dataTable['output_type'] = 'display_data';\n",
              "        await google.colab.output.renderOutput(dataTable, element);\n",
              "        const docLink = document.createElement('div');\n",
              "        docLink.innerHTML = docLinkHtml;\n",
              "        element.appendChild(docLink);\n",
              "      }\n",
              "    </script>\n",
              "  </div>\n",
              "\n",
              "\n",
              "<div id=\"df-ece509fc-307b-447e-ace0-0fdc0e349c49\">\n",
              "  <button class=\"colab-df-quickchart\" onclick=\"quickchart('df-ece509fc-307b-447e-ace0-0fdc0e349c49')\"\n",
              "            title=\"Suggest charts\"\n",
              "            style=\"display:none;\">\n",
              "\n",
              "<svg xmlns=\"http://www.w3.org/2000/svg\" height=\"24px\"viewBox=\"0 0 24 24\"\n",
              "     width=\"24px\">\n",
              "    <g>\n",
              "        <path d=\"M19 3H5c-1.1 0-2 .9-2 2v14c0 1.1.9 2 2 2h14c1.1 0 2-.9 2-2V5c0-1.1-.9-2-2-2zM9 17H7v-7h2v7zm4 0h-2V7h2v10zm4 0h-2v-4h2v4z\"/>\n",
              "    </g>\n",
              "</svg>\n",
              "  </button>\n",
              "\n",
              "<style>\n",
              "  .colab-df-quickchart {\n",
              "      --bg-color: #E8F0FE;\n",
              "      --fill-color: #1967D2;\n",
              "      --hover-bg-color: #E2EBFA;\n",
              "      --hover-fill-color: #174EA6;\n",
              "      --disabled-fill-color: #AAA;\n",
              "      --disabled-bg-color: #DDD;\n",
              "  }\n",
              "\n",
              "  [theme=dark] .colab-df-quickchart {\n",
              "      --bg-color: #3B4455;\n",
              "      --fill-color: #D2E3FC;\n",
              "      --hover-bg-color: #434B5C;\n",
              "      --hover-fill-color: #FFFFFF;\n",
              "      --disabled-bg-color: #3B4455;\n",
              "      --disabled-fill-color: #666;\n",
              "  }\n",
              "\n",
              "  .colab-df-quickchart {\n",
              "    background-color: var(--bg-color);\n",
              "    border: none;\n",
              "    border-radius: 50%;\n",
              "    cursor: pointer;\n",
              "    display: none;\n",
              "    fill: var(--fill-color);\n",
              "    height: 32px;\n",
              "    padding: 0;\n",
              "    width: 32px;\n",
              "  }\n",
              "\n",
              "  .colab-df-quickchart:hover {\n",
              "    background-color: var(--hover-bg-color);\n",
              "    box-shadow: 0 1px 2px rgba(60, 64, 67, 0.3), 0 1px 3px 1px rgba(60, 64, 67, 0.15);\n",
              "    fill: var(--button-hover-fill-color);\n",
              "  }\n",
              "\n",
              "  .colab-df-quickchart-complete:disabled,\n",
              "  .colab-df-quickchart-complete:disabled:hover {\n",
              "    background-color: var(--disabled-bg-color);\n",
              "    fill: var(--disabled-fill-color);\n",
              "    box-shadow: none;\n",
              "  }\n",
              "\n",
              "  .colab-df-spinner {\n",
              "    border: 2px solid var(--fill-color);\n",
              "    border-color: transparent;\n",
              "    border-bottom-color: var(--fill-color);\n",
              "    animation:\n",
              "      spin 1s steps(1) infinite;\n",
              "  }\n",
              "\n",
              "  @keyframes spin {\n",
              "    0% {\n",
              "      border-color: transparent;\n",
              "      border-bottom-color: var(--fill-color);\n",
              "      border-left-color: var(--fill-color);\n",
              "    }\n",
              "    20% {\n",
              "      border-color: transparent;\n",
              "      border-left-color: var(--fill-color);\n",
              "      border-top-color: var(--fill-color);\n",
              "    }\n",
              "    30% {\n",
              "      border-color: transparent;\n",
              "      border-left-color: var(--fill-color);\n",
              "      border-top-color: var(--fill-color);\n",
              "      border-right-color: var(--fill-color);\n",
              "    }\n",
              "    40% {\n",
              "      border-color: transparent;\n",
              "      border-right-color: var(--fill-color);\n",
              "      border-top-color: var(--fill-color);\n",
              "    }\n",
              "    60% {\n",
              "      border-color: transparent;\n",
              "      border-right-color: var(--fill-color);\n",
              "    }\n",
              "    80% {\n",
              "      border-color: transparent;\n",
              "      border-right-color: var(--fill-color);\n",
              "      border-bottom-color: var(--fill-color);\n",
              "    }\n",
              "    90% {\n",
              "      border-color: transparent;\n",
              "      border-bottom-color: var(--fill-color);\n",
              "    }\n",
              "  }\n",
              "</style>\n",
              "\n",
              "  <script>\n",
              "    async function quickchart(key) {\n",
              "      const quickchartButtonEl =\n",
              "        document.querySelector('#' + key + ' button');\n",
              "      quickchartButtonEl.disabled = true;  // To prevent multiple clicks.\n",
              "      quickchartButtonEl.classList.add('colab-df-spinner');\n",
              "      try {\n",
              "        const charts = await google.colab.kernel.invokeFunction(\n",
              "            'suggestCharts', [key], {});\n",
              "      } catch (error) {\n",
              "        console.error('Error during call to suggestCharts:', error);\n",
              "      }\n",
              "      quickchartButtonEl.classList.remove('colab-df-spinner');\n",
              "      quickchartButtonEl.classList.add('colab-df-quickchart-complete');\n",
              "    }\n",
              "    (() => {\n",
              "      let quickchartButtonEl =\n",
              "        document.querySelector('#df-ece509fc-307b-447e-ace0-0fdc0e349c49 button');\n",
              "      quickchartButtonEl.style.display =\n",
              "        google.colab.kernel.accessAllowed ? 'block' : 'none';\n",
              "    })();\n",
              "  </script>\n",
              "</div>\n",
              "    </div>\n",
              "  </div>\n"
            ],
            "text/plain": [
              "                                                     text         fan  \\\n",
              "148411                                              17-14     gohawks   \n",
              "93977          today 's super bowl drink special 2.12 mvp     gohawks   \n",
              "6529                                           let 's ...  gopatriots   \n",
              "15580   `` trend uk:01:00 gmt ''   american football  ...  gopatriots   \n",
              "8778                     ya estoy lista para el sper bowl  gopatriots   \n",
              "\n",
              "        retweets  likes  \n",
              "148411         1      0  \n",
              "93977          1      0  \n",
              "6529           1      0  \n",
              "15580          1      0  \n",
              "8778           1      0  "
            ]
          },
          "execution_count": 23,
          "metadata": {},
          "output_type": "execute_result"
        }
      ],
      "source": [
        "full_data_lemma.head()"
      ]
    },
    {
      "cell_type": "markdown",
      "metadata": {
        "id": "9ul1WxAg4AuZ"
      },
      "source": [
        "### GLoVE encoding"
      ]
    },
    {
      "cell_type": "code",
      "execution_count": null,
      "metadata": {
        "id": "_xOzpLU7g_J5"
      },
      "outputs": [],
      "source": [
        "def collect_GLoVE_dict(file_path):\n",
        "    embeddings_dict = {}\n",
        "    with open(file_path, 'r') as f:\n",
        "        for line in f:\n",
        "            values = line.split()\n",
        "            word = values[0]\n",
        "            vector = np.asarray(values[1:], \"float32\")\n",
        "            embeddings_dict[word] = vector\n",
        "    return embeddings_dict\n",
        "\n",
        "GLoVE_dict_300 = collect_GLoVE_dict(\"glove/glove.6B.300d.txt\")"
      ]
    },
    {
      "cell_type": "code",
      "execution_count": null,
      "metadata": {
        "id": "CdJU2FkC7N9F"
      },
      "outputs": [],
      "source": [
        "import ast\n",
        "\n",
        "def normalization(vector):\n",
        "    norm = np.linalg.norm(vector)\n",
        "    return vector / norm if norm != 0 else vector\n",
        "\n",
        "def normalized_mean_embeddings(text, embeddings_dict, dim=300, mode=\"text\"):\n",
        "    if mode == \"text\":\n",
        "        word_lst = text.split()\n",
        "    else:                   # a string of \"a list of string\"\n",
        "        word_lst = ast.literal_eval(text)\n",
        "\n",
        "    embeddings = []\n",
        "    for word in word_lst:\n",
        "        if word in embeddings_dict:\n",
        "            embeddings.append(normalization(embeddings_dict[word]))\n",
        "    # in case no word is recognized\n",
        "    if len(embeddings) == 0:\n",
        "        return np.zeros(dim)\n",
        "    return np.mean(embeddings, axis=0)\n",
        "\n",
        "def final_GLoVE_embeddings(X_clean, GLoVE_dict):\n",
        "    X_GLoVE_text = np.stack(X_clean.apply(lambda x: normalized_mean_embeddings(x, GLoVE_dict))[:].values, axis=0)\n",
        "    return X_GLoVE_text"
      ]
    },
    {
      "cell_type": "code",
      "execution_count": null,
      "metadata": {
        "colab": {
          "base_uri": "https://localhost:8080/"
        },
        "id": "43exAnWcLWPE",
        "outputId": "6f2a6fb8-fe8d-4bab-d46e-bb577bb07318"
      },
      "outputs": [
        {
          "name": "stdout",
          "output_type": "stream",
          "text": [
            "The GLoVE features for training text has shape (4410, 300) and labels have shape (4410,)\n"
          ]
        }
      ],
      "source": [
        "y_fan, y_classes = pd.factorize(full_data_lemma[\"fan\"])\n",
        "X_lemma = final_GLoVE_embeddings(full_data_lemma[\"text\"], GLoVE_dict_300)\n",
        "print(f\"The GLoVE features for training text has shape {X_lemma.shape} and labels have shape {y_fan.shape}\")"
      ]
    },
    {
      "cell_type": "markdown",
      "metadata": {
        "id": "p---MmDS70IT"
      },
      "source": [
        "Notice that some tweets may be written in non-English, or it is somehow meaningless over GLoVE. As a result, we must exclude them from the training data."
      ]
    },
    {
      "cell_type": "code",
      "execution_count": null,
      "metadata": {
        "colab": {
          "base_uri": "https://localhost:8080/"
        },
        "id": "iQzksJlx8COA",
        "outputId": "6070138b-ed22-46da-ef2f-052a02bda881"
      },
      "outputs": [
        {
          "name": "stdout",
          "output_type": "stream",
          "text": [
            "The meainingful GLoVE features for training text has shape (4152, 300) and labels have shape (4152,)\n"
          ]
        }
      ],
      "source": [
        "meaningful_idx = np.where(np.all(X_lemma != 0, axis=1))[0]\n",
        "X_lemma_meaningful = X_lemma[meaningful_idx]\n",
        "y_lemma_meaningful = y_fan[meaningful_idx]\n",
        "print(f\"The meainingful GLoVE features for training text has shape {X_lemma_meaningful.shape} and labels have shape {y_lemma_meaningful.shape}\")"
      ]
    },
    {
      "cell_type": "code",
      "execution_count": null,
      "metadata": {
        "id": "T3tCWYwDP56B"
      },
      "outputs": [],
      "source": [
        "retweet_lemma_meaningful = full_data_lemma[\"retweets\"].iloc[meaningful_idx].tolist()\n",
        "likes_lemma_meaningful = full_data_lemma[\"likes\"].iloc[meaningful_idx].tolist()"
      ]
    },
    {
      "cell_type": "code",
      "execution_count": null,
      "metadata": {
        "id": "f0MbZLwFOzwr"
      },
      "outputs": [],
      "source": [
        "np.savez('GLoVE_data.npz',\n",
        "         text=X_lemma_meaningful,\n",
        "         fan=y_lemma_meaningful,\n",
        "         retweets=np.array(retweet_lemma_meaningful),\n",
        "         likes=np.array(likes_lemma_meaningful))"
      ]
    },
    {
      "cell_type": "markdown",
      "metadata": {
        "id": "ChatvRsAFurR"
      },
      "source": [
        "## LLM pre-trained encoder: mBERT"
      ]
    },
    {
      "cell_type": "code",
      "execution_count": null,
      "metadata": {
        "colab": {
          "base_uri": "https://localhost:8080/",
          "height": 304,
          "referenced_widgets": [
            "2ac49fc3a31f4564b22b99855cd014ca",
            "bc064f393be64f36b36a8211ddf080bc",
            "390b27b623474e80af8531d9ed70fa00",
            "2deecbabac5a4e05839659acf20f063c",
            "d60c23a4698d464cb82faf274fc07ec5",
            "3b39acd2369e416490d08acf4bed626b",
            "81a7050c72e54394967dd744fdae6abe",
            "342cbc90f86f420fafeec2c352d5beb1",
            "527379b09f814d95a7e4d6d7e74b16b1",
            "abdd045925044cac8db325b292759c1b",
            "0a869a46205641c694a150681d001146",
            "d2bce1ab3b104dd684018841978ee982",
            "935dae2b827f40cdbc35daf1938970be",
            "bdf9df1da29e4911bab8d147b650d10d",
            "22015f7422674a8d94b7cd104ad8444d",
            "504c2b743ace4d4c8bbbe6020631bca3",
            "ee95400f67204604b55fbf9ce8ce7612",
            "2fc08a3e6b634b22969412c8a643b56e",
            "cc8abb154de745168235b51b2cb2542a",
            "caba8bb91c7e423ab7dff510003bda65",
            "d073608a408946dfbd0192193527e9f9",
            "5d9af43182334a4d856472b43652b783",
            "44b8a6984117478da34dc26e3a25d834",
            "c8e88bb7f1954e7b9ceb790cc56290e1",
            "462dfbcfef88452c85014a71b573f67d",
            "1041009a15bb42acacd2971ba20b21cd",
            "5f3abdb92a5e4e5aa3489c1999650919",
            "f562bacc4dd4455581367d77a4d40a0d",
            "e9986cda07144b5ea6513c98141c6862",
            "96e785ab02c44b11a945ad6b47ef1efc",
            "a16161c1a5df41378ead0ea1a5c91a75",
            "de1ebf0b024c42f88539d89c42810e46",
            "30e9641f755a46e3a58029c00de95b14",
            "3999cf5bd1d2446587fb7bd41a5a3bec",
            "3b13c275e26b4616938a7d8fc73db000",
            "95850f128b294c07b4b0d4f38d0353ba",
            "39aa7581748e41b394dd0312430d9e1d",
            "5dd0be07a9304e4f8f9e3f340d611271",
            "87a24a836bfb4a01ba14ff94eb1c5f28",
            "fc406d127cff4d8ba2a379da614bc593",
            "35ce6e5e9749426c961178f59e25b9a2",
            "b71cefdb55e741e89546b8a69d8d5868",
            "bb0febb442594545aad9ad30f11f8432",
            "748f2784458a41af93e71eb523c83cd2",
            "31802e5844fa42d884bb7ca7d4913d99",
            "876929b0762b44ddae3e7401dbc239a1",
            "8adfe341410546f9991ca854fc441d7a",
            "873c9525cd0e41e39d2201eea33d88c1",
            "875bb66342d84dd5bfa26658bb4ab5aa",
            "cfc2a03ad57f4ca4ab575770020f5769",
            "0442a5c0f0b1438b90f01e8e8e001df8",
            "6559a45da8644a2393c39ee41ac6ee88",
            "52d6649db77b4f1885b920ae8f9715f6",
            "89703d13ff7e446493f292948dba8784",
            "958deb5402d44a1283668875fa94df67"
          ]
        },
        "id": "wHXI-lhZF1Nf",
        "outputId": "c2a72d4b-fd3d-4f6b-894d-78af7ecd9fe0"
      },
      "outputs": [
        {
          "name": "stderr",
          "output_type": "stream",
          "text": [
            "/usr/local/lib/python3.10/dist-packages/huggingface_hub/utils/_token.py:88: UserWarning: \n",
            "The secret `HF_TOKEN` does not exist in your Colab secrets.\n",
            "To authenticate with the Hugging Face Hub, create a token in your settings tab (https://huggingface.co/settings/tokens), set it as secret in your Google Colab and restart your session.\n",
            "You will be able to reuse this secret in all of your notebooks.\n",
            "Please note that authentication is recommended but still optional to access public models or datasets.\n",
            "  warnings.warn(\n"
          ]
        },
        {
          "data": {
            "application/vnd.jupyter.widget-view+json": {
              "model_id": "2ac49fc3a31f4564b22b99855cd014ca",
              "version_major": 2,
              "version_minor": 0
            },
            "text/plain": [
              "tokenizer_config.json:   0%|          | 0.00/49.0 [00:00<?, ?B/s]"
            ]
          },
          "metadata": {},
          "output_type": "display_data"
        },
        {
          "data": {
            "application/vnd.jupyter.widget-view+json": {
              "model_id": "d2bce1ab3b104dd684018841978ee982",
              "version_major": 2,
              "version_minor": 0
            },
            "text/plain": [
              "vocab.txt:   0%|          | 0.00/996k [00:00<?, ?B/s]"
            ]
          },
          "metadata": {},
          "output_type": "display_data"
        },
        {
          "data": {
            "application/vnd.jupyter.widget-view+json": {
              "model_id": "44b8a6984117478da34dc26e3a25d834",
              "version_major": 2,
              "version_minor": 0
            },
            "text/plain": [
              "tokenizer.json:   0%|          | 0.00/1.96M [00:00<?, ?B/s]"
            ]
          },
          "metadata": {},
          "output_type": "display_data"
        },
        {
          "data": {
            "application/vnd.jupyter.widget-view+json": {
              "model_id": "3999cf5bd1d2446587fb7bd41a5a3bec",
              "version_major": 2,
              "version_minor": 0
            },
            "text/plain": [
              "config.json:   0%|          | 0.00/625 [00:00<?, ?B/s]"
            ]
          },
          "metadata": {},
          "output_type": "display_data"
        },
        {
          "data": {
            "application/vnd.jupyter.widget-view+json": {
              "model_id": "31802e5844fa42d884bb7ca7d4913d99",
              "version_major": 2,
              "version_minor": 0
            },
            "text/plain": [
              "model.safetensors:   0%|          | 0.00/714M [00:00<?, ?B/s]"
            ]
          },
          "metadata": {},
          "output_type": "display_data"
        }
      ],
      "source": [
        "from transformers import BertModel, BertTokenizer\n",
        "\n",
        "# load the pre-trained model from\n",
        "mbert_name = 'bert-base-multilingual-cased'\n",
        "mbert_tokenizer = BertTokenizer.from_pretrained(mbert_name)\n",
        "mbert_model = BertModel.from_pretrained(mbert_name)"
      ]
    },
    {
      "cell_type": "code",
      "execution_count": null,
      "metadata": {
        "id": "Zf2paMZGHM9v"
      },
      "outputs": [],
      "source": [
        "inputs = mbert_tokenizer(full_data_clean[\"text\"].tolist(), return_tensors=\"pt\", padding=True, truncation=True, max_length=512)\n",
        "with torch.no_grad():\n",
        "    outputs = mbert_model(**inputs)\n",
        "\n",
        "X_mbert = outputs.pooler_output\n",
        "# y_fan is generated in GLoVE"
      ]
    },
    {
      "cell_type": "code",
      "execution_count": null,
      "metadata": {
        "colab": {
          "base_uri": "https://localhost:8080/"
        },
        "id": "KbsRhE7HOfJN",
        "outputId": "bac8a25f-f2b0-4ffe-a220-12b8920767f8"
      },
      "outputs": [
        {
          "name": "stdout",
          "output_type": "stream",
          "text": [
            "The m-BERT features for training text has shape (4410, 768) and labels have shape (4410,)\n"
          ]
        }
      ],
      "source": [
        "print(f\"The m-BERT features for training text has shape {(X_mbert.size(0), X_mbert.size(1))} and labels have shape {y_fan.shape}\")"
      ]
    },
    {
      "cell_type": "code",
      "execution_count": null,
      "metadata": {
        "id": "_yffF0kIRckY"
      },
      "outputs": [],
      "source": [
        "retweet_clean = full_data_clean[\"retweets\"].tolist()\n",
        "likes_clean = full_data_clean[\"likes\"].tolist()"
      ]
    },
    {
      "cell_type": "code",
      "execution_count": null,
      "metadata": {
        "id": "Wj3OODuEK0xF"
      },
      "outputs": [],
      "source": [
        "# the m-BERT model is very large on RAM, so store the encoded features for later load\n",
        "np.savez('mBERT_data.npz',\n",
        "         text=X_mbert.numpy(),\n",
        "         fan=y_fan,\n",
        "         retweets=np.array(retweet_clean),\n",
        "         likes=np.array(likes_clean))"
      ]
    },
    {
      "cell_type": "markdown",
      "metadata": {
        "id": "d4Pnj8NJO-du"
      },
      "source": [
        "## Result features\n",
        "\n",
        "We can load the data for next step here. Notice that the two datasets have different sizes, due to the strength of cleaning for different encoders.\n",
        "\n",
        "Also, `y_classes = Index(['gohawks', 'gopatriots'], dtype='object')`, indicating that 0 refers to \"hawks\", and 1 refers to \"patriots\"."
      ]
    },
    {
      "cell_type": "code",
      "execution_count": 86,
      "metadata": {
        "id": "at7avpT7RymG"
      },
      "outputs": [],
      "source": [
        "with np.load('GLoVE_data.npz') as data:\n",
        "    X_GLoVE = data[\"text\"]\n",
        "    y_GLoVE = data[\"fan\"]\n",
        "    retweets_GLoVE = data[\"retweets\"]\n",
        "    likes_GLoVE = data[\"likes\"]"
      ]
    },
    {
      "cell_type": "code",
      "execution_count": 87,
      "metadata": {
        "id": "EytQoHaUSJiX"
      },
      "outputs": [],
      "source": [
        "with np.load('mBERT_data.npz') as data:\n",
        "    X_mBERT = data[\"text\"]\n",
        "    y_mBERT = data[\"fan\"]\n",
        "    retweets_mBERT = data[\"retweets\"]\n",
        "    likes_mBERT = data[\"likes\"]"
      ]
    },
    {
      "cell_type": "markdown",
      "metadata": {
        "id": "WPi4uckRUOmr"
      },
      "source": [
        "A brief look at the target distribution (take the more complete data from m-BERT).\n",
        "\n",
        "The fan label distribution looks well balanced, but the distribution of retweets and likes both appear extremely right-skewed."
      ]
    },
    {
      "cell_type": "code",
      "execution_count": 88,
      "metadata": {
        "colab": {
          "base_uri": "https://localhost:8080/",
          "height": 402
        },
        "id": "SI34_F-eUODd",
        "outputId": "5f68de22-a9c3-4b9a-9b1d-54b5fa4cbf43"
      },
      "outputs": [
        {
          "data": {
            "image/png": "[encoded data removed]",
            "text/plain": [
              "<Figure size 1500x500 with 3 Axes>"
            ]
          },
          "metadata": {},
          "output_type": "display_data"
        }
      ],
      "source": [
        "plt.figure(figsize=(15, 5))\n",
        "\n",
        "plt.subplot(1, 3, 1)\n",
        "fan_values, fan_counts = np.unique(y_mBERT, return_counts=True)\n",
        "fan_labels = [\"hawks\" if val == 0 else \"patriots\" for val in fan_values]\n",
        "plt.bar(fan_labels, fan_counts)\n",
        "plt.title('Distribution of fan classes')\n",
        "plt.xlabel('Fan class')\n",
        "plt.ylabel('Frequency')\n",
        "\n",
        "plt.subplot(1, 3, 2)\n",
        "plt.hist(retweets_mBERT)\n",
        "plt.title('Distribution of retweets')\n",
        "plt.xlabel('Retweets')\n",
        "plt.ylabel('Frequency')\n",
        "\n",
        "plt.subplot(1, 3, 3)\n",
        "plt.hist(likes_mBERT)\n",
        "plt.title('Distribution of likes')\n",
        "plt.xlabel('Likes')\n",
        "plt.ylabel('Frequency')\n",
        "\n",
        "plt.tight_layout()\n",
        "plt.show()"
      ]
    },
    {
      "cell_type": "markdown",
      "metadata": {
        "id": "dX_sK3YR8SpL"
      },
      "source": [
        "# Training utils\n",
        "\n"
      ]
    },
    {
      "cell_type": "code",
      "execution_count": 92,
      "metadata": {
        "id": "sCkn2EZS8aV5"
      },
      "outputs": [],
      "source": [
        "# Simple classifier model\n",
        "class SCLF(nn.Module):\n",
        "    def __init__(self, in_features, hidden_features, num_classes=2, dropout_rate=0.5):\n",
        "        super(SCLF, self).__init__()\n",
        "\n",
        "        self.input_layer = nn.Linear(in_features, hidden_features[0])\n",
        "\n",
        "        layers = []\n",
        "        for i in range(len(hidden_features) - 1):\n",
        "            layers.append(nn.Linear(hidden_features[i], hidden_features[i+1]))\n",
        "            layers.append(nn.ReLU())\n",
        "            layers.append(nn.Dropout(dropout_rate))\n",
        "        self.hidden_layers = nn.Sequential(*layers)\n",
        "\n",
        "        self.output_layer = nn.Linear(hidden_features[-1], num_classes)\n",
        "\n",
        "    def forward(self, x):\n",
        "        x = self.input_layer(x)\n",
        "        x = self.hidden_layers(x)\n",
        "        x = self.output_layer(x)                # the probabilities for softmax\n",
        "        return x"
      ]
    },
    {
      "cell_type": "code",
      "execution_count": 93,
      "metadata": {
        "id": "-DS3d4t-8vxV"
      },
      "outputs": [],
      "source": [
        "# Simple regressor model\n",
        "class SR(nn.Module):\n",
        "    def __init__(self, in_features, hidden_features, dropout_rate=0.5):\n",
        "        super(SR, self).__init__()\n",
        "\n",
        "        self.input_layer = nn.Linear(in_features, hidden_features[0])\n",
        "\n",
        "        layers = []\n",
        "        for i in range(len(hidden_features) - 1):\n",
        "            layers.append(nn.Linear(hidden_features[i], hidden_features[i+1]))\n",
        "            layers.append(nn.ReLU())\n",
        "            layers.append(nn.Dropout(dropout_rate))\n",
        "        self.hidden_layers = nn.Sequential(*layers)\n",
        "\n",
        "        self.output_layer = nn.Linear(hidden_features[-1], 1)\n",
        "\n",
        "    def forward(self, x):\n",
        "        x = self.input_layer(x)\n",
        "        x = self.hidden_layers(x)\n",
        "        x = self.output_layer(x)\n",
        "        x = x.squeeze()                     # to avoid broadcast in loss computation\n",
        "        return x"
      ]
    },
    {
      "cell_type": "code",
      "execution_count": 117,
      "metadata": {
        "id": "e_P-OcCX87bU"
      },
      "outputs": [],
      "source": [
        "def train(model, X, y, criterion, optimizer, num_epochs, batch_size, device):\n",
        "    # prepare the dataloaders\n",
        "    X_train, X_val, y_train, y_val = train_test_split(torch.from_numpy(X), torch.from_numpy(y), test_size=0.1, random_state=42)\n",
        "    train_loader = DataLoader(TensorDataset(X_train, y_train), batch_size=batch_size, shuffle=True)\n",
        "    val_loader = DataLoader(TensorDataset(X_val, y_val), batch_size=batch_size, shuffle=True)\n",
        "\n",
        "    # for visualization and best_val weights\n",
        "    best_model_weights = None\n",
        "    best_val_loss = float(\"inf\")\n",
        "    train_loss_history, val_loss_history = [], []\n",
        "\n",
        "    for epoch in tqdm(range(num_epochs)):\n",
        "        model.train()\n",
        "        train_loss = 0\n",
        "        for X, y in train_loader:\n",
        "            X, y = X.to(device), y.to(device)\n",
        "            optimizer.zero_grad()\n",
        "            preds = model(X)\n",
        "            loss = criterion(preds, y)\n",
        "            loss.backward()\n",
        "            train_loss += loss.item()\n",
        "            optimizer.step()\n",
        "        train_loss /= len(train_loader)\n",
        "        train_loss_history.append(train_loss)\n",
        "\n",
        "        # compute the val loss\n",
        "        model.eval()\n",
        "        with torch.no_grad():\n",
        "            val_loss = 0\n",
        "            for X_val, y_val in val_loader:\n",
        "                X_val, y_val = X_val.to(device), y_val.to(device)\n",
        "                preds = model(X_val)\n",
        "                loss = criterion(preds, y_val)\n",
        "                val_loss += loss.item()\n",
        "        val_loss /= len(val_loader)\n",
        "        val_loss_history.append(val_loss)\n",
        "        # possible record\n",
        "        if val_loss < best_val_loss:\n",
        "            best_val_loss = val_loss\n",
        "            best_model_weights = model.state_dict().copy()\n",
        "    return train_loss_history, val_loss_history, best_model_weights\n",
        "\n",
        "\n",
        "def plot_loss(train_hist, val_hist, title):\n",
        "    \"\"\"\n",
        "    Plot the training and validation loss during the training epochs, showing the convergence.\n",
        "    \"\"\"\n",
        "    plt.plot(train_hist, label='train loss')\n",
        "    plt.plot(val_hist, label='val loss')\n",
        "    plt.xlabel('Epoch')\n",
        "    plt.ylabel('Val Loss')\n",
        "    plt.title(title)\n",
        "    plt.legend()\n",
        "    plt.grid(True)\n",
        "    plt.show()\n",
        "\n",
        "\n",
        "def clf_predict(model, inputs):\n",
        "    model.to('cpu')\n",
        "    model.eval()\n",
        "    with torch.no_grad():\n",
        "        logits = model(inputs)\n",
        "        probs = F.softmax(logits, dim=1)\n",
        "        _, predicted_classes = torch.max(probs, dim=1)\n",
        "    return predicted_classes\n",
        "\n",
        "\n",
        "def reg_predict(model, inputs):\n",
        "    model.to('cpu')\n",
        "    model.eval()\n",
        "    with torch.no_grad():\n",
        "        preds = model(inputs)\n",
        "    return preds"
      ]
    },
    {
      "cell_type": "code",
      "execution_count": 96,
      "metadata": {
        "id": "8-2Na6lI9WfX"
      },
      "outputs": [],
      "source": [
        "def result_metrics(model_name, y_true, y_predict, pos_label=1, average='binary'):\n",
        "    print(\"Accuracy of {} is {}\".format(model_name, accuracy_score(y_true, y_predict)))\n",
        "    print(\"Recall of {} is {}\".format(model_name, recall_score(y_true, y_predict, pos_label=pos_label, average=average)))\n",
        "    print(\"Precision of {} is {}\".format(model_name, precision_score(y_true, y_predict, pos_label=pos_label, zero_division=0.0, average=average)))\n",
        "    print(\"F-1 score of {} is {}\".format(model_name, f1_score(y_true, y_predict, pos_label=pos_label, zero_division=0.0, average=average)))\n",
        "\n",
        "\n",
        "def regression_metrics(model_name, y_true, y_pred, mape=True):\n",
        "    print(\"RMSE of {} is {}\".format(model_name, root_mean_squared_error(y_true, y_pred)))\n",
        "    print(\"MAE of {} is {}\".format(model_name, mean_absolute_error(y_true, y_pred)))\n",
        "    if mape:        # not meaningful when targets mostly close to 0\n",
        "        print(\"MAPE of {} is {}\".format(model_name, mean_absolute_percentage_error(y_true, y_pred)))"
      ]
    },
    {
      "cell_type": "markdown",
      "metadata": {
        "id": "LpmWkNrQ-_Lv"
      },
      "source": [
        "## Data split"
      ]
    },
    {
      "cell_type": "code",
      "execution_count": 107,
      "metadata": {
        "id": "NALlm5Pw_BVZ"
      },
      "outputs": [],
      "source": [
        "GLoVE_size = X_GLoVE.shape[0]\n",
        "train_idx_GLoVE, test_idx_GLoVE = train_test_split(np.arange(GLoVE_size), test_size=0.2, random_state=42)\n",
        "\n",
        "X_train_GLoVE, X_test_GLoVE = X_GLoVE[train_idx_GLoVE], X_GLoVE[test_idx_GLoVE]\n",
        "y_train_GLoVE, y_test_GLoVE = y_GLoVE[train_idx_GLoVE], y_GLoVE[test_idx_GLoVE]\n",
        "retweets_train_GLoVE, retweets_test_GLoVE = retweets_GLoVE[train_idx_GLoVE], retweets_GLoVE[test_idx_GLoVE]\n",
        "likes_train_GLoVE, likes_test_GLoVE = likes_GLoVE[train_idx_GLoVE], likes_GLoVE[test_idx_GLoVE]"
      ]
    },
    {
      "cell_type": "code",
      "execution_count": 108,
      "metadata": {
        "id": "3g2XMjXV_1Is"
      },
      "outputs": [],
      "source": [
        "mBERT_size = X_mBERT.shape[0]\n",
        "train_idx_mBERT, test_idx_mBERT = train_test_split(np.arange(mBERT_size), test_size=0.2, random_state=42)\n",
        "\n",
        "X_train_mBERT, X_test_mBERT = X_mBERT[train_idx_mBERT], X_mBERT[test_idx_mBERT]\n",
        "y_train_mBERT, y_test_mBERT = y_mBERT[train_idx_mBERT], y_mBERT[test_idx_mBERT]\n",
        "retweets_train_mBERT, retweets_test_mBERT = retweets_mBERT[train_idx_mBERT], retweets_mBERT[test_idx_mBERT]\n",
        "likes_train_mBERT, likes_test_mBERT = likes_mBERT[train_idx_mBERT], likes_mBERT[test_idx_mBERT]"
      ]
    },
    {
      "cell_type": "markdown",
      "metadata": {
        "id": "vVtPIPTLSalZ"
      },
      "source": [
        "# Classification"
      ]
    },
    {
      "cell_type": "markdown",
      "metadata": {
        "id": "iqwF3PCZSoDH"
      },
      "source": [
        "In this task, we want to predict the specific fan class that a tweet belongs to.\n",
        "\n",
        "Since the target classes are well balanced, I directly performed the classification.\n",
        "\n",
        "The data we need:\n",
        "- GLoVE:\n",
        "    - `X_train_GLoVE`, `X_test_GLoVE`\n",
        "    - `y_train_GLoVE`, `y_test_GLoVE`\n",
        "- mBERT:\n",
        "    - `X_train_mBERT`, `X_test_mBERT`\n",
        "    - `y_train_mBERT`, `y_test_mBERT`"
      ]
    },
    {
      "cell_type": "markdown",
      "metadata": {
        "id": "_KM_O_nVkw5W"
      },
      "source": [
        "## Baselines: Bayes, SVM"
      ]
    },
    {
      "cell_type": "code",
      "execution_count": 109,
      "metadata": {
        "colab": {
          "base_uri": "https://localhost:8080/"
        },
        "id": "r-9ggsEesg2p",
        "outputId": "a93c9856-d62d-46fb-e78a-cbd2eef1f2c4"
      },
      "outputs": [
        {
          "name": "stdout",
          "output_type": "stream",
          "text": [
            "Accuracy of Bayes classifier on GLoVE is 0.6486161251504212\n",
            "Recall of Bayes classifier on GLoVE is 0.5112219451371571\n",
            "Precision of Bayes classifier on GLoVE is 0.6810631229235881\n",
            "F-1 score of Bayes classifier on GLoVE is 0.584045584045584\n"
          ]
        }
      ],
      "source": [
        "# Bayes classifier\n",
        "bayes = GaussianNB()\n",
        "bayes.fit(X_train_GLoVE, y_train_GLoVE)\n",
        "\n",
        "result_metrics(\"Bayes classifier on GLoVE\", y_test_GLoVE, bayes.predict(X_test_GLoVE))"
      ]
    },
    {
      "cell_type": "code",
      "execution_count": 110,
      "metadata": {
        "colab": {
          "base_uri": "https://localhost:8080/"
        },
        "id": "0KK2al5UtEdR",
        "outputId": "6e2ef2c8-3574-469a-8944-a2ec53e43305"
      },
      "outputs": [
        {
          "name": "stdout",
          "output_type": "stream",
          "text": [
            "Accuracy of SVM classifier on GLoVE is 0.690734055354994\n",
            "Recall of SVM classifier on GLoVE is 0.5960099750623441\n",
            "Precision of SVM classifier on GLoVE is 0.7155688622754491\n",
            "F-1 score of SVM classifier on GLoVE is 0.6503401360544218\n"
          ]
        }
      ],
      "source": [
        "# hard SVM\n",
        "SVM = SVC(C=1e3, kernel=\"linear\")\n",
        "SVM.fit(X_train_GLoVE, y_train_GLoVE)\n",
        "\n",
        "result_metrics(\"SVM classifier on GLoVE\", y_test_GLoVE, SVM.predict(X_test_GLoVE))"
      ]
    },
    {
      "cell_type": "markdown",
      "metadata": {
        "id": "Xsac9PAni80B"
      },
      "source": [
        "## Logistic classifier on GLoVE"
      ]
    },
    {
      "cell_type": "code",
      "execution_count": 111,
      "metadata": {
        "colab": {
          "base_uri": "https://localhost:8080/"
        },
        "id": "QkPPT0rAlOv7",
        "outputId": "36fad896-80de-4d25-fd14-4172b45df52d"
      },
      "outputs": [
        {
          "name": "stdout",
          "output_type": "stream",
          "text": [
            "Accuracy of Logistic classifier on GLoVE is 0.7051744885679904\n",
            "Recall of Logistic classifier on GLoVE is 0.6309226932668329\n",
            "Precision of Logistic classifier on GLoVE is 0.7228571428571429\n",
            "F-1 score of Logistic classifier on GLoVE is 0.6737683089214381\n"
          ]
        }
      ],
      "source": [
        "# Logistic classifier\n",
        "logistic_classifier = LogisticRegression(penalty='l2', C=1e3, solver=\"liblinear\")\n",
        "logistic_classifier.fit(X_train_GLoVE, y_train_GLoVE)\n",
        "\n",
        "result_metrics(\"Logistic classifier on GLoVE\", y_test_GLoVE, logistic_classifier.predict(X_test_GLoVE))"
      ]
    },
    {
      "cell_type": "markdown",
      "metadata": {
        "id": "e6cgb7VlOpPV"
      },
      "source": [
        "## LightGBM on GLoVE"
      ]
    },
    {
      "cell_type": "code",
      "execution_count": 112,
      "metadata": {
        "colab": {
          "base_uri": "https://localhost:8080/"
        },
        "id": "4A9c3yh1MEeZ",
        "outputId": "3015dd48-5611-427a-b14d-e664dc6a0a85"
      },
      "outputs": [
        {
          "name": "stdout",
          "output_type": "stream",
          "text": [
            "Accuracy of LightGBM classifier on GLoVE is 0.7196149217809867\n",
            "Recall of LightGBM classifier on GLoVE is 0.6408977556109726\n",
            "Precision of LightGBM classifier on GLoVE is 0.7427745664739884\n",
            "F-1 score of LightGBM classifier on GLoVE is 0.6880856760374833\n"
          ]
        }
      ],
      "source": [
        "lgb_clf = lgb.LGBMClassifier(max_depth=10,\n",
        "                             objective=\"binary\",      # binary task\n",
        "                             reg_lambda=1e-3,         # prevent overfit\n",
        "                             reg_alpha=1e-3,\n",
        "                             n_estimators=150,\n",
        "                             learning_rate=1e-1,\n",
        "                             verbose=-1,\n",
        "                             random_state=42)\n",
        "lgb_clf.fit(X_train_GLoVE, y_train_GLoVE)\n",
        "\n",
        "result_metrics(\"LightGBM classifier on GLoVE\", y_test_GLoVE, lgb_clf.predict(X_test_GLoVE))"
      ]
    },
    {
      "cell_type": "markdown",
      "metadata": {
        "id": "DsZlgjhLkAAe"
      },
      "source": [
        "## Simple Neural Classifier on m-BERT"
      ]
    },
    {
      "cell_type": "markdown",
      "metadata": {
        "id": "IslG11Vfi2qg"
      },
      "source": [
        "Previous experiments showed that the models works well on the GLoVE embeddings. However, all of them performed worse on the mBERT-encoded features. I want to check whether a neural network can utilize the mBERT features well."
      ]
    },
    {
      "cell_type": "code",
      "execution_count": 115,
      "metadata": {
        "colab": {
          "base_uri": "https://localhost:8080/"
        },
        "id": "cm53wvz9u2RE",
        "outputId": "20aa1747-86b6-49f1-cf44-b2ff5b0f6813"
      },
      "outputs": [
        {
          "data": {
            "text/plain": [
              "==========================================================================================\n",
              "Layer (type:depth-idx)                   Output Shape              Param #\n",
              "==========================================================================================\n",
              "SCLF                                     [64, 2]                   --\n",
              "├─Linear: 1-1                            [64, 512]                 393,728\n",
              "├─Sequential: 1-2                        [64, 32]                  --\n",
              "│    └─Linear: 2-1                       [64, 128]                 65,664\n",
              "│    └─ReLU: 2-2                         [64, 128]                 --\n",
              "│    └─Dropout: 2-3                      [64, 128]                 --\n",
              "│    └─Linear: 2-4                       [64, 32]                  4,128\n",
              "│    └─ReLU: 2-5                         [64, 32]                  --\n",
              "│    └─Dropout: 2-6                      [64, 32]                  --\n",
              "├─Linear: 1-3                            [64, 2]                   66\n",
              "==========================================================================================\n",
              "Total params: 463,586\n",
              "Trainable params: 463,586\n",
              "Non-trainable params: 0\n",
              "Total mult-adds (M): 29.67\n",
              "==========================================================================================\n",
              "Input size (MB): 0.20\n",
              "Forward/backward pass size (MB): 0.35\n",
              "Params size (MB): 1.85\n",
              "Estimated Total Size (MB): 2.40\n",
              "=========================================================================================="
            ]
          },
          "execution_count": 115,
          "metadata": {},
          "output_type": "execute_result"
        }
      ],
      "source": [
        "summary(SCLF(768, [512, 128, 32]), (64, 768))"
      ]
    },
    {
      "cell_type": "code",
      "execution_count": 119,
      "metadata": {
        "colab": {
          "base_uri": "https://localhost:8080/",
          "height": 49,
          "referenced_widgets": [
            "328b1132f97648b4ba2b15504fcec3dd",
            "b42d0990249949419868799bf47b449b",
            "94a8cde21c364bf2a7a0d31ba443014e",
            "bbb66a72cbb64730b7a1a957d4d7a20b",
            "2f2071aaeb3c4f7f97e0c6bd1d7222cc",
            "1d2ed0a846b54a48a5ed732733413428",
            "567fc273387342ee8c4e078f0dc3f62d",
            "cb22d69c33ac4778b494caf26fafbeea",
            "5a3c93405a214bcfb301612bfedcce70",
            "901183ad5b334491ba7e006b46bfd0ee",
            "3f69f3eec43a4dd992c58ea65f001884"
          ]
        },
        "id": "oQF86bkbbbka",
        "outputId": "5dab3718-c491-42cf-b31a-35ffd0b01100"
      },
      "outputs": [
        {
          "data": {
            "application/vnd.jupyter.widget-view+json": {
              "model_id": "328b1132f97648b4ba2b15504fcec3dd",
              "version_major": 2,
              "version_minor": 0
            },
            "text/plain": [
              "  0%|          | 0/300 [00:00<?, ?it/s]"
            ]
          },
          "metadata": {},
          "output_type": "display_data"
        }
      ],
      "source": [
        "mBERT_DIM = 768\n",
        "weight_decay=1e-2\n",
        "learning_rate = 2e-5\n",
        "hidden_dims = [256, 128, 64]\n",
        "\n",
        "device = torch.device(\"cuda\" if torch.cuda.is_available() else \"cpu\")\n",
        "model = SCLF(mBERT_DIM, hidden_dims).to(device)\n",
        "criterion = nn.CrossEntropyLoss()\n",
        "optimizer = Adam(model.parameters(), lr=learning_rate, weight_decay=weight_decay)\n",
        "\n",
        "train_hist, val_hist, best_weights = train(model=model,\n",
        "                                           X=X_train_mBERT,\n",
        "                                           y=y_train_mBERT,\n",
        "                                           criterion=criterion,\n",
        "                                           optimizer=optimizer,\n",
        "                                           num_epochs=300,\n",
        "                                           batch_size=64,\n",
        "                                           device=device)"
      ]
    },
    {
      "cell_type": "code",
      "execution_count": 120,
      "metadata": {
        "colab": {
          "base_uri": "https://localhost:8080/",
          "height": 472
        },
        "id": "G93SM2_3dYFw",
        "outputId": "e4544aa5-a3f8-4a3f-ad80-1b175381bd9d"
      },
      "outputs": [
        {
          "data": {
            "image/png": "[encoded data removed]",
            "text/plain": [
              "<Figure size 640x480 with 1 Axes>"
            ]
          },
          "metadata": {},
          "output_type": "display_data"
        }
      ],
      "source": [
        "plot_loss(train_hist, val_hist, \"Train and validation loss on the mBERT features\")"
      ]
    },
    {
      "cell_type": "code",
      "execution_count": 125,
      "metadata": {
        "colab": {
          "base_uri": "https://localhost:8080/"
        },
        "id": "Sm7CgOeVdjl_",
        "outputId": "309bcff3-da25-4799-b6cc-6e274a36514d"
      },
      "outputs": [
        {
          "name": "stdout",
          "output_type": "stream",
          "text": [
            "Accuracy of Neural network classifier on mBERT is 0.671201814058957\n",
            "Recall of Neural network classifier on mBERT is 0.6261261261261262\n",
            "Precision of Neural network classifier on mBERT is 0.6915422885572139\n",
            "F-1 score of Neural network classifier on mBERT is 0.6572104018912529\n"
          ]
        }
      ],
      "source": [
        "model.load_state_dict(best_weights)\n",
        "y_predict_test = clf_predict(model, torch.from_numpy(X_test_mBERT))\n",
        "\n",
        "result_metrics(\"Neural network classifier on mBERT\", y_test_mBERT, y_predict_test)"
      ]
    },
    {
      "cell_type": "markdown",
      "metadata": {
        "id": "t9wUapzcEWl4"
      },
      "source": [
        "## Results\n",
        "\n",
        "From the evaluations above, we can see that the Logistic classifier and lightGBM classifer both outperformed the baseline models on the GLoVE features.\n",
        "\n",
        "Besides, a simple neural network can perform fairly well on the m-BERT encoded features, while other extra experiments showed that other models could not work well with m-BERT encoded features. One explanation can be that those models could not divide m-BERT features of high dimension."
      ]
    },
    {
      "cell_type": "markdown",
      "metadata": {
        "id": "OC9wHXVJRmyK"
      },
      "source": [
        "# Regression"
      ]
    },
    {
      "cell_type": "markdown",
      "metadata": {
        "id": "EdbXZ3-5RrQC"
      },
      "source": [
        "## Predict tweets\n",
        "\n",
        "We already showed that the retweets have a very extreme right-skewed distribution.\n",
        "\n",
        "The data we need will be:\n",
        "- GLoVE:\n",
        "    - `X_train_GLoVE`, `X_test_GLoVE`\n",
        "    - `retweets_train_GLoVE`, `retweets_test_GLoVE`\n",
        "- mBERT:\n",
        "    - `X_train_mBERT`, `X_test_mBERT`\n",
        "    - `retweets_train_mBERT`, `retweets_test_mBERT`\n",
        "\n",
        "Below I listed the description of \"retweets\" in the full data."
      ]
    },
    {
      "cell_type": "code",
      "execution_count": 130,
      "metadata": {
        "colab": {
          "base_uri": "https://localhost:8080/"
        },
        "id": "_5RvuZVlHlxz",
        "outputId": "8b5569fa-d58a-4d28-a847-93d4f9b3df95"
      },
      "outputs": [
        {
          "data": {
            "text/plain": [
              "count    5000.000000\n",
              "mean        1.632000\n",
              "std         8.309102\n",
              "min         1.000000\n",
              "25%         1.000000\n",
              "50%         1.000000\n",
              "75%         1.000000\n",
              "max       481.000000\n",
              "Name: retweets, dtype: float64"
            ]
          },
          "execution_count": 130,
          "metadata": {},
          "output_type": "execute_result"
        }
      ],
      "source": [
        "full_data['retweets'].describe()"
      ]
    },
    {
      "cell_type": "markdown",
      "metadata": {
        "id": "IT_L5TjGHu2-"
      },
      "source": [
        "First, we want to see the performance directly on the data without any transformation on the target variable."
      ]
    },
    {
      "cell_type": "markdown",
      "metadata": {
        "id": "qHOBqPpUc2Cm"
      },
      "source": [
        "### Baselines: Linear Regression with L2-regularization"
      ]
    },
    {
      "cell_type": "code",
      "execution_count": 131,
      "metadata": {
        "colab": {
          "base_uri": "https://localhost:8080/"
        },
        "id": "_bMiLBqwc1J_",
        "outputId": "f510666b-b566-4d41-badd-607ce27b472c"
      },
      "outputs": [
        {
          "name": "stdout",
          "output_type": "stream",
          "text": [
            "RMSE of Ridge on GLoVE for retweet is 5.9630976982315085\n",
            "MAE of Ridge on GLoVE for retweet is 0.994083712773189\n",
            "MAPE of Ridge on GLoVE for retweet is 0.5177972389099841\n"
          ]
        }
      ],
      "source": [
        "l2_regressor = Ridge(alpha=1e2, fit_intercept=True)\n",
        "l2_regressor.fit(X_train_GLoVE, retweets_train_GLoVE)\n",
        "\n",
        "regression_metrics(\"Ridge on GLoVE for retweet\", retweets_test_GLoVE, l2_regressor.predict(X_test_GLoVE))"
      ]
    },
    {
      "cell_type": "markdown",
      "metadata": {
        "id": "grTPpxfHjlXv"
      },
      "source": [
        "### LightGBM on GLoVE"
      ]
    },
    {
      "cell_type": "code",
      "execution_count": 136,
      "metadata": {
        "colab": {
          "base_uri": "https://localhost:8080/"
        },
        "id": "DHCKSPycjo9Y",
        "outputId": "2e29874e-7835-43b4-fb8b-d37b9d15148c"
      },
      "outputs": [
        {
          "name": "stdout",
          "output_type": "stream",
          "text": [
            "RMSE of LightGBM regressor on GLoVE for retweet is 6.375175416052872\n",
            "MAE of LightGBM regressor on GLoVE for retweet is 1.41932456183091\n",
            "MAPE of LightGBM regressor on GLoVE for retweet is 0.8727249807828152\n"
          ]
        }
      ],
      "source": [
        "lgb_reg = lgb.LGBMRegressor(max_depth=10,\n",
        "                            objective=\"regression\",\n",
        "                            reg_lambda=1e-3,         # prevent overfit\n",
        "                            reg_alpha=1e-3,\n",
        "                            n_estimators=200,\n",
        "                            learning_rate=1e-1,\n",
        "                            verbose=-1,\n",
        "                            random_state=42)\n",
        "lgb_reg.fit(X_train_GLoVE, retweets_train_GLoVE)\n",
        "\n",
        "regression_metrics(\"LightGBM regressor on GLoVE for retweet\", retweets_test_GLoVE, lgb_reg.predict(X_test_GLoVE))"
      ]
    },
    {
      "cell_type": "code",
      "execution_count": 137,
      "metadata": {
        "colab": {
          "base_uri": "https://localhost:8080/"
        },
        "id": "JHidQxUclDTO",
        "outputId": "44b989fd-f805-4275-bbc7-f3cf8734cc9a"
      },
      "outputs": [
        {
          "name": "stdout",
          "output_type": "stream",
          "text": [
            "RMSE of LightGBM regressor on m-BERT for retweet is 3.428305571205111\n",
            "MAE of LightGBM regressor on m-BERT for retweet is 1.3150557014333228\n",
            "MAPE of LightGBM regressor on m-BERT for retweet is 0.9485290148844248\n"
          ]
        }
      ],
      "source": [
        "lgb_reg = lgb.LGBMRegressor(max_depth=10,\n",
        "                            objective=\"regression\",\n",
        "                            reg_lambda=1e-3,         # prevent overfit\n",
        "                            reg_alpha=1e-3,\n",
        "                            n_estimators=200,\n",
        "                            learning_rate=1e-1,\n",
        "                            verbose=-1,\n",
        "                            random_state=42)\n",
        "lgb_reg.fit(X_train_mBERT, retweets_train_mBERT)\n",
        "\n",
        "regression_metrics(\"LightGBM regressor on m-BERT for retweet\", retweets_test_mBERT, lgb_reg.predict(X_test_mBERT))"
      ]
    },
    {
      "cell_type": "markdown",
      "metadata": {
        "id": "7rNPE9oil1II"
      },
      "source": [
        "### Log-transformation on the retweets"
      ]
    },
    {
      "cell_type": "markdown",
      "metadata": {
        "id": "ybyH1LTSl_2-"
      },
      "source": [
        "Given the target values have a majority of 1's and high right-skew, we appled a log-transformation on the target to solve the rigght-skew. In particular, the transformation is $$y' = \\log(y+1)$$\n",
        "where the additional constant 1 is to avoid having $\\log0$.\n",
        "\n",
        "Thus, we make the reverse transformation when making a prediction $$y = \\exp(y')-1$$"
      ]
    },
    {
      "cell_type": "code",
      "execution_count": 139,
      "metadata": {
        "colab": {
          "base_uri": "https://localhost:8080/"
        },
        "id": "NKjHOzwBnUlI",
        "outputId": "27022c47-75ae-458a-85e8-5f8eb1901264"
      },
      "outputs": [
        {
          "name": "stdout",
          "output_type": "stream",
          "text": [
            "RMSE of LightGBM regressor on log-transformed GLoVE for retweet is 5.990275759809008\n",
            "MAE of LightGBM regressor on log-transformed GLoVE for retweet is 0.8234995410488949\n",
            "MAPE of LightGBM regressor on log-transformed GLoVE for retweet is 0.31668190283893777\n"
          ]
        }
      ],
      "source": [
        "lgb_reg = lgb.LGBMRegressor(max_depth=10,\n",
        "                            objective=\"regression\",\n",
        "                            reg_lambda=1e-3,         # prevent overfit\n",
        "                            reg_alpha=1e-3,\n",
        "                            n_estimators=200,\n",
        "                            learning_rate=1e-1,\n",
        "                            verbose=-1,\n",
        "                            random_state=42)\n",
        "lgb_reg.fit(X_train_GLoVE, np.log(retweets_train_GLoVE + 1))\n",
        "\n",
        "regression_metrics(\"LightGBM regressor on log-transformed GLoVE for retweet\", retweets_test_GLoVE, np.exp(lgb_reg.predict(X_test_GLoVE)) - 1)"
      ]
    },
    {
      "cell_type": "code",
      "execution_count": 143,
      "metadata": {
        "colab": {
          "base_uri": "https://localhost:8080/"
        },
        "id": "ambURSdtn_1T",
        "outputId": "f4a54ee8-39e1-4ab6-c3d3-dbced9e1f1c1"
      },
      "outputs": [
        {
          "name": "stdout",
          "output_type": "stream",
          "text": [
            "RMSE of LightGBM regressor on log-transformed m-BERT for retweet is 2.148781126837415\n",
            "MAE of LightGBM regressor on log-transformed m-BERT for retweet is 0.6536555340474074\n",
            "MAPE of LightGBM regressor on log-transformed m-BERT for retweet is 0.31185435114593674\n"
          ]
        }
      ],
      "source": [
        "lgb_reg = lgb.LGBMRegressor(max_depth=10,\n",
        "                            objective=\"regression\",\n",
        "                            reg_lambda=1e-3,         # prevent overfit\n",
        "                            reg_alpha=1e-3,\n",
        "                            n_estimators=200,\n",
        "                            learning_rate=1e-1,\n",
        "                            verbose=-1,\n",
        "                            random_state=42)\n",
        "lgb_reg.fit(X_train_mBERT, np.log(retweets_train_mBERT + 1))\n",
        "\n",
        "regression_metrics(\"LightGBM regressor on log-transformed m-BERT for retweet\", retweets_test_mBERT, np.exp(lgb_reg.predict(X_test_mBERT)) - 1)"
      ]
    },
    {
      "cell_type": "markdown",
      "metadata": {
        "id": "01Vb34y8pNxR"
      },
      "source": [
        "### Simple Neural Regressor on m-BERT"
      ]
    },
    {
      "cell_type": "code",
      "execution_count": 141,
      "metadata": {
        "colab": {
          "base_uri": "https://localhost:8080/"
        },
        "id": "U9UzF5o4p9xz",
        "outputId": "318c14d8-34b8-4884-8f94-73687bb0f59c"
      },
      "outputs": [
        {
          "data": {
            "text/plain": [
              "==========================================================================================\n",
              "Layer (type:depth-idx)                   Output Shape              Param #\n",
              "==========================================================================================\n",
              "SR                                       [64]                      --\n",
              "├─Linear: 1-1                            [64, 512]                 393,728\n",
              "├─Sequential: 1-2                        [64, 32]                  --\n",
              "│    └─Linear: 2-1                       [64, 128]                 65,664\n",
              "│    └─ReLU: 2-2                         [64, 128]                 --\n",
              "│    └─Dropout: 2-3                      [64, 128]                 --\n",
              "│    └─Linear: 2-4                       [64, 32]                  4,128\n",
              "│    └─ReLU: 2-5                         [64, 32]                  --\n",
              "│    └─Dropout: 2-6                      [64, 32]                  --\n",
              "├─Linear: 1-3                            [64, 1]                   33\n",
              "==========================================================================================\n",
              "Total params: 463,553\n",
              "Trainable params: 463,553\n",
              "Non-trainable params: 0\n",
              "Total mult-adds (M): 29.67\n",
              "==========================================================================================\n",
              "Input size (MB): 0.20\n",
              "Forward/backward pass size (MB): 0.34\n",
              "Params size (MB): 1.85\n",
              "Estimated Total Size (MB): 2.40\n",
              "=========================================================================================="
            ]
          },
          "execution_count": 141,
          "metadata": {},
          "output_type": "execute_result"
        }
      ],
      "source": [
        "summary(SR(768, [512, 128, 32]), (64, 768))"
      ]
    },
    {
      "cell_type": "code",
      "execution_count": 142,
      "metadata": {
        "colab": {
          "base_uri": "https://localhost:8080/",
          "height": 49,
          "referenced_widgets": [
            "93fd8b2de01047c5806fc5c200e20e80",
            "f84661f762624971af5f7c9b9455c31f",
            "8eb077910c864307a4bf0bc6f91182d5",
            "02b238821ca1464fbbd2235e2a5f4241",
            "003dd8f7549745b8b50c5e292afdc396",
            "ba9ca8917cb54a3c88d9c222cadf7b8f",
            "a051d529a9ee4bc5aaac9274779bab51",
            "109b5e3e6c314dd591600c248a236dad",
            "c335892a942843acbb1da8c659750b41",
            "9339f742d98745d7859c23ae705b3233",
            "47ccf905c48e42888013fcc316437b4f"
          ]
        },
        "id": "nzhsaH-8rB-C",
        "outputId": "cf217730-7e84-432e-ff7a-9e14bdad2f9f"
      },
      "outputs": [
        {
          "data": {
            "application/vnd.jupyter.widget-view+json": {
              "model_id": "93fd8b2de01047c5806fc5c200e20e80",
              "version_major": 2,
              "version_minor": 0
            },
            "text/plain": [
              "  0%|          | 0/300 [00:00<?, ?it/s]"
            ]
          },
          "metadata": {},
          "output_type": "display_data"
        }
      ],
      "source": [
        "mBERT_DIM = 768\n",
        "weight_decay=1e-2\n",
        "learning_rate = 2e-5\n",
        "hidden_dims = [256, 128, 32]\n",
        "\n",
        "device = torch.device(\"cuda\" if torch.cuda.is_available() else \"cpu\")\n",
        "model = SR(mBERT_DIM, hidden_dims).to(device)\n",
        "criterion = nn.MSELoss()\n",
        "optimizer = Adam(model.parameters(), lr=learning_rate, weight_decay=weight_decay)\n",
        "\n",
        "train_hist, val_hist, best_weights = train(model=model,\n",
        "                                           X=X_train_mBERT,\n",
        "                                           y=np.log(retweets_train_mBERT + 1).astype(\"float32\"),\n",
        "                                           criterion=criterion,\n",
        "                                           optimizer=optimizer,\n",
        "                                           num_epochs=300,\n",
        "                                           batch_size=64,\n",
        "                                           device=device)"
      ]
    },
    {
      "cell_type": "code",
      "execution_count": 144,
      "metadata": {
        "colab": {
          "base_uri": "https://localhost:8080/",
          "height": 472
        },
        "id": "2EcAIk8qtyd_",
        "outputId": "b4e3ce7a-7178-4585-b8f5-f54378fbea85"
      },
      "outputs": [
        {
          "data": {
            "image/png": "[encoded data removed]",
            "text/plain": [
              "<Figure size 640x480 with 1 Axes>"
            ]
          },
          "metadata": {},
          "output_type": "display_data"
        }
      ],
      "source": [
        "plot_loss(train_hist, val_hist, \"Train and validation loss on the mBERT features with log-transformation on the targets\")"
      ]
    },
    {
      "cell_type": "code",
      "execution_count": 145,
      "metadata": {
        "colab": {
          "base_uri": "https://localhost:8080/"
        },
        "id": "uxj8KM9it2vJ",
        "outputId": "abe0297d-fbd0-4e89-e858-72d4444d89cb"
      },
      "outputs": [
        {
          "name": "stdout",
          "output_type": "stream",
          "text": [
            "RMSE of Neural network classifier on mBERT is 2.1416967569217795\n",
            "MAE of Neural network classifier on mBERT is 0.565407524438672\n",
            "MAPE of Neural network classifier on mBERT is 0.21081016297188035\n"
          ]
        }
      ],
      "source": [
        "model.load_state_dict(best_weights)\n",
        "retweets_predict_test = reg_predict(model, torch.from_numpy(X_test_mBERT))\n",
        "retweets_predict_test = np.exp(retweets_predict_test) - 1\n",
        "\n",
        "regression_metrics(\"Neural network classifier on mBERT\", retweets_test_mBERT, retweets_predict_test)"
      ]
    },
    {
      "cell_type": "markdown",
      "metadata": {
        "id": "-0LP5wF8LD1X"
      },
      "source": [
        "### Results of predictions on retweets\n",
        "\n",
        "Based on the results above, we can see that the log-transformation greatly improved the performance of each model, showing the necessity of the appropriate feature engineering.\n",
        "\n",
        "Besides, models working with the m-BERT encoded features showed better results, which is different from the classification task. This time, the neural network regressor obtained the best performances."
      ]
    },
    {
      "cell_type": "markdown",
      "metadata": {
        "id": "qs4ZwVYsxI1l"
      },
      "source": [
        "## Predict likes"
      ]
    },
    {
      "cell_type": "markdown",
      "metadata": {
        "id": "RKmPIQogxLeP"
      },
      "source": [
        "The distribution of \"likes\" has the same issue as the \"retweets\": the extreme right-skewing. As a result, a log-transformation on the target may also help.\n",
        "\n",
        "One special issue about \"likes\" is that the majority has value 0 without transformation, making MAPE does not make much sense in this case.\n",
        "\n"
      ]
    },
    {
      "cell_type": "code",
      "execution_count": 146,
      "metadata": {
        "colab": {
          "base_uri": "https://localhost:8080/"
        },
        "id": "VIyG6-zIL-zu",
        "outputId": "89a9b367-996c-4733-f12f-f11c060ea76d"
      },
      "outputs": [
        {
          "data": {
            "text/plain": [
              "count    5000.000000\n",
              "mean        0.028800\n",
              "std         0.368236\n",
              "min         0.000000\n",
              "25%         0.000000\n",
              "50%         0.000000\n",
              "75%         0.000000\n",
              "max        14.000000\n",
              "Name: likes, dtype: float64"
            ]
          },
          "execution_count": 146,
          "metadata": {},
          "output_type": "execute_result"
        }
      ],
      "source": [
        "full_data['likes'].describe()"
      ]
    },
    {
      "cell_type": "markdown",
      "metadata": {
        "id": "dsEhWSirMBCP"
      },
      "source": [
        "The data we need will be:\n",
        "- GLoVE:\n",
        "    - `X_train_GLoVE`, `X_test_GLoVE`\n",
        "    - `likes_train_GLoVE`, `likes_test_GLoVE`\n",
        "- mBERT:\n",
        "    - `X_train_mBERT`, `X_test_mBERT`\n",
        "    - `likes_train_mBERT`, `likes_test_mBERT`\n",
        "\n"
      ]
    },
    {
      "cell_type": "markdown",
      "metadata": {
        "id": "hgzry-qSxbGk"
      },
      "source": [
        "### Baseline: Linear Regression with L2-regularization"
      ]
    },
    {
      "cell_type": "code",
      "execution_count": 164,
      "metadata": {
        "colab": {
          "base_uri": "https://localhost:8080/"
        },
        "id": "2s-S2Rg8xlju",
        "outputId": "26263ca7-fa0d-4398-a1a9-916e6910214e"
      },
      "outputs": [
        {
          "name": "stdout",
          "output_type": "stream",
          "text": [
            "RMSE of Ridge on GLoVE for likes is 0.24161418794485073\n",
            "MAE of Ridge on GLoVE for likes is 0.0734601740129802\n"
          ]
        }
      ],
      "source": [
        "l2_regressor = Ridge(alpha=1e2, fit_intercept=True)\n",
        "l2_regressor.fit(X_train_GLoVE, likes_train_GLoVE)\n",
        "\n",
        "regression_metrics(\"Ridge on GLoVE for likes\", likes_test_GLoVE, l2_regressor.predict(X_test_GLoVE), mape=False)"
      ]
    },
    {
      "cell_type": "markdown",
      "metadata": {
        "id": "BhKWHY8lyHBC"
      },
      "source": [
        "### LightGBM on GLoVE"
      ]
    },
    {
      "cell_type": "code",
      "execution_count": 165,
      "metadata": {
        "colab": {
          "base_uri": "https://localhost:8080/"
        },
        "id": "DsGUWRXjyGer",
        "outputId": "57461436-27b9-47d9-d1c9-fc9a3a655252"
      },
      "outputs": [
        {
          "name": "stdout",
          "output_type": "stream",
          "text": [
            "RMSE of LightGBM regressor on GLoVE for likes is 0.5752791786052767\n",
            "MAE of LightGBM regressor on GLoVE for likes is 0.156202206117235\n"
          ]
        }
      ],
      "source": [
        "lgb_reg = lgb.LGBMRegressor(max_depth=10,\n",
        "                            objective=\"regression\",\n",
        "                            reg_lambda=1e-3,         # prevent overfit\n",
        "                            reg_alpha=1e-3,\n",
        "                            n_estimators=200,\n",
        "                            learning_rate=1e-1,\n",
        "                            verbose=-1,\n",
        "                            random_state=42)\n",
        "lgb_reg.fit(X_train_GLoVE, likes_train_GLoVE)\n",
        "\n",
        "regression_metrics(\"LightGBM regressor on GLoVE for likes\", likes_test_GLoVE, lgb_reg.predict(X_test_GLoVE), mape=False)"
      ]
    },
    {
      "cell_type": "markdown",
      "metadata": {
        "id": "krDev4ouyRQT"
      },
      "source": [
        "### Log-transformation on the likes"
      ]
    },
    {
      "cell_type": "code",
      "execution_count": 166,
      "metadata": {
        "colab": {
          "base_uri": "https://localhost:8080/"
        },
        "id": "GBVVnyIjy0CG",
        "outputId": "cb49ecc0-f6de-4828-c9a4-a88872d65282"
      },
      "outputs": [
        {
          "name": "stdout",
          "output_type": "stream",
          "text": [
            "RMSE of LightGBM regressor on log-transformed GLoVE for likes is 0.25117251747294134\n",
            "MAE of LightGBM regressor on log-transformed GLoVE for likes is 0.05988331493153209\n"
          ]
        }
      ],
      "source": [
        "lgb_reg = lgb.LGBMRegressor(max_depth=10,\n",
        "                            objective=\"regression\",\n",
        "                            reg_lambda=1e-3,         # prevent overfit\n",
        "                            reg_alpha=1e-3,\n",
        "                            n_estimators=200,\n",
        "                            learning_rate=1e-1,\n",
        "                            verbose=-1,\n",
        "                            random_state=42)\n",
        "lgb_reg.fit(X_train_GLoVE, np.log(likes_train_GLoVE + 1))\n",
        "\n",
        "regression_metrics(\"LightGBM regressor on log-transformed GLoVE for likes\", likes_test_GLoVE, np.exp(lgb_reg.predict(X_test_GLoVE)) - 1, mape=False)"
      ]
    },
    {
      "cell_type": "code",
      "execution_count": 167,
      "metadata": {
        "colab": {
          "base_uri": "https://localhost:8080/"
        },
        "id": "nfLzD9eRyYT6",
        "outputId": "2c79d98a-d731-4d94-d3c7-30c6a551195a"
      },
      "outputs": [
        {
          "name": "stdout",
          "output_type": "stream",
          "text": [
            "RMSE of LightGBM regressor on log-transformed mBERT for likes is 0.1988293399324899\n",
            "MAE of LightGBM regressor on log-transformed mBERT for likes is 0.053939177646769094\n"
          ]
        }
      ],
      "source": [
        "lgb_reg = lgb.LGBMRegressor(max_depth=10,\n",
        "                            objective=\"regression\",\n",
        "                            reg_lambda=1e-3,         # prevent overfit\n",
        "                            reg_alpha=1e-3,\n",
        "                            n_estimators=200,\n",
        "                            learning_rate=1e-1,\n",
        "                            verbose=-1,\n",
        "                            random_state=42)\n",
        "lgb_reg.fit(X_train_mBERT, np.log(likes_train_mBERT + 1))\n",
        "\n",
        "regression_metrics(\"LightGBM regressor on log-transformed mBERT for likes\", likes_test_mBERT, np.exp(lgb_reg.predict(X_test_mBERT)) - 1, mape=False)"
      ]
    },
    {
      "cell_type": "markdown",
      "metadata": {
        "id": "RoGCWOgOydE5"
      },
      "source": [
        "### Simple Neural Regressor on m-BERT"
      ]
    },
    {
      "cell_type": "code",
      "execution_count": 160,
      "metadata": {
        "colab": {
          "base_uri": "https://localhost:8080/",
          "height": 49,
          "referenced_widgets": [
            "552260cd73e14e15abe216a0ed3a20b8",
            "93d9c1ff76bb43be985a1d35f69cfb77",
            "9a2733d3c3924a94801c9cebd44c8a71",
            "fa091295b4244dd696aeb7af453e5632",
            "82c256fcfa7c4561be8f3028389cec70",
            "6e9adb56c09240f4a0a75edf8fbfa6c7",
            "b6c0eb5dca2945cba164532e2986b7e6",
            "7fab3041f5ab483eb3f4ccb3d06310ef",
            "f8a8228111514ccc8affe6eca4141046",
            "569056193cfb4a6780a46199a34b8eb9",
            "ff7748613de5470cba4ea78e2f991f7e"
          ]
        },
        "id": "RxZpvrVzyc1h",
        "outputId": "ddbbcaef-49f2-4d26-e0c6-b90f2eaad342"
      },
      "outputs": [
        {
          "data": {
            "application/vnd.jupyter.widget-view+json": {
              "model_id": "552260cd73e14e15abe216a0ed3a20b8",
              "version_major": 2,
              "version_minor": 0
            },
            "text/plain": [
              "  0%|          | 0/300 [00:00<?, ?it/s]"
            ]
          },
          "metadata": {},
          "output_type": "display_data"
        }
      ],
      "source": [
        "mBERT_DIM = 768\n",
        "weight_decay=1e-2\n",
        "\n",
        "learning_rate = 2e-5\n",
        "hidden_dims = [256, 128, 32]\n",
        "\n",
        "device = torch.device(\"cuda\" if torch.cuda.is_available() else \"cpu\")\n",
        "model = SR(mBERT_DIM, hidden_dims).to(device)\n",
        "criterion = nn.MSELoss()\n",
        "optimizer = Adam(model.parameters(), lr=learning_rate, weight_decay=weight_decay)\n",
        "\n",
        "train_hist, val_hist, best_weights = train(model=model,\n",
        "                                           X=X_train_mBERT,\n",
        "                                           y=np.log(likes_train_mBERT + 1).astype(\"float32\"),\n",
        "                                           criterion=criterion,\n",
        "                                           optimizer=optimizer,\n",
        "                                           num_epochs=300,\n",
        "                                           batch_size=64,\n",
        "                                           device=device)"
      ]
    },
    {
      "cell_type": "code",
      "execution_count": 161,
      "metadata": {
        "colab": {
          "base_uri": "https://localhost:8080/",
          "height": 472
        },
        "id": "Tc34AUyjylWY",
        "outputId": "16f96a89-1020-40f5-e0d2-5c813eb116d0"
      },
      "outputs": [
        {
          "data": {
            "image/png": "[encoded data removed]",
            "text/plain": [
              "<Figure size 640x480 with 1 Axes>"
            ]
          },
          "metadata": {},
          "output_type": "display_data"
        }
      ],
      "source": [
        "plot_loss(train_hist, val_hist, \"Train and validation loss on the m-BERT features with log-transformation on the likes\")"
      ]
    },
    {
      "cell_type": "code",
      "execution_count": 168,
      "metadata": {
        "colab": {
          "base_uri": "https://localhost:8080/"
        },
        "id": "c48NjHUmyoxa",
        "outputId": "384e1e04-131a-4ee5-e94c-e7d67631cf0e"
      },
      "outputs": [
        {
          "name": "stdout",
          "output_type": "stream",
          "text": [
            "RMSE of Neural network regressor on log-transformed mBERT for likes is 0.18708218778632763\n",
            "MAE of Neural network regressor on log-transformed mBERT for likes is 0.02757983521269022\n"
          ]
        }
      ],
      "source": [
        "model.load_state_dict(best_weights)\n",
        "y_predict_test = reg_predict(model, torch.from_numpy(X_test_mBERT))\n",
        "y_predict_test = np.exp(y_predict_test) - 1\n",
        "\n",
        "regression_metrics(\"Neural network regressor on log-transformed mBERT for likes\", likes_test_mBERT, y_predict_test, mape=False)"
      ]
    },
    {
      "cell_type": "markdown",
      "metadata": {
        "id": "owMoNRpVOgeJ"
      },
      "source": [
        "### Results\n",
        "\n",
        "Due to the nature of target values (majority is 0), the evaluation of the predictions is not very obvious. However, we can still see that the log-transformation improved the prediction performances."
      ]
    }
  ],
  "metadata": {
    "accelerator": "GPU",
    "colab": {
      "collapsed_sections": [
        "QajDxw8sV48C",
        "6eT3uuBEynMS",
        "9ul1WxAg4AuZ",
        "ChatvRsAFurR"
      ],
      "gpuType": "T4",
      "provenance": [],
      "toc_visible": true
    },
    "kernelspec": {
      "display_name": "Python 3",
      "name": "python3"
    },
    "language_info": {
      "name": "python"
    },
    "widgets": {
      "application/vnd.jupyter.widget-state+json": {
        "003dd8f7549745b8b50c5e292afdc396": {
          "model_module": "@jupyter-widgets/base",
          "model_module_version": "1.2.0",
          "model_name": "LayoutModel",
          "state": {
            "_model_module": "@jupyter-widgets/base",
            "_model_module_version": "1.2.0",
            "_model_name": "LayoutModel",
            "_view_count": null,
            "_view_module": "@jupyter-widgets/base",
            "_view_module_version": "1.2.0",
            "_view_name": "LayoutView",
            "align_content": null,
            "align_items": null,
            "align_self": null,
            "border": null,
            "bottom": null,
            "display": null,
            "flex": null,
            "flex_flow": null,
            "grid_area": null,
            "grid_auto_columns": null,
            "grid_auto_flow": null,
            "grid_auto_rows": null,
            "grid_column": null,
            "grid_gap": null,
            "grid_row": null,
            "grid_template_areas": null,
            "grid_template_columns": null,
            "grid_template_rows": null,
            "height": null,
            "justify_content": null,
            "justify_items": null,
            "left": null,
            "margin": null,
            "max_height": null,
            "max_width": null,
            "min_height": null,
            "min_width": null,
            "object_fit": null,
            "object_position": null,
            "order": null,
            "overflow": null,
            "overflow_x": null,
            "overflow_y": null,
            "padding": null,
            "right": null,
            "top": null,
            "visibility": null,
            "width": null
          }
        },
        "02b238821ca1464fbbd2235e2a5f4241": {
          "model_module": "@jupyter-widgets/controls",
          "model_module_version": "1.5.0",
          "model_name": "HTMLModel",
          "state": {
            "_dom_classes": [],
            "_model_module": "@jupyter-widgets/controls",
            "_model_module_version": "1.5.0",
            "_model_name": "HTMLModel",
            "_view_count": null,
            "_view_module": "@jupyter-widgets/controls",
            "_view_module_version": "1.5.0",
            "_view_name": "HTMLView",
            "description": "",
            "description_tooltip": null,
            "layout": "IPY_MODEL_9339f742d98745d7859c23ae705b3233",
            "placeholder": "​",
            "style": "IPY_MODEL_47ccf905c48e42888013fcc316437b4f",
            "value": " 300/300 [01:02&lt;00:00,  7.40it/s]"
          }
        },
        "0442a5c0f0b1438b90f01e8e8e001df8": {
          "model_module": "@jupyter-widgets/controls",
          "model_module_version": "1.5.0",
          "model_name": "DescriptionStyleModel",
          "state": {
            "_model_module": "@jupyter-widgets/controls",
            "_model_module_version": "1.5.0",
            "_model_name": "DescriptionStyleModel",
            "_view_count": null,
            "_view_module": "@jupyter-widgets/base",
            "_view_module_version": "1.2.0",
            "_view_name": "StyleView",
            "description_width": ""
          }
        },
        "0a869a46205641c694a150681d001146": {
          "model_module": "@jupyter-widgets/controls",
          "model_module_version": "1.5.0",
          "model_name": "DescriptionStyleModel",
          "state": {
            "_model_module": "@jupyter-widgets/controls",
            "_model_module_version": "1.5.0",
            "_model_name": "DescriptionStyleModel",
            "_view_count": null,
            "_view_module": "@jupyter-widgets/base",
            "_view_module_version": "1.2.0",
            "_view_name": "StyleView",
            "description_width": ""
          }
        },
        "1041009a15bb42acacd2971ba20b21cd": {
          "model_module": "@jupyter-widgets/controls",
          "model_module_version": "1.5.0",
          "model_name": "HTMLModel",
          "state": {
            "_dom_classes": [],
            "_model_module": "@jupyter-widgets/controls",
            "_model_module_version": "1.5.0",
            "_model_name": "HTMLModel",
            "_view_count": null,
            "_view_module": "@jupyter-widgets/controls",
            "_view_module_version": "1.5.0",
            "_view_name": "HTMLView",
            "description": "",
            "description_tooltip": null,
            "layout": "IPY_MODEL_de1ebf0b024c42f88539d89c42810e46",
            "placeholder": "​",
            "style": "IPY_MODEL_30e9641f755a46e3a58029c00de95b14",
            "value": " 1.96M/1.96M [00:00&lt;00:00, 58.9MB/s]"
          }
        },
        "109b5e3e6c314dd591600c248a236dad": {
          "model_module": "@jupyter-widgets/base",
          "model_module_version": "1.2.0",
          "model_name": "LayoutModel",
          "state": {
            "_model_module": "@jupyter-widgets/base",
            "_model_module_version": "1.2.0",
            "_model_name": "LayoutModel",
            "_view_count": null,
            "_view_module": "@jupyter-widgets/base",
            "_view_module_version": "1.2.0",
            "_view_name": "LayoutView",
            "align_content": null,
            "align_items": null,
            "align_self": null,
            "border": null,
            "bottom": null,
            "display": null,
            "flex": null,
            "flex_flow": null,
            "grid_area": null,
            "grid_auto_columns": null,
            "grid_auto_flow": null,
            "grid_auto_rows": null,
            "grid_column": null,
            "grid_gap": null,
            "grid_row": null,
            "grid_template_areas": null,
            "grid_template_columns": null,
            "grid_template_rows": null,
            "height": null,
            "justify_content": null,
            "justify_items": null,
            "left": null,
            "margin": null,
            "max_height": null,
            "max_width": null,
            "min_height": null,
            "min_width": null,
            "object_fit": null,
            "object_position": null,
            "order": null,
            "overflow": null,
            "overflow_x": null,
            "overflow_y": null,
            "padding": null,
            "right": null,
            "top": null,
            "visibility": null,
            "width": null
          }
        },
        "1d2ed0a846b54a48a5ed732733413428": {
          "model_module": "@jupyter-widgets/base",
          "model_module_version": "1.2.0",
          "model_name": "LayoutModel",
          "state": {
            "_model_module": "@jupyter-widgets/base",
            "_model_module_version": "1.2.0",
            "_model_name": "LayoutModel",
            "_view_count": null,
            "_view_module": "@jupyter-widgets/base",
            "_view_module_version": "1.2.0",
            "_view_name": "LayoutView",
            "align_content": null,
            "align_items": null,
            "align_self": null,
            "border": null,
            "bottom": null,
            "display": null,
            "flex": null,
            "flex_flow": null,
            "grid_area": null,
            "grid_auto_columns": null,
            "grid_auto_flow": null,
            "grid_auto_rows": null,
            "grid_column": null,
            "grid_gap": null,
            "grid_row": null,
            "grid_template_areas": null,
            "grid_template_columns": null,
            "grid_template_rows": null,
            "height": null,
            "justify_content": null,
            "justify_items": null,
            "left": null,
            "margin": null,
            "max_height": null,
            "max_width": null,
            "min_height": null,
            "min_width": null,
            "object_fit": null,
            "object_position": null,
            "order": null,
            "overflow": null,
            "overflow_x": null,
            "overflow_y": null,
            "padding": null,
            "right": null,
            "top": null,
            "visibility": null,
            "width": null
          }
        },
        "22015f7422674a8d94b7cd104ad8444d": {
          "model_module": "@jupyter-widgets/controls",
          "model_module_version": "1.5.0",
          "model_name": "HTMLModel",
          "state": {
            "_dom_classes": [],
            "_model_module": "@jupyter-widgets/controls",
            "_model_module_version": "1.5.0",
            "_model_name": "HTMLModel",
            "_view_count": null,
            "_view_module": "@jupyter-widgets/controls",
            "_view_module_version": "1.5.0",
            "_view_name": "HTMLView",
            "description": "",
            "description_tooltip": null,
            "layout": "IPY_MODEL_d073608a408946dfbd0192193527e9f9",
            "placeholder": "​",
            "style": "IPY_MODEL_5d9af43182334a4d856472b43652b783",
            "value": " 996k/996k [00:00&lt;00:00, 14.7MB/s]"
          }
        },
        "2ac49fc3a31f4564b22b99855cd014ca": {
          "model_module": "@jupyter-widgets/controls",
          "model_module_version": "1.5.0",
          "model_name": "HBoxModel",
          "state": {
            "_dom_classes": [],
            "_model_module": "@jupyter-widgets/controls",
            "_model_module_version": "1.5.0",
            "_model_name": "HBoxModel",
            "_view_count": null,
            "_view_module": "@jupyter-widgets/controls",
            "_view_module_version": "1.5.0",
            "_view_name": "HBoxView",
            "box_style": "",
            "children": [
              "IPY_MODEL_bc064f393be64f36b36a8211ddf080bc",
              "IPY_MODEL_390b27b623474e80af8531d9ed70fa00",
              "IPY_MODEL_2deecbabac5a4e05839659acf20f063c"
            ],
            "layout": "IPY_MODEL_d60c23a4698d464cb82faf274fc07ec5"
          }
        },
        "2deecbabac5a4e05839659acf20f063c": {
          "model_module": "@jupyter-widgets/controls",
          "model_module_version": "1.5.0",
          "model_name": "HTMLModel",
          "state": {
            "_dom_classes": [],
            "_model_module": "@jupyter-widgets/controls",
            "_model_module_version": "1.5.0",
            "_model_name": "HTMLModel",
            "_view_count": null,
            "_view_module": "@jupyter-widgets/controls",
            "_view_module_version": "1.5.0",
            "_view_name": "HTMLView",
            "description": "",
            "description_tooltip": null,
            "layout": "IPY_MODEL_abdd045925044cac8db325b292759c1b",
            "placeholder": "​",
            "style": "IPY_MODEL_0a869a46205641c694a150681d001146",
            "value": " 49.0/49.0 [00:00&lt;00:00, 3.64kB/s]"
          }
        },
        "2f2071aaeb3c4f7f97e0c6bd1d7222cc": {
          "model_module": "@jupyter-widgets/base",
          "model_module_version": "1.2.0",
          "model_name": "LayoutModel",
          "state": {
            "_model_module": "@jupyter-widgets/base",
            "_model_module_version": "1.2.0",
            "_model_name": "LayoutModel",
            "_view_count": null,
            "_view_module": "@jupyter-widgets/base",
            "_view_module_version": "1.2.0",
            "_view_name": "LayoutView",
            "align_content": null,
            "align_items": null,
            "align_self": null,
            "border": null,
            "bottom": null,
            "display": null,
            "flex": null,
            "flex_flow": null,
            "grid_area": null,
            "grid_auto_columns": null,
            "grid_auto_flow": null,
            "grid_auto_rows": null,
            "grid_column": null,
            "grid_gap": null,
            "grid_row": null,
            "grid_template_areas": null,
            "grid_template_columns": null,
            "grid_template_rows": null,
            "height": null,
            "justify_content": null,
            "justify_items": null,
            "left": null,
            "margin": null,
            "max_height": null,
            "max_width": null,
            "min_height": null,
            "min_width": null,
            "object_fit": null,
            "object_position": null,
            "order": null,
            "overflow": null,
            "overflow_x": null,
            "overflow_y": null,
            "padding": null,
            "right": null,
            "top": null,
            "visibility": null,
            "width": null
          }
        },
        "2fc08a3e6b634b22969412c8a643b56e": {
          "model_module": "@jupyter-widgets/controls",
          "model_module_version": "1.5.0",
          "model_name": "DescriptionStyleModel",
          "state": {
            "_model_module": "@jupyter-widgets/controls",
            "_model_module_version": "1.5.0",
            "_model_name": "DescriptionStyleModel",
            "_view_count": null,
            "_view_module": "@jupyter-widgets/base",
            "_view_module_version": "1.2.0",
            "_view_name": "StyleView",
            "description_width": ""
          }
        },
        "30e9641f755a46e3a58029c00de95b14": {
          "model_module": "@jupyter-widgets/controls",
          "model_module_version": "1.5.0",
          "model_name": "DescriptionStyleModel",
          "state": {
            "_model_module": "@jupyter-widgets/controls",
            "_model_module_version": "1.5.0",
            "_model_name": "DescriptionStyleModel",
            "_view_count": null,
            "_view_module": "@jupyter-widgets/base",
            "_view_module_version": "1.2.0",
            "_view_name": "StyleView",
            "description_width": ""
          }
        },
        "31802e5844fa42d884bb7ca7d4913d99": {
          "model_module": "@jupyter-widgets/controls",
          "model_module_version": "1.5.0",
          "model_name": "HBoxModel",
          "state": {
            "_dom_classes": [],
            "_model_module": "@jupyter-widgets/controls",
            "_model_module_version": "1.5.0",
            "_model_name": "HBoxModel",
            "_view_count": null,
            "_view_module": "@jupyter-widgets/controls",
            "_view_module_version": "1.5.0",
            "_view_name": "HBoxView",
            "box_style": "",
            "children": [
              "IPY_MODEL_876929b0762b44ddae3e7401dbc239a1",
              "IPY_MODEL_8adfe341410546f9991ca854fc441d7a",
              "IPY_MODEL_873c9525cd0e41e39d2201eea33d88c1"
            ],
            "layout": "IPY_MODEL_875bb66342d84dd5bfa26658bb4ab5aa"
          }
        },
        "328b1132f97648b4ba2b15504fcec3dd": {
          "model_module": "@jupyter-widgets/controls",
          "model_module_version": "1.5.0",
          "model_name": "HBoxModel",
          "state": {
            "_dom_classes": [],
            "_model_module": "@jupyter-widgets/controls",
            "_model_module_version": "1.5.0",
            "_model_name": "HBoxModel",
            "_view_count": null,
            "_view_module": "@jupyter-widgets/controls",
            "_view_module_version": "1.5.0",
            "_view_name": "HBoxView",
            "box_style": "",
            "children": [
              "IPY_MODEL_b42d0990249949419868799bf47b449b",
              "IPY_MODEL_94a8cde21c364bf2a7a0d31ba443014e",
              "IPY_MODEL_bbb66a72cbb64730b7a1a957d4d7a20b"
            ],
            "layout": "IPY_MODEL_2f2071aaeb3c4f7f97e0c6bd1d7222cc"
          }
        },
        "342cbc90f86f420fafeec2c352d5beb1": {
          "model_module": "@jupyter-widgets/base",
          "model_module_version": "1.2.0",
          "model_name": "LayoutModel",
          "state": {
            "_model_module": "@jupyter-widgets/base",
            "_model_module_version": "1.2.0",
            "_model_name": "LayoutModel",
            "_view_count": null,
            "_view_module": "@jupyter-widgets/base",
            "_view_module_version": "1.2.0",
            "_view_name": "LayoutView",
            "align_content": null,
            "align_items": null,
            "align_self": null,
            "border": null,
            "bottom": null,
            "display": null,
            "flex": null,
            "flex_flow": null,
            "grid_area": null,
            "grid_auto_columns": null,
            "grid_auto_flow": null,
            "grid_auto_rows": null,
            "grid_column": null,
            "grid_gap": null,
            "grid_row": null,
            "grid_template_areas": null,
            "grid_template_columns": null,
            "grid_template_rows": null,
            "height": null,
            "justify_content": null,
            "justify_items": null,
            "left": null,
            "margin": null,
            "max_height": null,
            "max_width": null,
            "min_height": null,
            "min_width": null,
            "object_fit": null,
            "object_position": null,
            "order": null,
            "overflow": null,
            "overflow_x": null,
            "overflow_y": null,
            "padding": null,
            "right": null,
            "top": null,
            "visibility": null,
            "width": null
          }
        },
        "35ce6e5e9749426c961178f59e25b9a2": {
          "model_module": "@jupyter-widgets/base",
          "model_module_version": "1.2.0",
          "model_name": "LayoutModel",
          "state": {
            "_model_module": "@jupyter-widgets/base",
            "_model_module_version": "1.2.0",
            "_model_name": "LayoutModel",
            "_view_count": null,
            "_view_module": "@jupyter-widgets/base",
            "_view_module_version": "1.2.0",
            "_view_name": "LayoutView",
            "align_content": null,
            "align_items": null,
            "align_self": null,
            "border": null,
            "bottom": null,
            "display": null,
            "flex": null,
            "flex_flow": null,
            "grid_area": null,
            "grid_auto_columns": null,
            "grid_auto_flow": null,
            "grid_auto_rows": null,
            "grid_column": null,
            "grid_gap": null,
            "grid_row": null,
            "grid_template_areas": null,
            "grid_template_columns": null,
            "grid_template_rows": null,
            "height": null,
            "justify_content": null,
            "justify_items": null,
            "left": null,
            "margin": null,
            "max_height": null,
            "max_width": null,
            "min_height": null,
            "min_width": null,
            "object_fit": null,
            "object_position": null,
            "order": null,
            "overflow": null,
            "overflow_x": null,
            "overflow_y": null,
            "padding": null,
            "right": null,
            "top": null,
            "visibility": null,
            "width": null
          }
        },
        "390b27b623474e80af8531d9ed70fa00": {
          "model_module": "@jupyter-widgets/controls",
          "model_module_version": "1.5.0",
          "model_name": "FloatProgressModel",
          "state": {
            "_dom_classes": [],
            "_model_module": "@jupyter-widgets/controls",
            "_model_module_version": "1.5.0",
            "_model_name": "FloatProgressModel",
            "_view_count": null,
            "_view_module": "@jupyter-widgets/controls",
            "_view_module_version": "1.5.0",
            "_view_name": "ProgressView",
            "bar_style": "success",
            "description": "",
            "description_tooltip": null,
            "layout": "IPY_MODEL_342cbc90f86f420fafeec2c352d5beb1",
            "max": 49,
            "min": 0,
            "orientation": "horizontal",
            "style": "IPY_MODEL_527379b09f814d95a7e4d6d7e74b16b1",
            "value": 49
          }
        },
        "3999cf5bd1d2446587fb7bd41a5a3bec": {
          "model_module": "@jupyter-widgets/controls",
          "model_module_version": "1.5.0",
          "model_name": "HBoxModel",
          "state": {
            "_dom_classes": [],
            "_model_module": "@jupyter-widgets/controls",
            "_model_module_version": "1.5.0",
            "_model_name": "HBoxModel",
            "_view_count": null,
            "_view_module": "@jupyter-widgets/controls",
            "_view_module_version": "1.5.0",
            "_view_name": "HBoxView",
            "box_style": "",
            "children": [
              "IPY_MODEL_3b13c275e26b4616938a7d8fc73db000",
              "IPY_MODEL_95850f128b294c07b4b0d4f38d0353ba",
              "IPY_MODEL_39aa7581748e41b394dd0312430d9e1d"
            ],
            "layout": "IPY_MODEL_5dd0be07a9304e4f8f9e3f340d611271"
          }
        },
        "39aa7581748e41b394dd0312430d9e1d": {
          "model_module": "@jupyter-widgets/controls",
          "model_module_version": "1.5.0",
          "model_name": "HTMLModel",
          "state": {
            "_dom_classes": [],
            "_model_module": "@jupyter-widgets/controls",
            "_model_module_version": "1.5.0",
            "_model_name": "HTMLModel",
            "_view_count": null,
            "_view_module": "@jupyter-widgets/controls",
            "_view_module_version": "1.5.0",
            "_view_name": "HTMLView",
            "description": "",
            "description_tooltip": null,
            "layout": "IPY_MODEL_bb0febb442594545aad9ad30f11f8432",
            "placeholder": "​",
            "style": "IPY_MODEL_748f2784458a41af93e71eb523c83cd2",
            "value": " 625/625 [00:00&lt;00:00, 42.7kB/s]"
          }
        },
        "3b13c275e26b4616938a7d8fc73db000": {
          "model_module": "@jupyter-widgets/controls",
          "model_module_version": "1.5.0",
          "model_name": "HTMLModel",
          "state": {
            "_dom_classes": [],
            "_model_module": "@jupyter-widgets/controls",
            "_model_module_version": "1.5.0",
            "_model_name": "HTMLModel",
            "_view_count": null,
            "_view_module": "@jupyter-widgets/controls",
            "_view_module_version": "1.5.0",
            "_view_name": "HTMLView",
            "description": "",
            "description_tooltip": null,
            "layout": "IPY_MODEL_87a24a836bfb4a01ba14ff94eb1c5f28",
            "placeholder": "​",
            "style": "IPY_MODEL_fc406d127cff4d8ba2a379da614bc593",
            "value": "config.json: 100%"
          }
        },
        "3b39acd2369e416490d08acf4bed626b": {
          "model_module": "@jupyter-widgets/base",
          "model_module_version": "1.2.0",
          "model_name": "LayoutModel",
          "state": {
            "_model_module": "@jupyter-widgets/base",
            "_model_module_version": "1.2.0",
            "_model_name": "LayoutModel",
            "_view_count": null,
            "_view_module": "@jupyter-widgets/base",
            "_view_module_version": "1.2.0",
            "_view_name": "LayoutView",
            "align_content": null,
            "align_items": null,
            "align_self": null,
            "border": null,
            "bottom": null,
            "display": null,
            "flex": null,
            "flex_flow": null,
            "grid_area": null,
            "grid_auto_columns": null,
            "grid_auto_flow": null,
            "grid_auto_rows": null,
            "grid_column": null,
            "grid_gap": null,
            "grid_row": null,
            "grid_template_areas": null,
            "grid_template_columns": null,
            "grid_template_rows": null,
            "height": null,
            "justify_content": null,
            "justify_items": null,
            "left": null,
            "margin": null,
            "max_height": null,
            "max_width": null,
            "min_height": null,
            "min_width": null,
            "object_fit": null,
            "object_position": null,
            "order": null,
            "overflow": null,
            "overflow_x": null,
            "overflow_y": null,
            "padding": null,
            "right": null,
            "top": null,
            "visibility": null,
            "width": null
          }
        },
        "3f69f3eec43a4dd992c58ea65f001884": {
          "model_module": "@jupyter-widgets/controls",
          "model_module_version": "1.5.0",
          "model_name": "DescriptionStyleModel",
          "state": {
            "_model_module": "@jupyter-widgets/controls",
            "_model_module_version": "1.5.0",
            "_model_name": "DescriptionStyleModel",
            "_view_count": null,
            "_view_module": "@jupyter-widgets/base",
            "_view_module_version": "1.2.0",
            "_view_name": "StyleView",
            "description_width": ""
          }
        },
        "44b8a6984117478da34dc26e3a25d834": {
          "model_module": "@jupyter-widgets/controls",
          "model_module_version": "1.5.0",
          "model_name": "HBoxModel",
          "state": {
            "_dom_classes": [],
            "_model_module": "@jupyter-widgets/controls",
            "_model_module_version": "1.5.0",
            "_model_name": "HBoxModel",
            "_view_count": null,
            "_view_module": "@jupyter-widgets/controls",
            "_view_module_version": "1.5.0",
            "_view_name": "HBoxView",
            "box_style": "",
            "children": [
              "IPY_MODEL_c8e88bb7f1954e7b9ceb790cc56290e1",
              "IPY_MODEL_462dfbcfef88452c85014a71b573f67d",
              "IPY_MODEL_1041009a15bb42acacd2971ba20b21cd"
            ],
            "layout": "IPY_MODEL_5f3abdb92a5e4e5aa3489c1999650919"
          }
        },
        "462dfbcfef88452c85014a71b573f67d": {
          "model_module": "@jupyter-widgets/controls",
          "model_module_version": "1.5.0",
          "model_name": "FloatProgressModel",
          "state": {
            "_dom_classes": [],
            "_model_module": "@jupyter-widgets/controls",
            "_model_module_version": "1.5.0",
            "_model_name": "FloatProgressModel",
            "_view_count": null,
            "_view_module": "@jupyter-widgets/controls",
            "_view_module_version": "1.5.0",
            "_view_name": "ProgressView",
            "bar_style": "success",
            "description": "",
            "description_tooltip": null,
            "layout": "IPY_MODEL_96e785ab02c44b11a945ad6b47ef1efc",
            "max": 1961828,
            "min": 0,
            "orientation": "horizontal",
            "style": "IPY_MODEL_a16161c1a5df41378ead0ea1a5c91a75",
            "value": 1961828
          }
        },
        "47ccf905c48e42888013fcc316437b4f": {
          "model_module": "@jupyter-widgets/controls",
          "model_module_version": "1.5.0",
          "model_name": "DescriptionStyleModel",
          "state": {
            "_model_module": "@jupyter-widgets/controls",
            "_model_module_version": "1.5.0",
            "_model_name": "DescriptionStyleModel",
            "_view_count": null,
            "_view_module": "@jupyter-widgets/base",
            "_view_module_version": "1.2.0",
            "_view_name": "StyleView",
            "description_width": ""
          }
        },
        "504c2b743ace4d4c8bbbe6020631bca3": {
          "model_module": "@jupyter-widgets/base",
          "model_module_version": "1.2.0",
          "model_name": "LayoutModel",
          "state": {
            "_model_module": "@jupyter-widgets/base",
            "_model_module_version": "1.2.0",
            "_model_name": "LayoutModel",
            "_view_count": null,
            "_view_module": "@jupyter-widgets/base",
            "_view_module_version": "1.2.0",
            "_view_name": "LayoutView",
            "align_content": null,
            "align_items": null,
            "align_self": null,
            "border": null,
            "bottom": null,
            "display": null,
            "flex": null,
            "flex_flow": null,
            "grid_area": null,
            "grid_auto_columns": null,
            "grid_auto_flow": null,
            "grid_auto_rows": null,
            "grid_column": null,
            "grid_gap": null,
            "grid_row": null,
            "grid_template_areas": null,
            "grid_template_columns": null,
            "grid_template_rows": null,
            "height": null,
            "justify_content": null,
            "justify_items": null,
            "left": null,
            "margin": null,
            "max_height": null,
            "max_width": null,
            "min_height": null,
            "min_width": null,
            "object_fit": null,
            "object_position": null,
            "order": null,
            "overflow": null,
            "overflow_x": null,
            "overflow_y": null,
            "padding": null,
            "right": null,
            "top": null,
            "visibility": null,
            "width": null
          }
        },
        "527379b09f814d95a7e4d6d7e74b16b1": {
          "model_module": "@jupyter-widgets/controls",
          "model_module_version": "1.5.0",
          "model_name": "ProgressStyleModel",
          "state": {
            "_model_module": "@jupyter-widgets/controls",
            "_model_module_version": "1.5.0",
            "_model_name": "ProgressStyleModel",
            "_view_count": null,
            "_view_module": "@jupyter-widgets/base",
            "_view_module_version": "1.2.0",
            "_view_name": "StyleView",
            "bar_color": null,
            "description_width": ""
          }
        },
        "52d6649db77b4f1885b920ae8f9715f6": {
          "model_module": "@jupyter-widgets/controls",
          "model_module_version": "1.5.0",
          "model_name": "ProgressStyleModel",
          "state": {
            "_model_module": "@jupyter-widgets/controls",
            "_model_module_version": "1.5.0",
            "_model_name": "ProgressStyleModel",
            "_view_count": null,
            "_view_module": "@jupyter-widgets/base",
            "_view_module_version": "1.2.0",
            "_view_name": "StyleView",
            "bar_color": null,
            "description_width": ""
          }
        },
        "552260cd73e14e15abe216a0ed3a20b8": {
          "model_module": "@jupyter-widgets/controls",
          "model_module_version": "1.5.0",
          "model_name": "HBoxModel",
          "state": {
            "_dom_classes": [],
            "_model_module": "@jupyter-widgets/controls",
            "_model_module_version": "1.5.0",
            "_model_name": "HBoxModel",
            "_view_count": null,
            "_view_module": "@jupyter-widgets/controls",
            "_view_module_version": "1.5.0",
            "_view_name": "HBoxView",
            "box_style": "",
            "children": [
              "IPY_MODEL_93d9c1ff76bb43be985a1d35f69cfb77",
              "IPY_MODEL_9a2733d3c3924a94801c9cebd44c8a71",
              "IPY_MODEL_fa091295b4244dd696aeb7af453e5632"
            ],
            "layout": "IPY_MODEL_82c256fcfa7c4561be8f3028389cec70"
          }
        },
        "567fc273387342ee8c4e078f0dc3f62d": {
          "model_module": "@jupyter-widgets/controls",
          "model_module_version": "1.5.0",
          "model_name": "DescriptionStyleModel",
          "state": {
            "_model_module": "@jupyter-widgets/controls",
            "_model_module_version": "1.5.0",
            "_model_name": "DescriptionStyleModel",
            "_view_count": null,
            "_view_module": "@jupyter-widgets/base",
            "_view_module_version": "1.2.0",
            "_view_name": "StyleView",
            "description_width": ""
          }
        },
        "569056193cfb4a6780a46199a34b8eb9": {
          "model_module": "@jupyter-widgets/base",
          "model_module_version": "1.2.0",
          "model_name": "LayoutModel",
          "state": {
            "_model_module": "@jupyter-widgets/base",
            "_model_module_version": "1.2.0",
            "_model_name": "LayoutModel",
            "_view_count": null,
            "_view_module": "@jupyter-widgets/base",
            "_view_module_version": "1.2.0",
            "_view_name": "LayoutView",
            "align_content": null,
            "align_items": null,
            "align_self": null,
            "border": null,
            "bottom": null,
            "display": null,
            "flex": null,
            "flex_flow": null,
            "grid_area": null,
            "grid_auto_columns": null,
            "grid_auto_flow": null,
            "grid_auto_rows": null,
            "grid_column": null,
            "grid_gap": null,
            "grid_row": null,
            "grid_template_areas": null,
            "grid_template_columns": null,
            "grid_template_rows": null,
            "height": null,
            "justify_content": null,
            "justify_items": null,
            "left": null,
            "margin": null,
            "max_height": null,
            "max_width": null,
            "min_height": null,
            "min_width": null,
            "object_fit": null,
            "object_position": null,
            "order": null,
            "overflow": null,
            "overflow_x": null,
            "overflow_y": null,
            "padding": null,
            "right": null,
            "top": null,
            "visibility": null,
            "width": null
          }
        },
        "5a3c93405a214bcfb301612bfedcce70": {
          "model_module": "@jupyter-widgets/controls",
          "model_module_version": "1.5.0",
          "model_name": "ProgressStyleModel",
          "state": {
            "_model_module": "@jupyter-widgets/controls",
            "_model_module_version": "1.5.0",
            "_model_name": "ProgressStyleModel",
            "_view_count": null,
            "_view_module": "@jupyter-widgets/base",
            "_view_module_version": "1.2.0",
            "_view_name": "StyleView",
            "bar_color": null,
            "description_width": ""
          }
        },
        "5d9af43182334a4d856472b43652b783": {
          "model_module": "@jupyter-widgets/controls",
          "model_module_version": "1.5.0",
          "model_name": "DescriptionStyleModel",
          "state": {
            "_model_module": "@jupyter-widgets/controls",
            "_model_module_version": "1.5.0",
            "_model_name": "DescriptionStyleModel",
            "_view_count": null,
            "_view_module": "@jupyter-widgets/base",
            "_view_module_version": "1.2.0",
            "_view_name": "StyleView",
            "description_width": ""
          }
        },
        "5dd0be07a9304e4f8f9e3f340d611271": {
          "model_module": "@jupyter-widgets/base",
          "model_module_version": "1.2.0",
          "model_name": "LayoutModel",
          "state": {
            "_model_module": "@jupyter-widgets/base",
            "_model_module_version": "1.2.0",
            "_model_name": "LayoutModel",
            "_view_count": null,
            "_view_module": "@jupyter-widgets/base",
            "_view_module_version": "1.2.0",
            "_view_name": "LayoutView",
            "align_content": null,
            "align_items": null,
            "align_self": null,
            "border": null,
            "bottom": null,
            "display": null,
            "flex": null,
            "flex_flow": null,
            "grid_area": null,
            "grid_auto_columns": null,
            "grid_auto_flow": null,
            "grid_auto_rows": null,
            "grid_column": null,
            "grid_gap": null,
            "grid_row": null,
            "grid_template_areas": null,
            "grid_template_columns": null,
            "grid_template_rows": null,
            "height": null,
            "justify_content": null,
            "justify_items": null,
            "left": null,
            "margin": null,
            "max_height": null,
            "max_width": null,
            "min_height": null,
            "min_width": null,
            "object_fit": null,
            "object_position": null,
            "order": null,
            "overflow": null,
            "overflow_x": null,
            "overflow_y": null,
            "padding": null,
            "right": null,
            "top": null,
            "visibility": null,
            "width": null
          }
        },
        "5f3abdb92a5e4e5aa3489c1999650919": {
          "model_module": "@jupyter-widgets/base",
          "model_module_version": "1.2.0",
          "model_name": "LayoutModel",
          "state": {
            "_model_module": "@jupyter-widgets/base",
            "_model_module_version": "1.2.0",
            "_model_name": "LayoutModel",
            "_view_count": null,
            "_view_module": "@jupyter-widgets/base",
            "_view_module_version": "1.2.0",
            "_view_name": "LayoutView",
            "align_content": null,
            "align_items": null,
            "align_self": null,
            "border": null,
            "bottom": null,
            "display": null,
            "flex": null,
            "flex_flow": null,
            "grid_area": null,
            "grid_auto_columns": null,
            "grid_auto_flow": null,
            "grid_auto_rows": null,
            "grid_column": null,
            "grid_gap": null,
            "grid_row": null,
            "grid_template_areas": null,
            "grid_template_columns": null,
            "grid_template_rows": null,
            "height": null,
            "justify_content": null,
            "justify_items": null,
            "left": null,
            "margin": null,
            "max_height": null,
            "max_width": null,
            "min_height": null,
            "min_width": null,
            "object_fit": null,
            "object_position": null,
            "order": null,
            "overflow": null,
            "overflow_x": null,
            "overflow_y": null,
            "padding": null,
            "right": null,
            "top": null,
            "visibility": null,
            "width": null
          }
        },
        "6559a45da8644a2393c39ee41ac6ee88": {
          "model_module": "@jupyter-widgets/base",
          "model_module_version": "1.2.0",
          "model_name": "LayoutModel",
          "state": {
            "_model_module": "@jupyter-widgets/base",
            "_model_module_version": "1.2.0",
            "_model_name": "LayoutModel",
            "_view_count": null,
            "_view_module": "@jupyter-widgets/base",
            "_view_module_version": "1.2.0",
            "_view_name": "LayoutView",
            "align_content": null,
            "align_items": null,
            "align_self": null,
            "border": null,
            "bottom": null,
            "display": null,
            "flex": null,
            "flex_flow": null,
            "grid_area": null,
            "grid_auto_columns": null,
            "grid_auto_flow": null,
            "grid_auto_rows": null,
            "grid_column": null,
            "grid_gap": null,
            "grid_row": null,
            "grid_template_areas": null,
            "grid_template_columns": null,
            "grid_template_rows": null,
            "height": null,
            "justify_content": null,
            "justify_items": null,
            "left": null,
            "margin": null,
            "max_height": null,
            "max_width": null,
            "min_height": null,
            "min_width": null,
            "object_fit": null,
            "object_position": null,
            "order": null,
            "overflow": null,
            "overflow_x": null,
            "overflow_y": null,
            "padding": null,
            "right": null,
            "top": null,
            "visibility": null,
            "width": null
          }
        },
        "6e9adb56c09240f4a0a75edf8fbfa6c7": {
          "model_module": "@jupyter-widgets/base",
          "model_module_version": "1.2.0",
          "model_name": "LayoutModel",
          "state": {
            "_model_module": "@jupyter-widgets/base",
            "_model_module_version": "1.2.0",
            "_model_name": "LayoutModel",
            "_view_count": null,
            "_view_module": "@jupyter-widgets/base",
            "_view_module_version": "1.2.0",
            "_view_name": "LayoutView",
            "align_content": null,
            "align_items": null,
            "align_self": null,
            "border": null,
            "bottom": null,
            "display": null,
            "flex": null,
            "flex_flow": null,
            "grid_area": null,
            "grid_auto_columns": null,
            "grid_auto_flow": null,
            "grid_auto_rows": null,
            "grid_column": null,
            "grid_gap": null,
            "grid_row": null,
            "grid_template_areas": null,
            "grid_template_columns": null,
            "grid_template_rows": null,
            "height": null,
            "justify_content": null,
            "justify_items": null,
            "left": null,
            "margin": null,
            "max_height": null,
            "max_width": null,
            "min_height": null,
            "min_width": null,
            "object_fit": null,
            "object_position": null,
            "order": null,
            "overflow": null,
            "overflow_x": null,
            "overflow_y": null,
            "padding": null,
            "right": null,
            "top": null,
            "visibility": null,
            "width": null
          }
        },
        "748f2784458a41af93e71eb523c83cd2": {
          "model_module": "@jupyter-widgets/controls",
          "model_module_version": "1.5.0",
          "model_name": "DescriptionStyleModel",
          "state": {
            "_model_module": "@jupyter-widgets/controls",
            "_model_module_version": "1.5.0",
            "_model_name": "DescriptionStyleModel",
            "_view_count": null,
            "_view_module": "@jupyter-widgets/base",
            "_view_module_version": "1.2.0",
            "_view_name": "StyleView",
            "description_width": ""
          }
        },
        "7fab3041f5ab483eb3f4ccb3d06310ef": {
          "model_module": "@jupyter-widgets/base",
          "model_module_version": "1.2.0",
          "model_name": "LayoutModel",
          "state": {
            "_model_module": "@jupyter-widgets/base",
            "_model_module_version": "1.2.0",
            "_model_name": "LayoutModel",
            "_view_count": null,
            "_view_module": "@jupyter-widgets/base",
            "_view_module_version": "1.2.0",
            "_view_name": "LayoutView",
            "align_content": null,
            "align_items": null,
            "align_self": null,
            "border": null,
            "bottom": null,
            "display": null,
            "flex": null,
            "flex_flow": null,
            "grid_area": null,
            "grid_auto_columns": null,
            "grid_auto_flow": null,
            "grid_auto_rows": null,
            "grid_column": null,
            "grid_gap": null,
            "grid_row": null,
            "grid_template_areas": null,
            "grid_template_columns": null,
            "grid_template_rows": null,
            "height": null,
            "justify_content": null,
            "justify_items": null,
            "left": null,
            "margin": null,
            "max_height": null,
            "max_width": null,
            "min_height": null,
            "min_width": null,
            "object_fit": null,
            "object_position": null,
            "order": null,
            "overflow": null,
            "overflow_x": null,
            "overflow_y": null,
            "padding": null,
            "right": null,
            "top": null,
            "visibility": null,
            "width": null
          }
        },
        "81a7050c72e54394967dd744fdae6abe": {
          "model_module": "@jupyter-widgets/controls",
          "model_module_version": "1.5.0",
          "model_name": "DescriptionStyleModel",
          "state": {
            "_model_module": "@jupyter-widgets/controls",
            "_model_module_version": "1.5.0",
            "_model_name": "DescriptionStyleModel",
            "_view_count": null,
            "_view_module": "@jupyter-widgets/base",
            "_view_module_version": "1.2.0",
            "_view_name": "StyleView",
            "description_width": ""
          }
        },
        "82c256fcfa7c4561be8f3028389cec70": {
          "model_module": "@jupyter-widgets/base",
          "model_module_version": "1.2.0",
          "model_name": "LayoutModel",
          "state": {
            "_model_module": "@jupyter-widgets/base",
            "_model_module_version": "1.2.0",
            "_model_name": "LayoutModel",
            "_view_count": null,
            "_view_module": "@jupyter-widgets/base",
            "_view_module_version": "1.2.0",
            "_view_name": "LayoutView",
            "align_content": null,
            "align_items": null,
            "align_self": null,
            "border": null,
            "bottom": null,
            "display": null,
            "flex": null,
            "flex_flow": null,
            "grid_area": null,
            "grid_auto_columns": null,
            "grid_auto_flow": null,
            "grid_auto_rows": null,
            "grid_column": null,
            "grid_gap": null,
            "grid_row": null,
            "grid_template_areas": null,
            "grid_template_columns": null,
            "grid_template_rows": null,
            "height": null,
            "justify_content": null,
            "justify_items": null,
            "left": null,
            "margin": null,
            "max_height": null,
            "max_width": null,
            "min_height": null,
            "min_width": null,
            "object_fit": null,
            "object_position": null,
            "order": null,
            "overflow": null,
            "overflow_x": null,
            "overflow_y": null,
            "padding": null,
            "right": null,
            "top": null,
            "visibility": null,
            "width": null
          }
        },
        "873c9525cd0e41e39d2201eea33d88c1": {
          "model_module": "@jupyter-widgets/controls",
          "model_module_version": "1.5.0",
          "model_name": "HTMLModel",
          "state": {
            "_dom_classes": [],
            "_model_module": "@jupyter-widgets/controls",
            "_model_module_version": "1.5.0",
            "_model_name": "HTMLModel",
            "_view_count": null,
            "_view_module": "@jupyter-widgets/controls",
            "_view_module_version": "1.5.0",
            "_view_name": "HTMLView",
            "description": "",
            "description_tooltip": null,
            "layout": "IPY_MODEL_89703d13ff7e446493f292948dba8784",
            "placeholder": "​",
            "style": "IPY_MODEL_958deb5402d44a1283668875fa94df67",
            "value": " 714M/714M [00:04&lt;00:00, 185MB/s]"
          }
        },
        "875bb66342d84dd5bfa26658bb4ab5aa": {
          "model_module": "@jupyter-widgets/base",
          "model_module_version": "1.2.0",
          "model_name": "LayoutModel",
          "state": {
            "_model_module": "@jupyter-widgets/base",
            "_model_module_version": "1.2.0",
            "_model_name": "LayoutModel",
            "_view_count": null,
            "_view_module": "@jupyter-widgets/base",
            "_view_module_version": "1.2.0",
            "_view_name": "LayoutView",
            "align_content": null,
            "align_items": null,
            "align_self": null,
            "border": null,
            "bottom": null,
            "display": null,
            "flex": null,
            "flex_flow": null,
            "grid_area": null,
            "grid_auto_columns": null,
            "grid_auto_flow": null,
            "grid_auto_rows": null,
            "grid_column": null,
            "grid_gap": null,
            "grid_row": null,
            "grid_template_areas": null,
            "grid_template_columns": null,
            "grid_template_rows": null,
            "height": null,
            "justify_content": null,
            "justify_items": null,
            "left": null,
            "margin": null,
            "max_height": null,
            "max_width": null,
            "min_height": null,
            "min_width": null,
            "object_fit": null,
            "object_position": null,
            "order": null,
            "overflow": null,
            "overflow_x": null,
            "overflow_y": null,
            "padding": null,
            "right": null,
            "top": null,
            "visibility": null,
            "width": null
          }
        },
        "876929b0762b44ddae3e7401dbc239a1": {
          "model_module": "@jupyter-widgets/controls",
          "model_module_version": "1.5.0",
          "model_name": "HTMLModel",
          "state": {
            "_dom_classes": [],
            "_model_module": "@jupyter-widgets/controls",
            "_model_module_version": "1.5.0",
            "_model_name": "HTMLModel",
            "_view_count": null,
            "_view_module": "@jupyter-widgets/controls",
            "_view_module_version": "1.5.0",
            "_view_name": "HTMLView",
            "description": "",
            "description_tooltip": null,
            "layout": "IPY_MODEL_cfc2a03ad57f4ca4ab575770020f5769",
            "placeholder": "​",
            "style": "IPY_MODEL_0442a5c0f0b1438b90f01e8e8e001df8",
            "value": "model.safetensors: 100%"
          }
        },
        "87a24a836bfb4a01ba14ff94eb1c5f28": {
          "model_module": "@jupyter-widgets/base",
          "model_module_version": "1.2.0",
          "model_name": "LayoutModel",
          "state": {
            "_model_module": "@jupyter-widgets/base",
            "_model_module_version": "1.2.0",
            "_model_name": "LayoutModel",
            "_view_count": null,
            "_view_module": "@jupyter-widgets/base",
            "_view_module_version": "1.2.0",
            "_view_name": "LayoutView",
            "align_content": null,
            "align_items": null,
            "align_self": null,
            "border": null,
            "bottom": null,
            "display": null,
            "flex": null,
            "flex_flow": null,
            "grid_area": null,
            "grid_auto_columns": null,
            "grid_auto_flow": null,
            "grid_auto_rows": null,
            "grid_column": null,
            "grid_gap": null,
            "grid_row": null,
            "grid_template_areas": null,
            "grid_template_columns": null,
            "grid_template_rows": null,
            "height": null,
            "justify_content": null,
            "justify_items": null,
            "left": null,
            "margin": null,
            "max_height": null,
            "max_width": null,
            "min_height": null,
            "min_width": null,
            "object_fit": null,
            "object_position": null,
            "order": null,
            "overflow": null,
            "overflow_x": null,
            "overflow_y": null,
            "padding": null,
            "right": null,
            "top": null,
            "visibility": null,
            "width": null
          }
        },
        "89703d13ff7e446493f292948dba8784": {
          "model_module": "@jupyter-widgets/base",
          "model_module_version": "1.2.0",
          "model_name": "LayoutModel",
          "state": {
            "_model_module": "@jupyter-widgets/base",
            "_model_module_version": "1.2.0",
            "_model_name": "LayoutModel",
            "_view_count": null,
            "_view_module": "@jupyter-widgets/base",
            "_view_module_version": "1.2.0",
            "_view_name": "LayoutView",
            "align_content": null,
            "align_items": null,
            "align_self": null,
            "border": null,
            "bottom": null,
            "display": null,
            "flex": null,
            "flex_flow": null,
            "grid_area": null,
            "grid_auto_columns": null,
            "grid_auto_flow": null,
            "grid_auto_rows": null,
            "grid_column": null,
            "grid_gap": null,
            "grid_row": null,
            "grid_template_areas": null,
            "grid_template_columns": null,
            "grid_template_rows": null,
            "height": null,
            "justify_content": null,
            "justify_items": null,
            "left": null,
            "margin": null,
            "max_height": null,
            "max_width": null,
            "min_height": null,
            "min_width": null,
            "object_fit": null,
            "object_position": null,
            "order": null,
            "overflow": null,
            "overflow_x": null,
            "overflow_y": null,
            "padding": null,
            "right": null,
            "top": null,
            "visibility": null,
            "width": null
          }
        },
        "8adfe341410546f9991ca854fc441d7a": {
          "model_module": "@jupyter-widgets/controls",
          "model_module_version": "1.5.0",
          "model_name": "FloatProgressModel",
          "state": {
            "_dom_classes": [],
            "_model_module": "@jupyter-widgets/controls",
            "_model_module_version": "1.5.0",
            "_model_name": "FloatProgressModel",
            "_view_count": null,
            "_view_module": "@jupyter-widgets/controls",
            "_view_module_version": "1.5.0",
            "_view_name": "ProgressView",
            "bar_style": "success",
            "description": "",
            "description_tooltip": null,
            "layout": "IPY_MODEL_6559a45da8644a2393c39ee41ac6ee88",
            "max": 714290682,
            "min": 0,
            "orientation": "horizontal",
            "style": "IPY_MODEL_52d6649db77b4f1885b920ae8f9715f6",
            "value": 714290682
          }
        },
        "8eb077910c864307a4bf0bc6f91182d5": {
          "model_module": "@jupyter-widgets/controls",
          "model_module_version": "1.5.0",
          "model_name": "FloatProgressModel",
          "state": {
            "_dom_classes": [],
            "_model_module": "@jupyter-widgets/controls",
            "_model_module_version": "1.5.0",
            "_model_name": "FloatProgressModel",
            "_view_count": null,
            "_view_module": "@jupyter-widgets/controls",
            "_view_module_version": "1.5.0",
            "_view_name": "ProgressView",
            "bar_style": "success",
            "description": "",
            "description_tooltip": null,
            "layout": "IPY_MODEL_109b5e3e6c314dd591600c248a236dad",
            "max": 300,
            "min": 0,
            "orientation": "horizontal",
            "style": "IPY_MODEL_c335892a942843acbb1da8c659750b41",
            "value": 300
          }
        },
        "901183ad5b334491ba7e006b46bfd0ee": {
          "model_module": "@jupyter-widgets/base",
          "model_module_version": "1.2.0",
          "model_name": "LayoutModel",
          "state": {
            "_model_module": "@jupyter-widgets/base",
            "_model_module_version": "1.2.0",
            "_model_name": "LayoutModel",
            "_view_count": null,
            "_view_module": "@jupyter-widgets/base",
            "_view_module_version": "1.2.0",
            "_view_name": "LayoutView",
            "align_content": null,
            "align_items": null,
            "align_self": null,
            "border": null,
            "bottom": null,
            "display": null,
            "flex": null,
            "flex_flow": null,
            "grid_area": null,
            "grid_auto_columns": null,
            "grid_auto_flow": null,
            "grid_auto_rows": null,
            "grid_column": null,
            "grid_gap": null,
            "grid_row": null,
            "grid_template_areas": null,
            "grid_template_columns": null,
            "grid_template_rows": null,
            "height": null,
            "justify_content": null,
            "justify_items": null,
            "left": null,
            "margin": null,
            "max_height": null,
            "max_width": null,
            "min_height": null,
            "min_width": null,
            "object_fit": null,
            "object_position": null,
            "order": null,
            "overflow": null,
            "overflow_x": null,
            "overflow_y": null,
            "padding": null,
            "right": null,
            "top": null,
            "visibility": null,
            "width": null
          }
        },
        "9339f742d98745d7859c23ae705b3233": {
          "model_module": "@jupyter-widgets/base",
          "model_module_version": "1.2.0",
          "model_name": "LayoutModel",
          "state": {
            "_model_module": "@jupyter-widgets/base",
            "_model_module_version": "1.2.0",
            "_model_name": "LayoutModel",
            "_view_count": null,
            "_view_module": "@jupyter-widgets/base",
            "_view_module_version": "1.2.0",
            "_view_name": "LayoutView",
            "align_content": null,
            "align_items": null,
            "align_self": null,
            "border": null,
            "bottom": null,
            "display": null,
            "flex": null,
            "flex_flow": null,
            "grid_area": null,
            "grid_auto_columns": null,
            "grid_auto_flow": null,
            "grid_auto_rows": null,
            "grid_column": null,
            "grid_gap": null,
            "grid_row": null,
            "grid_template_areas": null,
            "grid_template_columns": null,
            "grid_template_rows": null,
            "height": null,
            "justify_content": null,
            "justify_items": null,
            "left": null,
            "margin": null,
            "max_height": null,
            "max_width": null,
            "min_height": null,
            "min_width": null,
            "object_fit": null,
            "object_position": null,
            "order": null,
            "overflow": null,
            "overflow_x": null,
            "overflow_y": null,
            "padding": null,
            "right": null,
            "top": null,
            "visibility": null,
            "width": null
          }
        },
        "935dae2b827f40cdbc35daf1938970be": {
          "model_module": "@jupyter-widgets/controls",
          "model_module_version": "1.5.0",
          "model_name": "HTMLModel",
          "state": {
            "_dom_classes": [],
            "_model_module": "@jupyter-widgets/controls",
            "_model_module_version": "1.5.0",
            "_model_name": "HTMLModel",
            "_view_count": null,
            "_view_module": "@jupyter-widgets/controls",
            "_view_module_version": "1.5.0",
            "_view_name": "HTMLView",
            "description": "",
            "description_tooltip": null,
            "layout": "IPY_MODEL_ee95400f67204604b55fbf9ce8ce7612",
            "placeholder": "​",
            "style": "IPY_MODEL_2fc08a3e6b634b22969412c8a643b56e",
            "value": "vocab.txt: 100%"
          }
        },
        "93d9c1ff76bb43be985a1d35f69cfb77": {
          "model_module": "@jupyter-widgets/controls",
          "model_module_version": "1.5.0",
          "model_name": "HTMLModel",
          "state": {
            "_dom_classes": [],
            "_model_module": "@jupyter-widgets/controls",
            "_model_module_version": "1.5.0",
            "_model_name": "HTMLModel",
            "_view_count": null,
            "_view_module": "@jupyter-widgets/controls",
            "_view_module_version": "1.5.0",
            "_view_name": "HTMLView",
            "description": "",
            "description_tooltip": null,
            "layout": "IPY_MODEL_6e9adb56c09240f4a0a75edf8fbfa6c7",
            "placeholder": "​",
            "style": "IPY_MODEL_b6c0eb5dca2945cba164532e2986b7e6",
            "value": "100%"
          }
        },
        "93fd8b2de01047c5806fc5c200e20e80": {
          "model_module": "@jupyter-widgets/controls",
          "model_module_version": "1.5.0",
          "model_name": "HBoxModel",
          "state": {
            "_dom_classes": [],
            "_model_module": "@jupyter-widgets/controls",
            "_model_module_version": "1.5.0",
            "_model_name": "HBoxModel",
            "_view_count": null,
            "_view_module": "@jupyter-widgets/controls",
            "_view_module_version": "1.5.0",
            "_view_name": "HBoxView",
            "box_style": "",
            "children": [
              "IPY_MODEL_f84661f762624971af5f7c9b9455c31f",
              "IPY_MODEL_8eb077910c864307a4bf0bc6f91182d5",
              "IPY_MODEL_02b238821ca1464fbbd2235e2a5f4241"
            ],
            "layout": "IPY_MODEL_003dd8f7549745b8b50c5e292afdc396"
          }
        },
        "94a8cde21c364bf2a7a0d31ba443014e": {
          "model_module": "@jupyter-widgets/controls",
          "model_module_version": "1.5.0",
          "model_name": "FloatProgressModel",
          "state": {
            "_dom_classes": [],
            "_model_module": "@jupyter-widgets/controls",
            "_model_module_version": "1.5.0",
            "_model_name": "FloatProgressModel",
            "_view_count": null,
            "_view_module": "@jupyter-widgets/controls",
            "_view_module_version": "1.5.0",
            "_view_name": "ProgressView",
            "bar_style": "success",
            "description": "",
            "description_tooltip": null,
            "layout": "IPY_MODEL_cb22d69c33ac4778b494caf26fafbeea",
            "max": 300,
            "min": 0,
            "orientation": "horizontal",
            "style": "IPY_MODEL_5a3c93405a214bcfb301612bfedcce70",
            "value": 300
          }
        },
        "95850f128b294c07b4b0d4f38d0353ba": {
          "model_module": "@jupyter-widgets/controls",
          "model_module_version": "1.5.0",
          "model_name": "FloatProgressModel",
          "state": {
            "_dom_classes": [],
            "_model_module": "@jupyter-widgets/controls",
            "_model_module_version": "1.5.0",
            "_model_name": "FloatProgressModel",
            "_view_count": null,
            "_view_module": "@jupyter-widgets/controls",
            "_view_module_version": "1.5.0",
            "_view_name": "ProgressView",
            "bar_style": "success",
            "description": "",
            "description_tooltip": null,
            "layout": "IPY_MODEL_35ce6e5e9749426c961178f59e25b9a2",
            "max": 625,
            "min": 0,
            "orientation": "horizontal",
            "style": "IPY_MODEL_b71cefdb55e741e89546b8a69d8d5868",
            "value": 625
          }
        },
        "958deb5402d44a1283668875fa94df67": {
          "model_module": "@jupyter-widgets/controls",
          "model_module_version": "1.5.0",
          "model_name": "DescriptionStyleModel",
          "state": {
            "_model_module": "@jupyter-widgets/controls",
            "_model_module_version": "1.5.0",
            "_model_name": "DescriptionStyleModel",
            "_view_count": null,
            "_view_module": "@jupyter-widgets/base",
            "_view_module_version": "1.2.0",
            "_view_name": "StyleView",
            "description_width": ""
          }
        },
        "96e785ab02c44b11a945ad6b47ef1efc": {
          "model_module": "@jupyter-widgets/base",
          "model_module_version": "1.2.0",
          "model_name": "LayoutModel",
          "state": {
            "_model_module": "@jupyter-widgets/base",
            "_model_module_version": "1.2.0",
            "_model_name": "LayoutModel",
            "_view_count": null,
            "_view_module": "@jupyter-widgets/base",
            "_view_module_version": "1.2.0",
            "_view_name": "LayoutView",
            "align_content": null,
            "align_items": null,
            "align_self": null,
            "border": null,
            "bottom": null,
            "display": null,
            "flex": null,
            "flex_flow": null,
            "grid_area": null,
            "grid_auto_columns": null,
            "grid_auto_flow": null,
            "grid_auto_rows": null,
            "grid_column": null,
            "grid_gap": null,
            "grid_row": null,
            "grid_template_areas": null,
            "grid_template_columns": null,
            "grid_template_rows": null,
            "height": null,
            "justify_content": null,
            "justify_items": null,
            "left": null,
            "margin": null,
            "max_height": null,
            "max_width": null,
            "min_height": null,
            "min_width": null,
            "object_fit": null,
            "object_position": null,
            "order": null,
            "overflow": null,
            "overflow_x": null,
            "overflow_y": null,
            "padding": null,
            "right": null,
            "top": null,
            "visibility": null,
            "width": null
          }
        },
        "9a2733d3c3924a94801c9cebd44c8a71": {
          "model_module": "@jupyter-widgets/controls",
          "model_module_version": "1.5.0",
          "model_name": "FloatProgressModel",
          "state": {
            "_dom_classes": [],
            "_model_module": "@jupyter-widgets/controls",
            "_model_module_version": "1.5.0",
            "_model_name": "FloatProgressModel",
            "_view_count": null,
            "_view_module": "@jupyter-widgets/controls",
            "_view_module_version": "1.5.0",
            "_view_name": "ProgressView",
            "bar_style": "success",
            "description": "",
            "description_tooltip": null,
            "layout": "IPY_MODEL_7fab3041f5ab483eb3f4ccb3d06310ef",
            "max": 300,
            "min": 0,
            "orientation": "horizontal",
            "style": "IPY_MODEL_f8a8228111514ccc8affe6eca4141046",
            "value": 300
          }
        },
        "a051d529a9ee4bc5aaac9274779bab51": {
          "model_module": "@jupyter-widgets/controls",
          "model_module_version": "1.5.0",
          "model_name": "DescriptionStyleModel",
          "state": {
            "_model_module": "@jupyter-widgets/controls",
            "_model_module_version": "1.5.0",
            "_model_name": "DescriptionStyleModel",
            "_view_count": null,
            "_view_module": "@jupyter-widgets/base",
            "_view_module_version": "1.2.0",
            "_view_name": "StyleView",
            "description_width": ""
          }
        },
        "a16161c1a5df41378ead0ea1a5c91a75": {
          "model_module": "@jupyter-widgets/controls",
          "model_module_version": "1.5.0",
          "model_name": "ProgressStyleModel",
          "state": {
            "_model_module": "@jupyter-widgets/controls",
            "_model_module_version": "1.5.0",
            "_model_name": "ProgressStyleModel",
            "_view_count": null,
            "_view_module": "@jupyter-widgets/base",
            "_view_module_version": "1.2.0",
            "_view_name": "StyleView",
            "bar_color": null,
            "description_width": ""
          }
        },
        "abdd045925044cac8db325b292759c1b": {
          "model_module": "@jupyter-widgets/base",
          "model_module_version": "1.2.0",
          "model_name": "LayoutModel",
          "state": {
            "_model_module": "@jupyter-widgets/base",
            "_model_module_version": "1.2.0",
            "_model_name": "LayoutModel",
            "_view_count": null,
            "_view_module": "@jupyter-widgets/base",
            "_view_module_version": "1.2.0",
            "_view_name": "LayoutView",
            "align_content": null,
            "align_items": null,
            "align_self": null,
            "border": null,
            "bottom": null,
            "display": null,
            "flex": null,
            "flex_flow": null,
            "grid_area": null,
            "grid_auto_columns": null,
            "grid_auto_flow": null,
            "grid_auto_rows": null,
            "grid_column": null,
            "grid_gap": null,
            "grid_row": null,
            "grid_template_areas": null,
            "grid_template_columns": null,
            "grid_template_rows": null,
            "height": null,
            "justify_content": null,
            "justify_items": null,
            "left": null,
            "margin": null,
            "max_height": null,
            "max_width": null,
            "min_height": null,
            "min_width": null,
            "object_fit": null,
            "object_position": null,
            "order": null,
            "overflow": null,
            "overflow_x": null,
            "overflow_y": null,
            "padding": null,
            "right": null,
            "top": null,
            "visibility": null,
            "width": null
          }
        },
        "b42d0990249949419868799bf47b449b": {
          "model_module": "@jupyter-widgets/controls",
          "model_module_version": "1.5.0",
          "model_name": "HTMLModel",
          "state": {
            "_dom_classes": [],
            "_model_module": "@jupyter-widgets/controls",
            "_model_module_version": "1.5.0",
            "_model_name": "HTMLModel",
            "_view_count": null,
            "_view_module": "@jupyter-widgets/controls",
            "_view_module_version": "1.5.0",
            "_view_name": "HTMLView",
            "description": "",
            "description_tooltip": null,
            "layout": "IPY_MODEL_1d2ed0a846b54a48a5ed732733413428",
            "placeholder": "​",
            "style": "IPY_MODEL_567fc273387342ee8c4e078f0dc3f62d",
            "value": "100%"
          }
        },
        "b6c0eb5dca2945cba164532e2986b7e6": {
          "model_module": "@jupyter-widgets/controls",
          "model_module_version": "1.5.0",
          "model_name": "DescriptionStyleModel",
          "state": {
            "_model_module": "@jupyter-widgets/controls",
            "_model_module_version": "1.5.0",
            "_model_name": "DescriptionStyleModel",
            "_view_count": null,
            "_view_module": "@jupyter-widgets/base",
            "_view_module_version": "1.2.0",
            "_view_name": "StyleView",
            "description_width": ""
          }
        },
        "b71cefdb55e741e89546b8a69d8d5868": {
          "model_module": "@jupyter-widgets/controls",
          "model_module_version": "1.5.0",
          "model_name": "ProgressStyleModel",
          "state": {
            "_model_module": "@jupyter-widgets/controls",
            "_model_module_version": "1.5.0",
            "_model_name": "ProgressStyleModel",
            "_view_count": null,
            "_view_module": "@jupyter-widgets/base",
            "_view_module_version": "1.2.0",
            "_view_name": "StyleView",
            "bar_color": null,
            "description_width": ""
          }
        },
        "ba9ca8917cb54a3c88d9c222cadf7b8f": {
          "model_module": "@jupyter-widgets/base",
          "model_module_version": "1.2.0",
          "model_name": "LayoutModel",
          "state": {
            "_model_module": "@jupyter-widgets/base",
            "_model_module_version": "1.2.0",
            "_model_name": "LayoutModel",
            "_view_count": null,
            "_view_module": "@jupyter-widgets/base",
            "_view_module_version": "1.2.0",
            "_view_name": "LayoutView",
            "align_content": null,
            "align_items": null,
            "align_self": null,
            "border": null,
            "bottom": null,
            "display": null,
            "flex": null,
            "flex_flow": null,
            "grid_area": null,
            "grid_auto_columns": null,
            "grid_auto_flow": null,
            "grid_auto_rows": null,
            "grid_column": null,
            "grid_gap": null,
            "grid_row": null,
            "grid_template_areas": null,
            "grid_template_columns": null,
            "grid_template_rows": null,
            "height": null,
            "justify_content": null,
            "justify_items": null,
            "left": null,
            "margin": null,
            "max_height": null,
            "max_width": null,
            "min_height": null,
            "min_width": null,
            "object_fit": null,
            "object_position": null,
            "order": null,
            "overflow": null,
            "overflow_x": null,
            "overflow_y": null,
            "padding": null,
            "right": null,
            "top": null,
            "visibility": null,
            "width": null
          }
        },
        "bb0febb442594545aad9ad30f11f8432": {
          "model_module": "@jupyter-widgets/base",
          "model_module_version": "1.2.0",
          "model_name": "LayoutModel",
          "state": {
            "_model_module": "@jupyter-widgets/base",
            "_model_module_version": "1.2.0",
            "_model_name": "LayoutModel",
            "_view_count": null,
            "_view_module": "@jupyter-widgets/base",
            "_view_module_version": "1.2.0",
            "_view_name": "LayoutView",
            "align_content": null,
            "align_items": null,
            "align_self": null,
            "border": null,
            "bottom": null,
            "display": null,
            "flex": null,
            "flex_flow": null,
            "grid_area": null,
            "grid_auto_columns": null,
            "grid_auto_flow": null,
            "grid_auto_rows": null,
            "grid_column": null,
            "grid_gap": null,
            "grid_row": null,
            "grid_template_areas": null,
            "grid_template_columns": null,
            "grid_template_rows": null,
            "height": null,
            "justify_content": null,
            "justify_items": null,
            "left": null,
            "margin": null,
            "max_height": null,
            "max_width": null,
            "min_height": null,
            "min_width": null,
            "object_fit": null,
            "object_position": null,
            "order": null,
            "overflow": null,
            "overflow_x": null,
            "overflow_y": null,
            "padding": null,
            "right": null,
            "top": null,
            "visibility": null,
            "width": null
          }
        },
        "bbb66a72cbb64730b7a1a957d4d7a20b": {
          "model_module": "@jupyter-widgets/controls",
          "model_module_version": "1.5.0",
          "model_name": "HTMLModel",
          "state": {
            "_dom_classes": [],
            "_model_module": "@jupyter-widgets/controls",
            "_model_module_version": "1.5.0",
            "_model_name": "HTMLModel",
            "_view_count": null,
            "_view_module": "@jupyter-widgets/controls",
            "_view_module_version": "1.5.0",
            "_view_name": "HTMLView",
            "description": "",
            "description_tooltip": null,
            "layout": "IPY_MODEL_901183ad5b334491ba7e006b46bfd0ee",
            "placeholder": "​",
            "style": "IPY_MODEL_3f69f3eec43a4dd992c58ea65f001884",
            "value": " 300/300 [00:51&lt;00:00,  7.77it/s]"
          }
        },
        "bc064f393be64f36b36a8211ddf080bc": {
          "model_module": "@jupyter-widgets/controls",
          "model_module_version": "1.5.0",
          "model_name": "HTMLModel",
          "state": {
            "_dom_classes": [],
            "_model_module": "@jupyter-widgets/controls",
            "_model_module_version": "1.5.0",
            "_model_name": "HTMLModel",
            "_view_count": null,
            "_view_module": "@jupyter-widgets/controls",
            "_view_module_version": "1.5.0",
            "_view_name": "HTMLView",
            "description": "",
            "description_tooltip": null,
            "layout": "IPY_MODEL_3b39acd2369e416490d08acf4bed626b",
            "placeholder": "​",
            "style": "IPY_MODEL_81a7050c72e54394967dd744fdae6abe",
            "value": "tokenizer_config.json: 100%"
          }
        },
        "bdf9df1da29e4911bab8d147b650d10d": {
          "model_module": "@jupyter-widgets/controls",
          "model_module_version": "1.5.0",
          "model_name": "FloatProgressModel",
          "state": {
            "_dom_classes": [],
            "_model_module": "@jupyter-widgets/controls",
            "_model_module_version": "1.5.0",
            "_model_name": "FloatProgressModel",
            "_view_count": null,
            "_view_module": "@jupyter-widgets/controls",
            "_view_module_version": "1.5.0",
            "_view_name": "ProgressView",
            "bar_style": "success",
            "description": "",
            "description_tooltip": null,
            "layout": "IPY_MODEL_cc8abb154de745168235b51b2cb2542a",
            "max": 995526,
            "min": 0,
            "orientation": "horizontal",
            "style": "IPY_MODEL_caba8bb91c7e423ab7dff510003bda65",
            "value": 995526
          }
        },
        "c335892a942843acbb1da8c659750b41": {
          "model_module": "@jupyter-widgets/controls",
          "model_module_version": "1.5.0",
          "model_name": "ProgressStyleModel",
          "state": {
            "_model_module": "@jupyter-widgets/controls",
            "_model_module_version": "1.5.0",
            "_model_name": "ProgressStyleModel",
            "_view_count": null,
            "_view_module": "@jupyter-widgets/base",
            "_view_module_version": "1.2.0",
            "_view_name": "StyleView",
            "bar_color": null,
            "description_width": ""
          }
        },
        "c8e88bb7f1954e7b9ceb790cc56290e1": {
          "model_module": "@jupyter-widgets/controls",
          "model_module_version": "1.5.0",
          "model_name": "HTMLModel",
          "state": {
            "_dom_classes": [],
            "_model_module": "@jupyter-widgets/controls",
            "_model_module_version": "1.5.0",
            "_model_name": "HTMLModel",
            "_view_count": null,
            "_view_module": "@jupyter-widgets/controls",
            "_view_module_version": "1.5.0",
            "_view_name": "HTMLView",
            "description": "",
            "description_tooltip": null,
            "layout": "IPY_MODEL_f562bacc4dd4455581367d77a4d40a0d",
            "placeholder": "​",
            "style": "IPY_MODEL_e9986cda07144b5ea6513c98141c6862",
            "value": "tokenizer.json: 100%"
          }
        },
        "caba8bb91c7e423ab7dff510003bda65": {
          "model_module": "@jupyter-widgets/controls",
          "model_module_version": "1.5.0",
          "model_name": "ProgressStyleModel",
          "state": {
            "_model_module": "@jupyter-widgets/controls",
            "_model_module_version": "1.5.0",
            "_model_name": "ProgressStyleModel",
            "_view_count": null,
            "_view_module": "@jupyter-widgets/base",
            "_view_module_version": "1.2.0",
            "_view_name": "StyleView",
            "bar_color": null,
            "description_width": ""
          }
        },
        "cb22d69c33ac4778b494caf26fafbeea": {
          "model_module": "@jupyter-widgets/base",
          "model_module_version": "1.2.0",
          "model_name": "LayoutModel",
          "state": {
            "_model_module": "@jupyter-widgets/base",
            "_model_module_version": "1.2.0",
            "_model_name": "LayoutModel",
            "_view_count": null,
            "_view_module": "@jupyter-widgets/base",
            "_view_module_version": "1.2.0",
            "_view_name": "LayoutView",
            "align_content": null,
            "align_items": null,
            "align_self": null,
            "border": null,
            "bottom": null,
            "display": null,
            "flex": null,
            "flex_flow": null,
            "grid_area": null,
            "grid_auto_columns": null,
            "grid_auto_flow": null,
            "grid_auto_rows": null,
            "grid_column": null,
            "grid_gap": null,
            "grid_row": null,
            "grid_template_areas": null,
            "grid_template_columns": null,
            "grid_template_rows": null,
            "height": null,
            "justify_content": null,
            "justify_items": null,
            "left": null,
            "margin": null,
            "max_height": null,
            "max_width": null,
            "min_height": null,
            "min_width": null,
            "object_fit": null,
            "object_position": null,
            "order": null,
            "overflow": null,
            "overflow_x": null,
            "overflow_y": null,
            "padding": null,
            "right": null,
            "top": null,
            "visibility": null,
            "width": null
          }
        },
        "cc8abb154de745168235b51b2cb2542a": {
          "model_module": "@jupyter-widgets/base",
          "model_module_version": "1.2.0",
          "model_name": "LayoutModel",
          "state": {
            "_model_module": "@jupyter-widgets/base",
            "_model_module_version": "1.2.0",
            "_model_name": "LayoutModel",
            "_view_count": null,
            "_view_module": "@jupyter-widgets/base",
            "_view_module_version": "1.2.0",
            "_view_name": "LayoutView",
            "align_content": null,
            "align_items": null,
            "align_self": null,
            "border": null,
            "bottom": null,
            "display": null,
            "flex": null,
            "flex_flow": null,
            "grid_area": null,
            "grid_auto_columns": null,
            "grid_auto_flow": null,
            "grid_auto_rows": null,
            "grid_column": null,
            "grid_gap": null,
            "grid_row": null,
            "grid_template_areas": null,
            "grid_template_columns": null,
            "grid_template_rows": null,
            "height": null,
            "justify_content": null,
            "justify_items": null,
            "left": null,
            "margin": null,
            "max_height": null,
            "max_width": null,
            "min_height": null,
            "min_width": null,
            "object_fit": null,
            "object_position": null,
            "order": null,
            "overflow": null,
            "overflow_x": null,
            "overflow_y": null,
            "padding": null,
            "right": null,
            "top": null,
            "visibility": null,
            "width": null
          }
        },
        "cfc2a03ad57f4ca4ab575770020f5769": {
          "model_module": "@jupyter-widgets/base",
          "model_module_version": "1.2.0",
          "model_name": "LayoutModel",
          "state": {
            "_model_module": "@jupyter-widgets/base",
            "_model_module_version": "1.2.0",
            "_model_name": "LayoutModel",
            "_view_count": null,
            "_view_module": "@jupyter-widgets/base",
            "_view_module_version": "1.2.0",
            "_view_name": "LayoutView",
            "align_content": null,
            "align_items": null,
            "align_self": null,
            "border": null,
            "bottom": null,
            "display": null,
            "flex": null,
            "flex_flow": null,
            "grid_area": null,
            "grid_auto_columns": null,
            "grid_auto_flow": null,
            "grid_auto_rows": null,
            "grid_column": null,
            "grid_gap": null,
            "grid_row": null,
            "grid_template_areas": null,
            "grid_template_columns": null,
            "grid_template_rows": null,
            "height": null,
            "justify_content": null,
            "justify_items": null,
            "left": null,
            "margin": null,
            "max_height": null,
            "max_width": null,
            "min_height": null,
            "min_width": null,
            "object_fit": null,
            "object_position": null,
            "order": null,
            "overflow": null,
            "overflow_x": null,
            "overflow_y": null,
            "padding": null,
            "right": null,
            "top": null,
            "visibility": null,
            "width": null
          }
        },
        "d073608a408946dfbd0192193527e9f9": {
          "model_module": "@jupyter-widgets/base",
          "model_module_version": "1.2.0",
          "model_name": "LayoutModel",
          "state": {
            "_model_module": "@jupyter-widgets/base",
            "_model_module_version": "1.2.0",
            "_model_name": "LayoutModel",
            "_view_count": null,
            "_view_module": "@jupyter-widgets/base",
            "_view_module_version": "1.2.0",
            "_view_name": "LayoutView",
            "align_content": null,
            "align_items": null,
            "align_self": null,
            "border": null,
            "bottom": null,
            "display": null,
            "flex": null,
            "flex_flow": null,
            "grid_area": null,
            "grid_auto_columns": null,
            "grid_auto_flow": null,
            "grid_auto_rows": null,
            "grid_column": null,
            "grid_gap": null,
            "grid_row": null,
            "grid_template_areas": null,
            "grid_template_columns": null,
            "grid_template_rows": null,
            "height": null,
            "justify_content": null,
            "justify_items": null,
            "left": null,
            "margin": null,
            "max_height": null,
            "max_width": null,
            "min_height": null,
            "min_width": null,
            "object_fit": null,
            "object_position": null,
            "order": null,
            "overflow": null,
            "overflow_x": null,
            "overflow_y": null,
            "padding": null,
            "right": null,
            "top": null,
            "visibility": null,
            "width": null
          }
        },
        "d2bce1ab3b104dd684018841978ee982": {
          "model_module": "@jupyter-widgets/controls",
          "model_module_version": "1.5.0",
          "model_name": "HBoxModel",
          "state": {
            "_dom_classes": [],
            "_model_module": "@jupyter-widgets/controls",
            "_model_module_version": "1.5.0",
            "_model_name": "HBoxModel",
            "_view_count": null,
            "_view_module": "@jupyter-widgets/controls",
            "_view_module_version": "1.5.0",
            "_view_name": "HBoxView",
            "box_style": "",
            "children": [
              "IPY_MODEL_935dae2b827f40cdbc35daf1938970be",
              "IPY_MODEL_bdf9df1da29e4911bab8d147b650d10d",
              "IPY_MODEL_22015f7422674a8d94b7cd104ad8444d"
            ],
            "layout": "IPY_MODEL_504c2b743ace4d4c8bbbe6020631bca3"
          }
        },
        "d60c23a4698d464cb82faf274fc07ec5": {
          "model_module": "@jupyter-widgets/base",
          "model_module_version": "1.2.0",
          "model_name": "LayoutModel",
          "state": {
            "_model_module": "@jupyter-widgets/base",
            "_model_module_version": "1.2.0",
            "_model_name": "LayoutModel",
            "_view_count": null,
            "_view_module": "@jupyter-widgets/base",
            "_view_module_version": "1.2.0",
            "_view_name": "LayoutView",
            "align_content": null,
            "align_items": null,
            "align_self": null,
            "border": null,
            "bottom": null,
            "display": null,
            "flex": null,
            "flex_flow": null,
            "grid_area": null,
            "grid_auto_columns": null,
            "grid_auto_flow": null,
            "grid_auto_rows": null,
            "grid_column": null,
            "grid_gap": null,
            "grid_row": null,
            "grid_template_areas": null,
            "grid_template_columns": null,
            "grid_template_rows": null,
            "height": null,
            "justify_content": null,
            "justify_items": null,
            "left": null,
            "margin": null,
            "max_height": null,
            "max_width": null,
            "min_height": null,
            "min_width": null,
            "object_fit": null,
            "object_position": null,
            "order": null,
            "overflow": null,
            "overflow_x": null,
            "overflow_y": null,
            "padding": null,
            "right": null,
            "top": null,
            "visibility": null,
            "width": null
          }
        },
        "de1ebf0b024c42f88539d89c42810e46": {
          "model_module": "@jupyter-widgets/base",
          "model_module_version": "1.2.0",
          "model_name": "LayoutModel",
          "state": {
            "_model_module": "@jupyter-widgets/base",
            "_model_module_version": "1.2.0",
            "_model_name": "LayoutModel",
            "_view_count": null,
            "_view_module": "@jupyter-widgets/base",
            "_view_module_version": "1.2.0",
            "_view_name": "LayoutView",
            "align_content": null,
            "align_items": null,
            "align_self": null,
            "border": null,
            "bottom": null,
            "display": null,
            "flex": null,
            "flex_flow": null,
            "grid_area": null,
            "grid_auto_columns": null,
            "grid_auto_flow": null,
            "grid_auto_rows": null,
            "grid_column": null,
            "grid_gap": null,
            "grid_row": null,
            "grid_template_areas": null,
            "grid_template_columns": null,
            "grid_template_rows": null,
            "height": null,
            "justify_content": null,
            "justify_items": null,
            "left": null,
            "margin": null,
            "max_height": null,
            "max_width": null,
            "min_height": null,
            "min_width": null,
            "object_fit": null,
            "object_position": null,
            "order": null,
            "overflow": null,
            "overflow_x": null,
            "overflow_y": null,
            "padding": null,
            "right": null,
            "top": null,
            "visibility": null,
            "width": null
          }
        },
        "e9986cda07144b5ea6513c98141c6862": {
          "model_module": "@jupyter-widgets/controls",
          "model_module_version": "1.5.0",
          "model_name": "DescriptionStyleModel",
          "state": {
            "_model_module": "@jupyter-widgets/controls",
            "_model_module_version": "1.5.0",
            "_model_name": "DescriptionStyleModel",
            "_view_count": null,
            "_view_module": "@jupyter-widgets/base",
            "_view_module_version": "1.2.0",
            "_view_name": "StyleView",
            "description_width": ""
          }
        },
        "ee95400f67204604b55fbf9ce8ce7612": {
          "model_module": "@jupyter-widgets/base",
          "model_module_version": "1.2.0",
          "model_name": "LayoutModel",
          "state": {
            "_model_module": "@jupyter-widgets/base",
            "_model_module_version": "1.2.0",
            "_model_name": "LayoutModel",
            "_view_count": null,
            "_view_module": "@jupyter-widgets/base",
            "_view_module_version": "1.2.0",
            "_view_name": "LayoutView",
            "align_content": null,
            "align_items": null,
            "align_self": null,
            "border": null,
            "bottom": null,
            "display": null,
            "flex": null,
            "flex_flow": null,
            "grid_area": null,
            "grid_auto_columns": null,
            "grid_auto_flow": null,
            "grid_auto_rows": null,
            "grid_column": null,
            "grid_gap": null,
            "grid_row": null,
            "grid_template_areas": null,
            "grid_template_columns": null,
            "grid_template_rows": null,
            "height": null,
            "justify_content": null,
            "justify_items": null,
            "left": null,
            "margin": null,
            "max_height": null,
            "max_width": null,
            "min_height": null,
            "min_width": null,
            "object_fit": null,
            "object_position": null,
            "order": null,
            "overflow": null,
            "overflow_x": null,
            "overflow_y": null,
            "padding": null,
            "right": null,
            "top": null,
            "visibility": null,
            "width": null
          }
        },
        "f562bacc4dd4455581367d77a4d40a0d": {
          "model_module": "@jupyter-widgets/base",
          "model_module_version": "1.2.0",
          "model_name": "LayoutModel",
          "state": {
            "_model_module": "@jupyter-widgets/base",
            "_model_module_version": "1.2.0",
            "_model_name": "LayoutModel",
            "_view_count": null,
            "_view_module": "@jupyter-widgets/base",
            "_view_module_version": "1.2.0",
            "_view_name": "LayoutView",
            "align_content": null,
            "align_items": null,
            "align_self": null,
            "border": null,
            "bottom": null,
            "display": null,
            "flex": null,
            "flex_flow": null,
            "grid_area": null,
            "grid_auto_columns": null,
            "grid_auto_flow": null,
            "grid_auto_rows": null,
            "grid_column": null,
            "grid_gap": null,
            "grid_row": null,
            "grid_template_areas": null,
            "grid_template_columns": null,
            "grid_template_rows": null,
            "height": null,
            "justify_content": null,
            "justify_items": null,
            "left": null,
            "margin": null,
            "max_height": null,
            "max_width": null,
            "min_height": null,
            "min_width": null,
            "object_fit": null,
            "object_position": null,
            "order": null,
            "overflow": null,
            "overflow_x": null,
            "overflow_y": null,
            "padding": null,
            "right": null,
            "top": null,
            "visibility": null,
            "width": null
          }
        },
        "f84661f762624971af5f7c9b9455c31f": {
          "model_module": "@jupyter-widgets/controls",
          "model_module_version": "1.5.0",
          "model_name": "HTMLModel",
          "state": {
            "_dom_classes": [],
            "_model_module": "@jupyter-widgets/controls",
            "_model_module_version": "1.5.0",
            "_model_name": "HTMLModel",
            "_view_count": null,
            "_view_module": "@jupyter-widgets/controls",
            "_view_module_version": "1.5.0",
            "_view_name": "HTMLView",
            "description": "",
            "description_tooltip": null,
            "layout": "IPY_MODEL_ba9ca8917cb54a3c88d9c222cadf7b8f",
            "placeholder": "​",
            "style": "IPY_MODEL_a051d529a9ee4bc5aaac9274779bab51",
            "value": "100%"
          }
        },
        "f8a8228111514ccc8affe6eca4141046": {
          "model_module": "@jupyter-widgets/controls",
          "model_module_version": "1.5.0",
          "model_name": "ProgressStyleModel",
          "state": {
            "_model_module": "@jupyter-widgets/controls",
            "_model_module_version": "1.5.0",
            "_model_name": "ProgressStyleModel",
            "_view_count": null,
            "_view_module": "@jupyter-widgets/base",
            "_view_module_version": "1.2.0",
            "_view_name": "StyleView",
            "bar_color": null,
            "description_width": ""
          }
        },
        "fa091295b4244dd696aeb7af453e5632": {
          "model_module": "@jupyter-widgets/controls",
          "model_module_version": "1.5.0",
          "model_name": "HTMLModel",
          "state": {
            "_dom_classes": [],
            "_model_module": "@jupyter-widgets/controls",
            "_model_module_version": "1.5.0",
            "_model_name": "HTMLModel",
            "_view_count": null,
            "_view_module": "@jupyter-widgets/controls",
            "_view_module_version": "1.5.0",
            "_view_name": "HTMLView",
            "description": "",
            "description_tooltip": null,
            "layout": "IPY_MODEL_569056193cfb4a6780a46199a34b8eb9",
            "placeholder": "​",
            "style": "IPY_MODEL_ff7748613de5470cba4ea78e2f991f7e",
            "value": " 300/300 [01:08&lt;00:00,  5.35it/s]"
          }
        },
        "fc406d127cff4d8ba2a379da614bc593": {
          "model_module": "@jupyter-widgets/controls",
          "model_module_version": "1.5.0",
          "model_name": "DescriptionStyleModel",
          "state": {
            "_model_module": "@jupyter-widgets/controls",
            "_model_module_version": "1.5.0",
            "_model_name": "DescriptionStyleModel",
            "_view_count": null,
            "_view_module": "@jupyter-widgets/base",
            "_view_module_version": "1.2.0",
            "_view_name": "StyleView",
            "description_width": ""
          }
        },
        "ff7748613de5470cba4ea78e2f991f7e": {
          "model_module": "@jupyter-widgets/controls",
          "model_module_version": "1.5.0",
          "model_name": "DescriptionStyleModel",
          "state": {
            "_model_module": "@jupyter-widgets/controls",
            "_model_module_version": "1.5.0",
            "_model_name": "DescriptionStyleModel",
            "_view_count": null,
            "_view_module": "@jupyter-widgets/base",
            "_view_module_version": "1.2.0",
            "_view_name": "StyleView",
            "description_width": ""
          }
        }
      }
    }
  },
  "nbformat": 4,
  "nbformat_minor": 0
}
